{
 "cells": [
  {
   "cell_type": "markdown",
   "metadata": {
    "id": "lwa8ekWweWq-"
   },
   "source": [
    "# Tutorial 11: DeepWalk and node2vec - Implementation details\n",
    "  \n",
    "\n",
    "Paper:\n",
    "* [DeepWalk: Online Learning of Social Representation](https://arxiv.org/pdf/1403.6652.pdf)  \n",
    "* [node2vec: Scalable Feature Learning for Networks](https://arxiv.org/pdf/1607.00653.pdf)  \n",
    "\n",
    "Code:\n",
    "\n",
    " * [node2vec doc](https://pytorch-geometric.readthedocs.io/en/latest/modules/nn.html?highlight=node2vec#torch_geometric.nn.models.Node2Vec)\n",
    " * [node2vec code](https://pytorch-geometric.readthedocs.io/en/latest/_modules/torch_geometric/nn/models/node2vec.html)\n",
    " * [Example on clustering](https://github.com/rusty1s/pytorch_geometric/blob/master/examples/node2vec.py)"
   ]
  },
  {
   "cell_type": "markdown",
   "metadata": {
    "id": "OvlasjO6eWq_"
   },
   "source": [
    "# Setup"
   ]
  },
  {
   "cell_type": "code",
   "execution_count": 5,
   "metadata": {
    "id": "z6SgqI66eWrB"
   },
   "outputs": [],
   "source": [
    "import torch\n",
    "import torch_cluster\n",
    "from torch_geometric.nn import Node2Vec\n",
    "from torch_geometric.datasets import Planetoid\n",
    "from tqdm.notebook import tqdm\n",
    "\n",
    "import ogb\n",
    "# print(ogb.__version__)\n",
    "\n",
    "import matplotlib.pyplot as plt\n",
    "import plotly.express as px\n",
    "import pandas as pd\n",
    "import optuna\n",
    "from sklearn.manifold import TSNE\n",
    "\n",
    "import time\n",
    "import json\n",
    "import os.path as osp\n",
    "from pprint import pprint\n",
    "\n",
    "from graph_lib import print_graph_info\n",
    "from graph_lib import pyg_graph_data_visualizer\n"
   ]
  },
  {
   "cell_type": "code",
   "execution_count": 6,
   "metadata": {
    "id": "OOrgpU--eWrB"
   },
   "outputs": [
    {
     "name": "stdout",
     "output_type": "stream",
     "text": [
      "Data(x=[2708, 1433], edge_index=[2, 10556], y=[2708], train_mask=[2708], val_mask=[2708], test_mask=[2708])\n"
     ]
    }
   ],
   "source": [
    "dataset = 'Cora'\n",
    "path = osp.join('.', 'data', dataset)\n",
    "dataset = Planetoid(path, dataset)\n",
    "data = dataset[0]\n",
    "print(data)\n",
    "#print(len(dataset))"
   ]
  },
  {
   "cell_type": "code",
   "execution_count": null,
   "metadata": {},
   "outputs": [
    {
     "name": "stderr",
     "output_type": "stream",
     "text": [
      "C:\\Users\\csaba\\AppData\\Local\\Temp\\ipykernel_6808\\4164930637.py:9: FutureWarning: You are using `torch.load` with `weights_only=False` (the current default value), which uses the default pickle module implicitly. It is possible to construct malicious pickle data which will execute arbitrary code during unpickling (See https://github.com/pytorch/pytorch/blob/main/SECURITY.md#untrusted-models for more details). In a future release, the default value for `weights_only` will be flipped to `True`. This limits the functions that could be executed during unpickling. Arbitrary objects will no longer be allowed to be loaded via this mode unless they are explicitly allowlisted by the user via `torch.serialization.add_safe_globals`. We recommend you start setting `weights_only=True` for any use case where you don't have full control of the loaded file. Please open an issue on GitHub for any issues related to this experimental feature.\n",
      "  model.load_state_dict(torch.load('node2vec_model.pth'))\n"
     ]
    },
    {
     "data": {
      "text/plain": [
       "Node2Vec(2708, 128)"
      ]
     },
     "execution_count": 7,
     "metadata": {},
     "output_type": "execute_result"
    }
   ],
   "source": [
    "model = Node2Vec(data.edge_index, embedding_dim=128,\n",
    "                 walk_length=20,                        # lenght of rw\n",
    "                 context_size=10, walks_per_node=20,\n",
    "                 num_negative_samples=1,\n",
    "                 p=200, q=1,                             # bias parameters\n",
    "                 sparse=True)\n",
    "\n",
    "try:\n",
    "    model.load_state_dict(torch.load('node2vec_model.pth'))\n",
    "except RuntimeError as e:\n",
    "    print(f\"RuntimeError: {e}\")\n",
    "# Set the model to \n",
    "# \n",
    "# ation mode if you are not training it further\n",
    "model.eval()"
   ]
  },
  {
   "cell_type": "code",
   "execution_count": 8,
   "metadata": {},
   "outputs": [
    {
     "name": "stdout",
     "output_type": "stream",
     "text": [
      "Type:  <class 'torch_geometric.datasets.planetoid.Planetoid'>\n",
      "Number of graphs:  1\n",
      "Cora()\n",
      "Keys of the data object: ['x', 'val_mask', 'test_mask', 'train_mask', 'edge_index', 'y']\n",
      "\n",
      "Has isolated nodes: False\n",
      "Has self loops: False\n",
      "Is directed: False\n",
      "\n",
      "Number of nodes: 2708\n",
      "Number of edges: 10556\n",
      "Average node degree: 3.90\n",
      "Number of node features: 1433\n",
      "Number of edge features: 0\n",
      "Number of classes: 7\n"
     ]
    }
   ],
   "source": [
    "print_graph_info(dataset)"
   ]
  },
  {
   "cell_type": "code",
   "execution_count": 9,
   "metadata": {},
   "outputs": [
    {
     "name": "stdout",
     "output_type": "stream",
     "text": [
      "Type:  <class 'torch_geometric.data.data.Data'>\n",
      "Data(x=[2708, 1433], edge_index=[2, 10556], y=[2708], train_mask=[2708], val_mask=[2708], test_mask=[2708])\n",
      "Keys of the data object: ['x', 'val_mask', 'test_mask', 'train_mask', 'edge_index', 'y']\n",
      "\n",
      "Has isolated nodes: False\n",
      "Has self loops: False\n",
      "Is directed: False\n",
      "\n",
      "Number of nodes: 2708\n",
      "Number of edges: 10556\n",
      "Average node degree: 3.90\n",
      "Number of node features: 1433\n",
      "Number of edge features: 0\n",
      "AttributeError: 'GlobalStorage' object has no attribute 'num_classes'\n"
     ]
    }
   ],
   "source": [
    "print_graph_info(dataset[0])"
   ]
  },
  {
   "cell_type": "markdown",
   "metadata": {},
   "source": []
  },
  {
   "cell_type": "code",
   "execution_count": 10,
   "metadata": {},
   "outputs": [],
   "source": [
    "# pprint([x for x in dir(data) if '_' != x[0]])"
   ]
  },
  {
   "cell_type": "markdown",
   "metadata": {
    "id": "ZbbjOSnzeWrC"
   },
   "source": [
    "# Random walks"
   ]
  },
  {
   "cell_type": "markdown",
   "metadata": {
    "id": "KPEVzl7_eWrD"
   },
   "source": [
    "### The data loader"
   ]
  },
  {
   "cell_type": "code",
   "execution_count": 11,
   "metadata": {
    "id": "Q5naXua_eWrE"
   },
   "outputs": [
    {
     "data": {
      "text/plain": [
       "28160"
      ]
     },
     "execution_count": 11,
     "metadata": {},
     "output_type": "execute_result"
    }
   ],
   "source": [
    "loader = model.loader(batch_size=128, shuffle=True, num_workers=0) \n",
    "# 128*20 random walks per batch. 20 is the number of walks per node\n",
    "# The number of elements in each batch isn't `batch_size * walks_per_node`. \n",
    "# The correct computation is: `(walk_length - context_size + 1) * walks_per_node * batch_size`. \n",
    "# The first term is the number of possible walks of `context_size` in `context_length`.\n",
    "\n",
    "(20-10+1)*20*128"
   ]
  },
  {
   "cell_type": "code",
   "execution_count": 12,
   "metadata": {
    "id": "U0pmbt__eWrF"
   },
   "outputs": [
    {
     "name": "stdout",
     "output_type": "stream",
     "text": [
      "0 torch.Size([28160, 10]) torch.Size([28160, 10])\n",
      "1 torch.Size([28160, 10]) torch.Size([28160, 10])\n",
      "2 torch.Size([28160, 10]) torch.Size([28160, 10])\n",
      "3 torch.Size([28160, 10]) torch.Size([28160, 10])\n",
      "4 torch.Size([28160, 10]) torch.Size([28160, 10])\n",
      "5 torch.Size([28160, 10]) torch.Size([28160, 10])\n",
      "6 torch.Size([28160, 10]) torch.Size([28160, 10])\n",
      "7 torch.Size([28160, 10]) torch.Size([28160, 10])\n",
      "8 torch.Size([28160, 10]) torch.Size([28160, 10])\n",
      "9 torch.Size([28160, 10]) torch.Size([28160, 10])\n",
      "10 torch.Size([28160, 10]) torch.Size([28160, 10])\n"
     ]
    },
    {
     "name": "stdout",
     "output_type": "stream",
     "text": [
      "11 torch.Size([28160, 10]) torch.Size([28160, 10])\n",
      "12 torch.Size([28160, 10]) torch.Size([28160, 10])\n",
      "13 torch.Size([28160, 10]) torch.Size([28160, 10])\n",
      "14 torch.Size([28160, 10]) torch.Size([28160, 10])\n",
      "15 torch.Size([28160, 10]) torch.Size([28160, 10])\n",
      "16 torch.Size([28160, 10]) torch.Size([28160, 10])\n",
      "17 torch.Size([28160, 10]) torch.Size([28160, 10])\n",
      "18 torch.Size([28160, 10]) torch.Size([28160, 10])\n",
      "19 torch.Size([28160, 10]) torch.Size([28160, 10])\n",
      "20 torch.Size([28160, 10]) torch.Size([28160, 10])\n",
      "21 torch.Size([4400, 10]) torch.Size([4400, 10])\n"
     ]
    }
   ],
   "source": [
    "for idx, (pos_rw, neg_rw) in enumerate(loader):\n",
    "    print(idx, pos_rw.shape, neg_rw.shape)\n",
    "\n",
    "# positve and negative batches, 28160 sample or context, 10 is the context size "
   ]
  },
  {
   "cell_type": "code",
   "execution_count": 13,
   "metadata": {
    "id": "qTJoPDOfeWrG"
   },
   "outputs": [],
   "source": [
    "idx, (pos_rw, neg_rw) = next(enumerate(loader))"
   ]
  },
  {
   "cell_type": "code",
   "execution_count": 14,
   "metadata": {
    "id": "qEaWsb0-eWrH"
   },
   "outputs": [
    {
     "data": {
      "text/plain": [
       "0"
      ]
     },
     "execution_count": 14,
     "metadata": {},
     "output_type": "execute_result"
    }
   ],
   "source": [
    "idx"
   ]
  },
  {
   "cell_type": "code",
   "execution_count": 15,
   "metadata": {
    "id": "IEiZtBtUeWrH"
   },
   "outputs": [
    {
     "data": {
      "text/plain": [
       "(torch.Size([28160, 10]), torch.Size([28160, 10]))"
      ]
     },
     "execution_count": 15,
     "metadata": {},
     "output_type": "execute_result"
    }
   ],
   "source": [
    "(pos_rw.shape, neg_rw.shape)"
   ]
  },
  {
   "cell_type": "code",
   "execution_count": 16,
   "metadata": {
    "id": "siEnTLc_eWrH"
   },
   "outputs": [
    {
     "data": {
      "text/plain": [
       "tensor([[2523,  867, 2442,  ..., 1715, 1154, 2514],\n",
       "        [2651,  105, 2476,  ..., 1209,   64, 2616],\n",
       "        [2189,   69, 1926,  ..., 2052, 1926, 1920],\n",
       "        ...,\n",
       "        [ 462, 1048,  462,  ..., 1048,  462, 1048],\n",
       "        [1652,  498,  323,  ...,   88, 1288, 1309],\n",
       "        [ 490, 1309, 1288,  ...,  279,  242,  838]])"
      ]
     },
     "execution_count": 16,
     "metadata": {},
     "output_type": "execute_result"
    }
   ],
   "source": [
    "pos_rw # one context is starting from 1826 node then 448 etc, its 10 long"
   ]
  },
  {
   "cell_type": "code",
   "execution_count": 17,
   "metadata": {
    "id": "4Dqe8tZqeWrH"
   },
   "outputs": [
    {
     "data": {
      "text/plain": [
       "tensor([[2523, 2017, 1069,  ...,  515, 2115,  167],\n",
       "        [2651, 2202, 1280,  ...,  960, 1590,  398],\n",
       "        [2189,  164,  128,  ...,  437, 1733, 1854],\n",
       "        ...,\n",
       "        [1211, 1877, 1382,  ...,  273, 2346,  468],\n",
       "        [2370, 1903, 1821,  ..., 1039,  908,  336],\n",
       "        [ 536,  880, 2657,  ..., 1027,  644, 2152]])"
      ]
     },
     "execution_count": 17,
     "metadata": {},
     "output_type": "execute_result"
    }
   ],
   "source": [
    "neg_rw"
   ]
  },
  {
   "cell_type": "markdown",
   "metadata": {
    "id": "Umzg7MXGeWrI"
   },
   "source": [
    "### Visualization"
   ]
  },
  {
   "cell_type": "code",
   "execution_count": 18,
   "metadata": {
    "id": "6Uvz_KK2eWrI"
   },
   "outputs": [],
   "source": [
    "import networkx as nx\n",
    "edge_tuples = [tuple(x) for x in data.edge_index.numpy().transpose()]\n",
    "G = nx.from_edgelist(edge_tuples)\n",
    "pos = nx.spring_layout(G, center=[0.5, 0.5])\n",
    "nx.set_node_attributes(G, pos, 'pos')"
   ]
  },
  {
   "cell_type": "code",
   "execution_count": 19,
   "metadata": {
    "id": "DYoEleiAeWrI"
   },
   "outputs": [
    {
     "data": {
      "image/png": "[encoded data removed]",
      "text/plain": [
       "<Figure size 2000x1000 with 2 Axes>"
      ]
     },
     "metadata": {},
     "output_type": "display_data"
    }
   ],
   "source": [
    "nodelist = next(enumerate(loader))[1][0][0].tolist()\n",
    "walk = nx.path_graph(len(nodelist)) # one positive context\n",
    "# walk = nx.relabel_nodes(walk, {idx: node_id for idx, node_id in enumerate(nodelist)})\n",
    "nx.set_node_attributes(walk, {idx: pos[node_id] for idx, node_id in enumerate(nodelist)}, 'pos')\n",
    "\n",
    "fig = plt.figure(figsize=(20, 10))\n",
    "ax = fig.add_subplot(1, 2, 1)\n",
    "nx.draw_networkx_nodes(G,\n",
    "                       ax=ax,\n",
    "                       pos=nx.get_node_attributes(G, 'pos'),\n",
    "                       node_size=5,\n",
    "                       alpha=0.3,\n",
    "                       node_color='b')\n",
    "nx.draw(walk,\n",
    "        node_size=40,\n",
    "        node_color='r',\n",
    "        ax=ax,\n",
    "        pos=nx.get_node_attributes(walk, 'pos'),\n",
    "        width=2,\n",
    "        edge_color='r')\n",
    "ax = fig.add_subplot(1, 2, 2)\n",
    "nx.draw(walk,\n",
    "        node_size=40,\n",
    "        node_color='r',\n",
    "        ax=ax,\n",
    "        pos=nx.get_node_attributes(walk, 'pos'),\n",
    "        width=2,\n",
    "        edge_color='r')"
   ]
  },
  {
   "cell_type": "markdown",
   "metadata": {
    "id": "Zr0LCUibeWrI"
   },
   "source": [
    "# Training"
   ]
  },
  {
   "cell_type": "markdown",
   "metadata": {
    "id": "P-VhCnGleWrI"
   },
   "source": [
    "### Model definition"
   ]
  },
  {
   "cell_type": "code",
   "execution_count": 20,
   "metadata": {
    "id": "WhAkFe8leWrI"
   },
   "outputs": [],
   "source": [
    "device = 'cuda' if torch.cuda.is_available() else 'cpu'\n",
    "\n",
    "model = Node2Vec(data.edge_index, embedding_dim=128, walk_length=20,\n",
    "                 context_size=10, walks_per_node=20,\n",
    "                 num_negative_samples=1, p=1, q=1, sparse=True).to(device)\n",
    "\n",
    "# return parameter p\n",
    "# in-out parameter q\n",
    "\n",
    "loader = model.loader(batch_size=128, shuffle=True, num_workers=0) \n",
    "# num_workers=0 is necessary for Windows\n",
    "optimizer = torch.optim.SparseAdam(list(model.parameters()), lr=0.01)"
   ]
  },
  {
   "cell_type": "markdown",
   "metadata": {
    "id": "_VKYupr_eWrJ"
   },
   "source": [
    "### Training function"
   ]
  },
  {
   "cell_type": "code",
   "execution_count": 21,
   "metadata": {
    "id": "OAWZB8BMeWrJ"
   },
   "outputs": [],
   "source": [
    "def train():\n",
    "    model.train()\n",
    "    total_loss = 0\n",
    "    for pos_rw, neg_rw in tqdm(loader): \n",
    "        optimizer.zero_grad()\n",
    "        loss = model.loss(pos_rw.to(device), neg_rw.to(device))\n",
    "        loss.backward()\n",
    "        optimizer.step()\n",
    "        total_loss += loss.item()\n",
    "    return total_loss / len(loader)"
   ]
  },
  {
   "cell_type": "markdown",
   "metadata": {
    "id": "1YIWidmgeWrJ"
   },
   "source": [
    "### Test function"
   ]
  },
  {
   "cell_type": "code",
   "execution_count": 22,
   "metadata": {
    "id": "heOi7o5ieWrJ"
   },
   "outputs": [
    {
     "data": {
      "text/plain": [
       "Data(x=[2708, 1433], edge_index=[2, 10556], y=[2708], train_mask=[2708], val_mask=[2708], test_mask=[2708])"
      ]
     },
     "execution_count": 22,
     "metadata": {},
     "output_type": "execute_result"
    }
   ],
   "source": [
    "data"
   ]
  },
  {
   "cell_type": "code",
   "execution_count": 23,
   "metadata": {
    "id": "4U63M4yseWrJ"
   },
   "outputs": [
    {
     "data": {
      "text/plain": [
       "tensor([3, 4, 4,  ..., 3, 3, 3])"
      ]
     },
     "execution_count": 23,
     "metadata": {},
     "output_type": "execute_result"
    }
   ],
   "source": [
    "data.y"
   ]
  },
  {
   "cell_type": "code",
   "execution_count": 24,
   "metadata": {
    "id": "Lmp9zoNveWrJ"
   },
   "outputs": [
    {
     "data": {
      "text/plain": [
       "tensor([0, 1, 2, 3, 4, 5, 6])"
      ]
     },
     "execution_count": 24,
     "metadata": {},
     "output_type": "execute_result"
    }
   ],
   "source": [
    "data.y.unique()"
   ]
  },
  {
   "cell_type": "code",
   "execution_count": 25,
   "metadata": {
    "id": "huDJnTIyeWrJ"
   },
   "outputs": [],
   "source": [
    "@torch.no_grad()\n",
    "def test():\n",
    "    model.eval()\n",
    "    z = model()\n",
    "    acc = model.test(z[data.train_mask], data.y[data.train_mask],\n",
    "                     z[data.test_mask], data.y[data.test_mask],\n",
    "                     max_iter=150)\n",
    "    return acc"
   ]
  },
  {
   "cell_type": "markdown",
   "metadata": {
    "id": "CEVJv9haeWrK"
   },
   "source": [
    "### Training"
   ]
  },
  {
   "cell_type": "code",
   "execution_count": 26,
   "metadata": {},
   "outputs": [
    {
     "name": "stdout",
     "output_type": "stream",
     "text": [
      "Data(x=[2708, 1433], edge_index=[2, 10556], y=[2708], train_mask=[2708], val_mask=[2708], test_mask=[2708])\n"
     ]
    }
   ],
   "source": [
    "print(data)"
   ]
  },
  {
   "cell_type": "code",
   "execution_count": 27,
   "metadata": {
    "id": "tZ2U5QIKeWrK"
   },
   "outputs": [
    {
     "data": {
      "application/vnd.jupyter.widget-view+json": {
       "model_id": "d5d17e4d487a4fef8469e62c56512e68",
       "version_major": 2,
       "version_minor": 0
      },
      "text/plain": [
       "  0%|          | 0/22 [00:00<?, ?it/s]"
      ]
     },
     "metadata": {},
     "output_type": "display_data"
    },
    {
     "name": "stdout",
     "output_type": "stream",
     "text": [
      "Epoch: 01, Loss: 7.9477, Acc: 0.1680\n",
      "Last epoch duration: 30.52 seconds\n"
     ]
    },
    {
     "data": {
      "application/vnd.jupyter.widget-view+json": {
       "model_id": "973cbba6db854de0a5093127b39854c2",
       "version_major": 2,
       "version_minor": 0
      },
      "text/plain": [
       "  0%|          | 0/22 [00:00<?, ?it/s]"
      ]
     },
     "metadata": {},
     "output_type": "display_data"
    },
    {
     "name": "stdout",
     "output_type": "stream",
     "text": [
      "Epoch: 02, Loss: 5.7682, Acc: 0.1980\n",
      "Last epoch duration: 28.13 seconds\n"
     ]
    },
    {
     "data": {
      "application/vnd.jupyter.widget-view+json": {
       "model_id": "da74d8908d4e4482ac1e8a4718fe2ec2",
       "version_major": 2,
       "version_minor": 0
      },
      "text/plain": [
       "  0%|          | 0/22 [00:00<?, ?it/s]"
      ]
     },
     "metadata": {},
     "output_type": "display_data"
    },
    {
     "name": "stdout",
     "output_type": "stream",
     "text": [
      "Epoch: 03, Loss: 4.5817, Acc: 0.2300\n",
      "Last epoch duration: 27.03 seconds\n"
     ]
    },
    {
     "data": {
      "application/vnd.jupyter.widget-view+json": {
       "model_id": "7b372b45f45e4c1fa1ab5284f5624d08",
       "version_major": 2,
       "version_minor": 0
      },
      "text/plain": [
       "  0%|          | 0/22 [00:00<?, ?it/s]"
      ]
     },
     "metadata": {},
     "output_type": "display_data"
    },
    {
     "name": "stdout",
     "output_type": "stream",
     "text": [
      "Epoch: 04, Loss: 3.7111, Acc: 0.2840\n",
      "Last epoch duration: 28.88 seconds\n"
     ]
    },
    {
     "data": {
      "application/vnd.jupyter.widget-view+json": {
       "model_id": "b2c59a1727bd41c8a06241e25955f216",
       "version_major": 2,
       "version_minor": 0
      },
      "text/plain": [
       "  0%|          | 0/22 [00:00<?, ?it/s]"
      ]
     },
     "metadata": {},
     "output_type": "display_data"
    },
    {
     "name": "stdout",
     "output_type": "stream",
     "text": [
      "Epoch: 05, Loss: 3.0498, Acc: 0.3230\n",
      "Last epoch duration: 27.41 seconds\n"
     ]
    },
    {
     "data": {
      "application/vnd.jupyter.widget-view+json": {
       "model_id": "43dcd91716c04333ab953908a19ad0d4",
       "version_major": 2,
       "version_minor": 0
      },
      "text/plain": [
       "  0%|          | 0/22 [00:00<?, ?it/s]"
      ]
     },
     "metadata": {},
     "output_type": "display_data"
    },
    {
     "name": "stdout",
     "output_type": "stream",
     "text": [
      "Epoch: 06, Loss: 2.5437, Acc: 0.3630\n",
      "Last epoch duration: 27.19 seconds\n"
     ]
    },
    {
     "data": {
      "application/vnd.jupyter.widget-view+json": {
       "model_id": "9bd223ad41014beb86eedbe12be3df7c",
       "version_major": 2,
       "version_minor": 0
      },
      "text/plain": [
       "  0%|          | 0/22 [00:00<?, ?it/s]"
      ]
     },
     "metadata": {},
     "output_type": "display_data"
    },
    {
     "name": "stdout",
     "output_type": "stream",
     "text": [
      "Epoch: 07, Loss: 2.1607, Acc: 0.3930\n",
      "Last epoch duration: 27.45 seconds\n"
     ]
    },
    {
     "data": {
      "application/vnd.jupyter.widget-view+json": {
       "model_id": "f98ea2d3826d4634a5b80c396578f123",
       "version_major": 2,
       "version_minor": 0
      },
      "text/plain": [
       "  0%|          | 0/22 [00:00<?, ?it/s]"
      ]
     },
     "metadata": {},
     "output_type": "display_data"
    },
    {
     "name": "stdout",
     "output_type": "stream",
     "text": [
      "Epoch: 08, Loss: 1.8675, Acc: 0.4120\n",
      "Last epoch duration: 28.32 seconds\n"
     ]
    },
    {
     "data": {
      "application/vnd.jupyter.widget-view+json": {
       "model_id": "1b5b9b4a26d84b469296935b801e4f72",
       "version_major": 2,
       "version_minor": 0
      },
      "text/plain": [
       "  0%|          | 0/22 [00:00<?, ?it/s]"
      ]
     },
     "metadata": {},
     "output_type": "display_data"
    },
    {
     "name": "stdout",
     "output_type": "stream",
     "text": [
      "Epoch: 09, Loss: 1.6419, Acc: 0.4450\n",
      "Last epoch duration: 31.85 seconds\n"
     ]
    },
    {
     "data": {
      "application/vnd.jupyter.widget-view+json": {
       "model_id": "c90d8f5d784349269eeef18170098cc1",
       "version_major": 2,
       "version_minor": 0
      },
      "text/plain": [
       "  0%|          | 0/22 [00:00<?, ?it/s]"
      ]
     },
     "metadata": {},
     "output_type": "display_data"
    },
    {
     "name": "stdout",
     "output_type": "stream",
     "text": [
      "Epoch: 10, Loss: 1.4634, Acc: 0.4680\n",
      "Last epoch duration: 27.59 seconds\n"
     ]
    },
    {
     "data": {
      "application/vnd.jupyter.widget-view+json": {
       "model_id": "2523290310aa4c26990cf203c7418719",
       "version_major": 2,
       "version_minor": 0
      },
      "text/plain": [
       "  0%|          | 0/22 [00:00<?, ?it/s]"
      ]
     },
     "metadata": {},
     "output_type": "display_data"
    },
    {
     "name": "stdout",
     "output_type": "stream",
     "text": [
      "Epoch: 11, Loss: 1.3307, Acc: 0.4920\n",
      "Last epoch duration: 31.86 seconds\n",
      "Total elapsed time: 316.22 seconds\n"
     ]
    }
   ],
   "source": [
    "start_time = time.time()\n",
    "# for epoch in range(1, 201):\n",
    "for epoch in range(1, 12):\n",
    "    epoch_start_time = time.time()\n",
    "    loss = train()\n",
    "    acc = test()\n",
    "    print(f'Epoch: {epoch:02d}, Loss: {loss:.4f}, Acc: {acc:.4f}')\n",
    "    epoch_duration = time.time() - epoch_start_time\n",
    "    print(f'Last epoch duration: {epoch_duration:.2f} seconds')\n",
    "\n",
    "elapsed_time = time.time() - start_time\n",
    "print(f'Total elapsed time: {elapsed_time:.2f} seconds')\n",
    "torch.save(model.state_dict(), 'node2vec_model.pth')\n"
   ]
  },
  {
   "cell_type": "markdown",
   "metadata": {
    "id": "gawqT8VmeWrK"
   },
   "source": [
    "### Visualization"
   ]
  },
  {
   "cell_type": "code",
   "execution_count": 28,
   "metadata": {},
   "outputs": [
    {
     "data": {
      "text/plain": [
       "2708"
      ]
     },
     "execution_count": 28,
     "metadata": {},
     "output_type": "execute_result"
    }
   ],
   "source": [
    "data.num_nodes"
   ]
  },
  {
   "cell_type": "code",
   "execution_count": 29,
   "metadata": {},
   "outputs": [
    {
     "name": "stdout",
     "output_type": "stream",
     "text": [
      "torch.Size([2708, 128])\n",
      "tensor([[ 0.1079,  0.0051, -0.3647,  ...,  0.0079,  1.0947,  0.0361],\n",
      "        [-0.2762, -0.4700, -0.5532,  ..., -0.1260,  0.1385, -0.4079],\n",
      "        [-0.0446, -0.1699, -0.1069,  ..., -0.3566,  0.1637, -0.0558],\n",
      "        ...,\n",
      "        [-0.0875,  0.3734,  0.1736,  ..., -0.0066,  0.0697, -0.0756],\n",
      "        [-0.3322, -0.3482, -0.4251,  ..., -0.8122,  0.3379, -0.8075],\n",
      "        [-0.2102, -0.0562, -0.8340,  ..., -0.3152,  0.4659, -0.5447]],\n",
      "       grad_fn=<IndexBackward0>)\n"
     ]
    }
   ],
   "source": [
    "zz = model(torch.arange(data.num_nodes, device=device))\n",
    "print(zz.shape)\n",
    "print(zz)\n",
    "# 2708 row, each repreeents a node"
   ]
  },
  {
   "cell_type": "code",
   "execution_count": 30,
   "metadata": {},
   "outputs": [
    {
     "ename": "RuntimeError",
     "evalue": "Can't call numpy() on Tensor that requires grad. Use tensor.detach().numpy() instead.",
     "output_type": "error",
     "traceback": [
      "\u001b[1;31m---------------------------------------------------------------------------\u001b[0m",
      "\u001b[1;31mRuntimeError\u001b[0m                              Traceback (most recent call last)",
      "Cell \u001b[1;32mIn[30], line 1\u001b[0m\n\u001b[1;32m----> 1\u001b[0m zzz \u001b[38;5;241m=\u001b[39m TSNE(n_components\u001b[38;5;241m=\u001b[39m\u001b[38;5;241m2\u001b[39m)\u001b[38;5;241m.\u001b[39mfit_transform(\u001b[43mzz\u001b[49m\u001b[38;5;241;43m.\u001b[39;49m\u001b[43mcpu\u001b[49m\u001b[43m(\u001b[49m\u001b[43m)\u001b[49m\u001b[38;5;241;43m.\u001b[39;49m\u001b[43mnumpy\u001b[49m\u001b[43m(\u001b[49m\u001b[43m)\u001b[49m)\n\u001b[0;32m      2\u001b[0m zzz\n",
      "\u001b[1;31mRuntimeError\u001b[0m: Can't call numpy() on Tensor that requires grad. Use tensor.detach().numpy() instead."
     ]
    }
   ],
   "source": [
    "zzz = TSNE(n_components=2).fit_transform(zz.cpu().numpy())\n",
    "zzz"
   ]
  },
  {
   "cell_type": "code",
   "execution_count": 32,
   "metadata": {
    "id": "obALuh2JeWrK"
   },
   "outputs": [
    {
     "data": {
      "image/png": "[encoded data removed]",
      "text/plain": [
       "<Figure size 800x800 with 1 Axes>"
      ]
     },
     "metadata": {},
     "output_type": "display_data"
    }
   ],
   "source": [
    "# is this the result of the trained model or the actual dataset? is there any reason to plot the result of the trained model? TODO\n",
    "@torch.no_grad()\n",
    "def plot_points(model, colors):\n",
    "    model.eval() # nograd bc of this? TODO\n",
    "    z = model(torch.arange(data.num_nodes, device=device))\n",
    "    z = TSNE(n_components=2).fit_transform(z.cpu().numpy())\n",
    "    y = data.y.cpu().numpy()\n",
    "\n",
    "    plt.figure(figsize=(8, 8))\n",
    "    for i in range(dataset.num_classes):\n",
    "        plt.scatter(z[y == i, 0], z[y == i, 1], s=20, color=colors[i])\n",
    "    plt.axis('off')\n",
    "    plt.show()\n",
    "\n",
    "colors = [\n",
    "    '#ffc0cb', '#bada55', '#008080', '#420420', '#7fe5f0', '#065535',\n",
    "    '#ffd700'\n",
    "]\n",
    "plot_points(model,colors)"
   ]
  },
  {
   "cell_type": "code",
   "execution_count": null,
   "metadata": {},
   "outputs": [
    {
     "data": {
      "application/vnd.plotly.v1+json": {
       "config": {
        "plotlyServerURL": "https://plot.ly"
       },
       "data": [
        {
         "hovertemplate": "color=3<br>x=%{x}<br>y=%{y}<extra></extra>",
         "legendgroup": "3",
         "marker": {
          "color": "#636efa",
          "symbol": "circle"
         },
         "mode": "markers",
         "name": "3",
         "showlegend": true,
         "type": "scattergl",
         "x": {
          "bdata": "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",
          "dtype": "f4"
         },
         "xaxis": "x",
         "y": {
          "bdata": "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",
          "dtype": "f4"
         },
         "yaxis": "y"
        },
        {
         "hovertemplate": "color=4<br>x=%{x}<br>y=%{y}<extra></extra>",
         "legendgroup": "4",
         "marker": {
          "color": "#EF553B",
          "symbol": "circle"
         },
         "mode": "markers",
         "name": "4",
         "showlegend": true,
         "type": "scattergl",
         "x": {
          "bdata": "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",
          "dtype": "f4"
         },
         "xaxis": "x",
         "y": {
          "bdata": "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",
          "dtype": "f4"
         },
         "yaxis": "y"
        },
        {
         "hovertemplate": "color=0<br>x=%{x}<br>y=%{y}<extra></extra>",
         "legendgroup": "0",
         "marker": {
          "color": "#00cc96",
          "symbol": "circle"
         },
         "mode": "markers",
         "name": "0",
         "showlegend": true,
         "type": "scattergl",
         "x": {
          "bdata": "DDEAP3SAdkG6SYjBfcGdQJtbK0El5eBAWIuLQTkxs0AUzT9BRgqYQfdYZUHYemhBy0r8wFRNnEE30JVBPzTbQDjY58DKaqRBwMYyQV18oUFS0IpBs+IwQbSxKUHrDUtBMH9DQHOudcEJKvzAv3QHQVCcLUEFWWpBxwZzQTdNDEFgnZBBKiKlQW1hFkGpkN+/27KAQYXlG0FbiQZBNyJAQd6PbMDZQkNBQC2kQWtbREH9Fu9AggaaQcn6jkH5zGRBOHvxwHshpUEoJzZBV2OZQaqq7kCgfKVB502CQS9qJUE/f+hAboQWQd3mhUFhPBBBnWN5wAQIrkGqx8pAxrqCQdJNZ0GKXWhBPAFXwWlmmEGagVhBRWu8wTEhI8EjUbVAntxyQc95bkHgVjtBx/+CQS/IGsGqon9BvBlwQWCJi0F4PI1BBV+PQXOL1UC/6ZDBplIrQUK3gkHOX2hBEtaNQUwEpEG6yk3BKXOWQYclnL8msUFBOWZ6QSs2SD9tW3xBsqFHwcumjUHcZo9BuH4/QUUrhEHXp5dAimVPwRszkMArODRBRDZaQeDnREFr1DLBpe0JQTBs7kC6phZBXc6aQRF3TkFocOdAywa0wTotfUEAH4VBCZUtwXxOHMEnyjFBp0N+QeHH5UBHxSdBC+h8QWl1iT5hr1bB/fWVQYPjiEEPKQRB1876wCuoG0HbsfdARuenQQzmPEEdLDRB2IaHQYU95T+ds4lBow1aQYfN+EBwZ3dBga2EQTl4VkG6CxfBHYWBQZW9LUFLBY5BsZdaQXQfL0FNeIhBw21ZQasKiEEjMy9BVd1SQZpqc8A3lNVADnPdQM3S4kC8yxdBdC6cQdePEEGvNyJBdeZpQc49O0FuYcjAxjaPQVLKokB2k2NAn+Y1QXTpfUESTpVBcEVqQQRpl0BuTq1Bgy2wQYK3vEBRfRlB81BUQcfPGUBfIdxA6ehzQbM/kkFsdJFBUb9wQfa7pUEa3hhBZOA/QcNlOkEeOZBBx9U0QY8mgkHapxdBtYzlP5ifhUHfMzVB9yqFP4ieN8FmRxJB5CzmQByHakGJz2rBTjeRQVhVfkFBg4dBFIIAQYvWbkFKBJZBR42BQb3+kEGMfT9Ba7EIQcEtgEEcRBhB022+QPnhQ8G3ug1AcLeVQa9fWcHce3pBNdF9QXkLGEGTIBlBK3CFwPkRXcHPG4xBgyMbQYv1l0GenDFBSWsuQflJaEHgkCdBedlIwS5kaUHwFyRBBvzcQNcxskDAS+NAo+mKQbE0TEGSoT5B/2g4QX+SYkGuq4dBZmMuQUctGEF809xAcVIaQWSWRkGldEVBqHvuQB3G4EDQknJBV14vQQ3DpsGL/ZJBEwlyQQO+gEEm3IFBKFyIQbUuh0GHrp5BzvGFQWDFNkHdwadBpyZFQYANN0E5qWxBuJN/Qf8VpkF4xJPBaFz+wMVaBMHqmxlBvQ47QPIuiUF4I4xBR/cVQSbuBkFLejRBFx3fQC9pHkCAeIpBeJhWQdDzlUG+AJZBRKhoQTavlEHj93FB7U93QR0Nt0Da0mlBjlBsQeX8lkHawJBBEd+KQacSiEE/94VBY+aZQUEnkEHmc3lB4l+YP9wphUEmswhA1059QdYAYkGmWX9A2SaNwPR2cUHeiG9B9msfwVGMEEFxKZFBQ/IWQeVWpcD7mIhBoMwhQUVwnEFa/TZBtUWAQSsRckH1f4hBI3aMQWKRpUBKU35BCdjzwJXkF8F7w3NBZFgRQfuyq0Di2gI8VB5wQXhKaUFHVAdAUseCP3HsRsFAXHZBqcGIQMQhhEEZio5BBtOWQVbSeUFMylTAMmP8Piidr0Er0C5BR+xMwTyIGcFE4y7B8ThLwQw9tUCco1jB",
          "dtype": "f4"
         },
         "xaxis": "x",
         "y": {
          "bdata": "mOv6QHBlIMCb3O7AOhXVwFNJJcEGZqa/eoGBwBdWC8HHR5rAvk+vPjsagcD9MkHAFRiJwYP5H7/fjOC/TCIywXMJQD+7sWDAw9QQweXuYj4/Bni/byWOwARLt8C2Zv/AGucOwcGwLsE+2Qg+zwUpwTi+YMHI+GfBYwKVwGu6/cDSoGi/2aMXP+pUA8Ez/59BbAarwHxjA8HzGIjA4kqSwRZDu8DT7YDAp7CwwHQHxcCKOu/A+TFVwDTQJr/CoHRAKAE6QXffr8ACpYPARVeAwHM+IMHgF7fAUkSvwByXQsD0q8S/PkgFP01iKL+8UNXACEfKwN6XqD9+vLfASpbWv0/ZJ8FBqG3AAMJqQVIhRMCS9Mw/5z2SwKscJcGD6xzAxaD1vwm+rsBvuNDAp7iIQM9LJsG4PsVAdJGKwI8frD/2LHnAFheCQIhc2sCU4JDA+p0oweD/ID8/f94/rGU3v8yGaMDkQLk/MoagwFd3QcFA6ZfAHLUrwFu5JcHFDSy+ZhxMwbQVAMC+CPI+ZYmQwMvEi8CBBYs/n5MHQIaDw8AxRYjAlJ6gwPcDTsHJcBPBvPlswRLbNMEt7wHBuKpIv54N/8CTZh7BVq6tv4ukhsBlY4W/vboDwetXfUECSRPBNfDDQM2LoL+CxbrA2f7avgjRjcDJEP+/rPpNv6az0D8HZR7BjnWNwQXbTD+diT3AFZTlv8JyjsA9+RXBSL29P9ISEkEgEZU/ZHiXvtWgocD7no7AcnwHQb9X28CvdwhBuV8qwGpP3MCWdqQ/6P1owGBj38CVZcM/GSCtv8glGsBfm8LAOuerwN4/w8AZoS7BUIpbv3wIjr/kcwrB0A4zQK9v1sDMPKjASK2PwEdJ2MBt3H3BdNP6P2CL8cDCISbBuYGGwJUJlr5nwo/AYCefwBidGsHpy7y+LfdkwJ4/xMAUKxnBHZAVwS7q18D8+VdBym6RwOwWhcAmyDbA29jmP+lq2r8RWs3Aw8uswEhEnsAYByTAppWAwNMQwkBLEPI+XelfP7OeWr/TrRPBWgKJwRF24UAT4xPBaQ8UwUZd0D6eyXPBXishwCRewkA6VFS/raWMwYUmlr+QhpHAZ9Q4wH8KEz71ScG/tbwewebfAsE2DtbA0zQewSlN5cDo7/dAHUSzvzsCJsD4MbrA85qXwMKZQUAqPEVAlj6YQUCIUEF+TPm/p++9wGfYqMAWvwrBu0OEwXpRusAZlyLBK7fgwClCKcGaoMrAqP6svyEfLMEvLMa/uw4UwVACM8ALKI3A+daMwEfFK8BSzfnAh4qYwL+XxMCVlLbAz+u0wOwkAsGeOQbBpaxSwVqOmMDaHpTArAzfwKcjJcB+W5O/fEKEP6b4kr/yWFfAwkgdwByI3r/JQD/AssV0wFxXfsAyv+6/AORfwRPJLsEblak/+F5fvukNi79uA0y/XyWKwXOXisHF9yHByV01wfHkqsASisTAw37YwP8sSMF3XtzA86bfwLTh1MDtFFDAXMmcv1BEOsACio/AYx4nwMFnG8DNx6C+e/zZP07FgsCH9mnBRuNqwUA9Yj26SK0/45ArwH1dkb5674W/WaVxP1scuL4r2qS9f7YVwQZ3F8CrUxjBK3Z5wGq3B8CyFJDB/7R6wYND2D8PxeU/Slxnwc9ZkL/lpom/s4kCwcn3DsCdCGPBGoXPwBd+2r+KU1TANMADQEj7hr4mmhNAJBfMPSQB7sBapQ4/PcGzP7jXJ8EZYxJAADa+wJJEI8FnFK7AYaaTwIf6f8DazAjAa7OIwYyQU0FqO+1AxoctwCs9eEA/nJy/wdniwG3Cgb7z3ZJBFNP6QCXvmr5M2nPAzqMgQQ41HcFNaidBc0/BQFeK8cBBpHrB",
          "dtype": "f4"
         },
         "yaxis": "y"
        },
        {
         "hovertemplate": "color=2<br>x=%{x}<br>y=%{y}<extra></extra>",
         "legendgroup": "2",
         "marker": {
          "color": "#ab63fa",
          "symbol": "circle"
         },
         "mode": "markers",
         "name": "2",
         "showlegend": true,
         "type": "scattergl",
         "x": {
          "bdata": "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",
          "dtype": "f4"
         },
         "xaxis": "x",
         "y": {
          "bdata": "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",
          "dtype": "f4"
         },
         "yaxis": "y"
        },
        {
         "hovertemplate": "color=1<br>x=%{x}<br>y=%{y}<extra></extra>",
         "legendgroup": "1",
         "marker": {
          "color": "#FFA15A",
          "symbol": "circle"
         },
         "mode": "markers",
         "name": "1",
         "showlegend": true,
         "type": "scattergl",
         "x": {
          "bdata": "NwuawTl8nsH7+p3ABueUwVjLlME8DovBoE00we5PkMFU3ZbBuQ9qwetLjMEn3Y/BoJnYu4HBlMGIT4HB9YedwRieLUEoXJrB5wuRwSdRnMFdjpXB8yqYwaF2nUGnkq7BZoWlwd4ricFhyIXBgYSLwfFml8EtmY/BlxiSwdxpj8EW1o7BguKNwXY22EDQ4aPB1LmawX64msEBEZ3BFiqPwSg7lsFTcprB5YBbwOqnisH5YYnBDqmgwfBzncF4Q+zAqpaJwfi2ksE0tII/bWaNwaHijsEYl2bBhbaKwXeEeMGHq47Ban+SwZqtlcEkewVAjY4mQYYOq8Ev+T09K0JswVJ1/sBCwtW/ekjwP8mTM8FOkOE/l/WewfBMp8F35YXBY8J/wQUniMGaBtbArqiVwWXLisHrxpy/joOAwYBvtMFtAZzBRgSQwXih0UAysJPBexecwYNHq8FHSaXByeyMwaGHbMHbU4RByLUrQceee8Hwl5rBD++Zwe7Pj8FQLp7Bq1iFP87Ro8GW/6XBY+2LwUj4mMEE5I/B916UwaUOk8EKWqfByHyfwQ7JfUDmT47BhQuCwR1Ql8E254fBRyaCwaj6gMEokobBXFKTwQ5on0BJn5o/MgWbwZ5mjsHs/DG/M5OVwbkfjcGZc5HBZwiUwdu6p8GBh4nBRf9mP9NCssEDynTBEyehwTiel8HdhovBZ/6gwcNzmcFXiJvB5aqqPk7encHT7JbBXWybwZ46lsEAiJbBzF+bwXlRsMFpDY/BreaGwWs2k8E2kpTBPnWfwdondMFZVm/BUBCKwf6pkMFzi4zB/AKVwWdLjEAbuofAsLySwSKni8DabYXBzuuSwf7ukcHJe5DBX/qTwU8TkcES64vBTUWXwXW/jcFjt5LBDhWawYg1pMF2koPBgHGwwarCgMEOTavBw4mYwSmeocFI1qDBIMqhwRQEgsFa5JLBfw2awULhmcGHE/0/lEgcQNnIPD+CAJXA/faJwYnzesEcgXjBZ+mYweptqsGFPa5ALgNxwb6fZsEI7WDBbFSFwVczhT/uh2zB7u6pwYo+isGCdIPBsUCawZrkmcHxEz9AKXkDwU8DnUBKBI7Bfa0fwSkNfkAeKprBrBSJwayhcMDhF4fBZAPrP3O8qcFhzYvBOr79Pw==",
          "dtype": "f4"
         },
         "xaxis": "x",
         "y": {
          "bdata": "6nEovowNmj8ix6fAZ976QK2PXcCfxEa+Ic1pwG2ASsAdjTs/wlIrQFWFEL/zRei/zlKgQd/4JsBHT4lABym3QEwdekFCMb9AR+G2v3St7r9Oyx/AiFCQwIU9RkC8d8JAUFC4v8M8XcCxZRs+prACwJCmDsDYF62/TnI2wPi3Nr7gv25AUnwhwBPYsUFSuBbA2k5dwK9mlL8RfP4/Eb62v/r+ur5sx+2+e204wfBKxMCJ2wzAIJCKv2u7E76S0zvBNl+hwAtHWT+7k4nB+m6iv5KdOsCABqe+Fa+MP/zyIcAiAAI/m0ctvr70HL8LJDFBX+2yP1x5zL/9+LVBV+UqQUowR8EsLbdBYuKMQaYSC0HLhoRBDBV6vwxAnL8RdZ2/HrdAQUXGu7++IQ7BfIm1v87orL9Q4rBBta6Xv4pHvcBV+Uw//Z3mwHrWo8AWSJW+8DzcP19Duj8pIKE/nfApv41FKcBlGZW/8x6cQV7oIsDoz6PAPDA4wPE/bL8ejBY+IHu3QfRbr8C4ovM+G1tkwIJtHMAGxHy/2KP/v71/sj+6ecq+rYaIP+xswkENEmW/kOyBP7cC7L7CHBZAXvlgwH2yn7+O2IS/Jk/5PrmqLMGalrFBquflv5Av5z9OKKpBOQxMP68eQMCP6TG+WWTMv5/JDUBnLEm/YVa3QZPtKcA8F4nA2osZwA27bD5qBuS/G1j7vl1gsb/+Is++zrG8QYxVBMCmYPu+7FESv1e2sb9hz44/d6t8v9pKXD/AMmzAcPXAPwq8aMA99B1Ah3rwv+/hwr//OD/AGfbjPg/gNz69gMLA53A5wCjlUkF7MwLByuEEwBbCOMEsNkLAV2gcwPWa7L+PEDPAopWEv6+i5T2IHbW+99hVwGw92j+U+By/4QpXP2Xzgr55xxHAU07Fvn5QYMDegJjAO4vuP7bpj0ASiE7AUsUdQEZZ2r+cndC/EInBQGQHlkA4NZlBLObYwBGWqEHxEQjANzTnPtRLB0C+gkpAv7xhQM2lVMCvfA9BiCauPhaW7r+C/BHAGQ33vj30tkF3fJDAbpfkwOs4GsB62bBAb7nDQMqIv0Dl02RB3pslwRmx50Cu0/Y+ltQhQbbeBEHXBcBAYpMgv3SQL8GQivDA/hCEQWD4WEATWU+9ExwBPg==",
          "dtype": "f4"
         },
         "yaxis": "y"
        },
        {
         "hovertemplate": "color=5<br>x=%{x}<br>y=%{y}<extra></extra>",
         "legendgroup": "5",
         "marker": {
          "color": "#19d3f3",
          "symbol": "circle"
         },
         "mode": "markers",
         "name": "5",
         "showlegend": true,
         "type": "scattergl",
         "x": {
          "bdata": "zwAAwShpd0DP5fnAtSKwQCBh5kCO81bBrlTNQMsSnkDhjMI/1gP1QJZgpEAQmd1AbKT+wHphL0Em6wJBNfU/QRuX+kDdma5AdUT4QIFeLUHVSKlBZ7OrQFn91EC7uaVA82ZdQRIWIEG0ZeRAzonHQPMnOkHqbfHAUIYfQW0w2UAUEQxBeCvEQF5s5EDo4eFAig2ywNYtZkAmHvtA5V/2QBjC00CJ2rBAglYUQe6NE0F/T/VAw+6jQJpkE8CFaIJAtyTuP3W89kAwlCJBdxTSP5/0IEGunuNAAV4SQbeWQkEvuWJBvUv5QC6sp77athBBS+HWQECkbMEVQ+xA1iKhQLwHPkG8ST5BQxvyQM7BA0H0FAlBH9CPwTQoBEFnlJLAqASwwfOvUEHezsRA/jrhQO/fAkHJsXjBNWaAQQ+TNUFQ41tBi80yQf/pykB0J6VA5HWuQFGm40BiwWpArgdNQRuIjEBGOCVBMQIBQRRJ80AxfDpBVeCrQNCR/kCuTqdAV6a7QLu7AEHojzxBUI0DQZtUkb4C3j1BWNylQAOUA0Hjfz9BLvSoQPMds0DA+RNB0pq/QB+JrkAFwQpB6dxpQGF/IUH7HSBB4nfIQI4DFEGt7MVAPqUNQaYBC8GbmRJBt11QQZ2asECRlS1BMn+kQPoJLkHRfJPAczyuQPN8isGGwuVA+DLGP8634ECmKK9AZTV9QKiK0kB1SRRBy0UvQTQQMkGbFoBAo2fDvpmjC0G+PSxBLGw/QU0AbUAyESBBzqHKQKs5kUBL9KRAktMZQTQVDUGJaC9BmfDBQLdUq8FR073BVMKzwdR47kAb98jAYta+QET+oEAXfclAyxUZQZ5SOEGyHTTB7K+CQRwI4kAvnmZBUkYWQaNDNUEdq9BAgnSCwVgQEMFfl+ZAFfLJQJITOEE4OObAuUcAQdQODEHT4HfBJnP1QDK7CEFMMaxAm8PVvzJ8GEG6nwxBVnTbQFN8Tj//4uFAVzu1vsOC/kAGig1BIH6HwZshwcHWktBAC7MYQXaprkA+B4NAY/4VQSG4IkHOkxpB61IlQcd/EEHsjCBBCawRQauoLUH1dgdBqKU0QcDEd8EGYxBBZOmmQIdTtEB/fb1Ag+emQHYGtEBy4qJAuUf2QKVKC0F59htB8BcZQZj0HUE4QhZBpZwAQfksD0GulDpBiXUuQWJ74EB774pAYs/RQFU2xkDE0iZBflEPQamizUD2CzNBsh+HQHfzGkFAmLtA4oj0QBcG9EAxa8BAovdvwQ6KAEGndmVBaNC6QLlwjEDs4BNBxF+owQFRC0GrTqJA7uWeQFrIPEFjEE1BRuHAQELMuUBJyR1BOFCzQO5gyb+oYCxB/8DqQGfX80AVtAVBFrcMQeOeE0GkfJtAU3Z0wQe+18BvdQRBjf09QWQv6kDaptNAZjXeQMgaAkGmxhRBu1YXQUca/kAc3OJAqJjQwLhKRUEnCe3Aq5U8QZqCgcFd+onBKG8aQVC1o0DUNaVAhLJPQXRtF0EQqxxBP3GmQNBTE0EJlAK/8KziP1Kx+kB82M/AoOzxwEx6NEFmF0xA2XQFQesqKUG/bN1APtDcQA==",
          "dtype": "f4"
         },
         "xaxis": "x",
         "y": {
          "bdata": "bdRyQeAt0cBnTaXBqC5WQLvwhT8X9DdBGPY8wbO74z1eovxAZkYwQJLPrEDBKJXAyxxAQQo4ckAwNtrAeqqOQErxB0GszjK/jJwvwdmopUAZUS1AJCA6wVasDL8NdyxB4g0TQaTxxECJ141AFeaPwOABJMEy6jxBGKACQcEpWkD6zmnBLBsLwRTIkT/Do07B81KzQSVNfsFicLRA5tbdQHbdT0Cz0yJBMTmMQDPUnUBDSqRAaHHwP8OQN0HNvlhAyT5IwVCA1MCaskzAdHfKQaBh3EB1kV3AcmKsv7QCo0DgCKlAeLDUQEj/YEAK7/4/pYTFwCjqgUFpZvbAhgoMwRRbhkHvFjK/X/e4P4B5tkBM0UlAPO8uQDtPFMFyH9JA/L2MQPzpGj/Q7aPAz/Z7QT+HMMH28GJBnFEwwR5OA0HwyixB4z2HQIrwZEDxSSm/ZeK8wADxecBcnndAZx8JQbsEID+/PqlA1B7RQEIubEDZISVBEUcnQCUUEcFg9ABA6Iw4vLE3f0C+4BFApBfDQFsE00Ch7GO/urWePxdv3cAU2UPBOMakQCZFtkC1NeJA/dqpwArNtMCeNfpA61J8wUV1+j7lx5dARWEpQZUgKsE0HIzBsNvuQL7GWEHnUuFAVnhrwVVwMsEqjJNAfQ3tvl3ZjD9x1dFAycOxwCGZIUF91lJA5sC2QSyKpMDKjrpAoO3HQJSo+z9nTr/ATbENQTeme0BNu1pAi0xbQPAZ90D6NNdAEjZBv69efsHvLzfBG2RUQMLQNr8i8QZA1QLAQPsdOcGnQoZAhcAtwYFJOzwTPpw/0imZvn0Wt8BBaUC/DvknwZsyx725j4dAhTq7QEmaI0ELwQtBxm4ywbLMJ8HEbBxAzzi4QCe72UD30bdAaBu5QDBMC0BFcB9AGjv0QFD0EkHv1ZJBFWAEwcqjrsBu+DhB2WFDv8JLwMA3zQlAkBFlQI09LUCwuQ5BGyJiP9m8O8Gg3LlAElcUQTPxk0AVKjbBUy+qQPJ6lkAqxSjBa9qcPqFSXkCtX7s/vb1+Qck57UDKaN1AGcr3QOvaq0C2KctAzYT+QDxJGMF5c+fAwSsRwViFS781mBLBq56dvqhydT+4wzfBRL5KPgn2qT+svBy/Qg3KQJ60yUD9SElAf2SqQOGoJkDTDtZAgCXTQFhrvkC9qC1BpFOxQPWGikCak5JAuZ0aQDC/GECrsmxArk+0QHyb2ED3F4lAUHa9QJFjLsEXAcPAHyTPwC8e2cB9CNjAGEg+wACaRcESuvTA2weywEkqEUCrPh0/MOkkwW9QkEBU/ytAxSouQNeAZ79poFPBZ9krwbc+LMGTcLtAPdxewALuF0DboA8+Ux4dwQBFJ7/HB7DAfcawvnJdQMFPukg+riktv6sPc0GsGftArvzRQKeXQEAF1lJACTJEQLr74cAnIMo/ZpW0Pzm4T76CKTbArw+HQZYMkUA9+GpBEWC5PxpSQ0EIlZ1ApW57wFg/LEEj3rBArS8bwVBtvkAekpBAGg6qQEZXrkD5TMNBdhIvQYHmzz+dw01BbM8+QWOlIEG3GsJBUw66QPS7e0B+Tn4/Z32DwA==",
          "dtype": "f4"
         },
         "yaxis": "y"
        },
        {
         "hovertemplate": "color=6<br>x=%{x}<br>y=%{y}<extra></extra>",
         "legendgroup": "6",
         "marker": {
          "color": "#FF6692",
          "symbol": "circle"
         },
         "mode": "markers",
         "name": "6",
         "showlegend": true,
         "type": "scattergl",
         "x": {
          "bdata": "lr3lP5dpRUAWma++7/tvQcG/eUExxGBBA8RbQcF3DEEDbUZBNoOFQBszJ0G2tFJBwy8yQPw9T0Bq8ZlA3RYjQS9kZ0E0xB9AZ0kIQARLFUDk5o+/3XXUPZ/qTEFxa1NBsycbQRySNEDBOl9BdFYaQUk7QEBTCjtAdDZhQcnO0UAtAmlBKxlcQG/KBUHEMT2+qv0CQCpIc0F/mSNBH5pSQa6Psj1RSmFBsC4VQfkIMcCNWmtB1FBzQZLCGEHsvl9B14JbwNrhbEGi/+hAs69YQaIxZ0EioRhBTmqbQXo6U0Eqz0ZB+006QS+Oi0HwgFxBLLVTQebLh8BCaYFBDWqywb+ihEHYrW5B9wIWQW/rZUH3rgfA9CVPQR7YF0FE3i5Bwk0jQXrRLUGHo2FBEwY1QJTojkHjMRhBsMjWP6bD20C/+CtBLAD7wMJQLcAKESNBtPxOQZeQVEH0DnFB11tLQTNbb0FYvbo/kxkcQQB0F0FbI2lBIkIcQdVoIUGcWllBmzF9wQ0EUkEsXGNBs9QKQYZIDUGsQh1BzILhP8EUT0GzeWJBoPn9QHOBU0E9PQw/jHJdQflbP0H4LyVBnopNQay0R0Gr1DVBU3BCQbQhAT2MArc/K4BgP45xYkHDV0FBYYw7QZfQUkEaCHFBgnV+QViuc0FYH4xBNkxvQWttf0GeYz1B8uRoQWMeAUHIo+pAbXLBQM1HHUFcrh1BE3ddQeofOUGOXihBBM4hQStwWUFRM2xB+7wgQTq5JEGiDU7BQISkQCI2YD9MKO0/K7iHQYG5DEHhj+1AVS4XQWPMTj/VVRU/xzYTQQgREj4d42s/wSNaQTYWGUELwFxBdx4ZQR9REkG22x9BCLUMQU+bi0HhOSVBTx/Uv1sZTEBlgI5Bzk8GwE9dVEBnvvpAXZ76QOzS3z8HF2BBBXMaQDewRkHeky4/r39wQY5XdkEjQh9A",
          "dtype": "f4"
         },
         "xaxis": "x",
         "y": {
          "bdata": "Aq6VQGpYI0Cq0xRBleQVwXgcE8FeWRHBDk8ywRkIIkHfRAPBeIMSQJNo+sB0M/TAUgY0QIJGgkC1sYJACTRgwXLeBMFa525A8LlVQMHxOEAxu6HAX/hVQHUxCsHlsTLBLl6RwTrmQsB2xiPB3tRYQeIChL8cVAxBC6YRwZ0OVMBQxQvBokhvweO6IMFo1dVAsFrqQL5OLUC6W0nBMdU0wXhlFEBAYQjBIqMrwBcTJsHWSWnBdY0kwenqWMGVxirBcluIQEV5a8HMkJ3AyvZJweIdN8H460bBKuUqwabzKcF5ByrByceTvxsGFMH40j7BnJjmQMCGjcEgaRfBbBsFQXiaIsE8WAhBazsjwB/wKcG7sBBBc3ZBwV9qQsEWlkHBvsZjwWOtTMHo0hnBpl2Jv8N5QcEML8jAeMiBP70dIcGodwDBAtAgv8CUrcBVT+vAQS0Zwae2PcHNMVHB5bkcwV2mH8H3f+lAxrZLweO9UsGrThPBoLVMwXVzQMEM3jDBXWHdQOiKMMEtxiXBi+NEwdysRsCxSkrBVySTQKe2M8GmpybBb/bLwO88HcG0Gf5Aw5URwRh51kB6/AzB5FnCQAaoOcE/bDjBHBA2wSbno7/G2KhACdmKP8fND8HYbBfBUC7RQCMdH8FwaCTB1OBGwffNOcFjyD3BdMczwRZeGsEJx0LBdQ/IwMdR8sCOIAzB7ywkwRKDxb/YR6w9hEQPwQ8XVMFEjkzBIr0XP21xLcElVUTBgj0ZwRR//sAw/YpBVYGFQKjkdT9QDZNAFL02QSYTYj+eXpnAcrN1Pu5jS8DzVmXAvCWOv5VN0D/p0x9Bx4L7wLgKVMGNxjjB1s5PwUr0TcGiC0/BqZlZwYGOE8GyKgHB7c5MQYNLhEDaSTfBodjxP6i+gUDIPkHBpuk8wRDHez+T+kLBbNRHQGtky0CCgNe/cGz6wPvaL8E85QxA",
          "dtype": "f4"
         },
         "yaxis": "y"
        }
       ],
       "layout": {
        "legend": {
         "title": {
          "text": "color"
         },
         "tracegroupgap": 0
        },
        "template": {
         "data": {
          "bar": [
           {
            "error_x": {
             "color": "#2a3f5f"
            },
            "error_y": {
             "color": "#2a3f5f"
            },
            "marker": {
             "line": {
              "color": "#E5ECF6",
              "width": 0.5
             },
             "pattern": {
              "fillmode": "overlay",
              "size": 10,
              "solidity": 0.2
             }
            },
            "type": "bar"
           }
          ],
          "barpolar": [
           {
            "marker": {
             "line": {
              "color": "#E5ECF6",
              "width": 0.5
             },
             "pattern": {
              "fillmode": "overlay",
              "size": 10,
              "solidity": 0.2
             }
            },
            "type": "barpolar"
           }
          ],
          "carpet": [
           {
            "aaxis": {
             "endlinecolor": "#2a3f5f",
             "gridcolor": "white",
             "linecolor": "white",
             "minorgridcolor": "white",
             "startlinecolor": "#2a3f5f"
            },
            "baxis": {
             "endlinecolor": "#2a3f5f",
             "gridcolor": "white",
             "linecolor": "white",
             "minorgridcolor": "white",
             "startlinecolor": "#2a3f5f"
            },
            "type": "carpet"
           }
          ],
          "choropleth": [
           {
            "colorbar": {
             "outlinewidth": 0,
             "ticks": ""
            },
            "type": "choropleth"
           }
          ],
          "contour": [
           {
            "colorbar": {
             "outlinewidth": 0,
             "ticks": ""
            },
            "colorscale": [
             [
              0,
              "#0d0887"
             ],
             [
              0.1111111111111111,
              "#46039f"
             ],
             [
              0.2222222222222222,
              "#7201a8"
             ],
             [
              0.3333333333333333,
              "#9c179e"
             ],
             [
              0.4444444444444444,
              "#bd3786"
             ],
             [
              0.5555555555555556,
              "#d8576b"
             ],
             [
              0.6666666666666666,
              "#ed7953"
             ],
             [
              0.7777777777777778,
              "#fb9f3a"
             ],
             [
              0.8888888888888888,
              "#fdca26"
             ],
             [
              1,
              "#f0f921"
             ]
            ],
            "type": "contour"
           }
          ],
          "contourcarpet": [
           {
            "colorbar": {
             "outlinewidth": 0,
             "ticks": ""
            },
            "type": "contourcarpet"
           }
          ],
          "heatmap": [
           {
            "colorbar": {
             "outlinewidth": 0,
             "ticks": ""
            },
            "colorscale": [
             [
              0,
              "#0d0887"
             ],
             [
              0.1111111111111111,
              "#46039f"
             ],
             [
              0.2222222222222222,
              "#7201a8"
             ],
             [
              0.3333333333333333,
              "#9c179e"
             ],
             [
              0.4444444444444444,
              "#bd3786"
             ],
             [
              0.5555555555555556,
              "#d8576b"
             ],
             [
              0.6666666666666666,
              "#ed7953"
             ],
             [
              0.7777777777777778,
              "#fb9f3a"
             ],
             [
              0.8888888888888888,
              "#fdca26"
             ],
             [
              1,
              "#f0f921"
             ]
            ],
            "type": "heatmap"
           }
          ],
          "histogram": [
           {
            "marker": {
             "pattern": {
              "fillmode": "overlay",
              "size": 10,
              "solidity": 0.2
             }
            },
            "type": "histogram"
           }
          ],
          "histogram2d": [
           {
            "colorbar": {
             "outlinewidth": 0,
             "ticks": ""
            },
            "colorscale": [
             [
              0,
              "#0d0887"
             ],
             [
              0.1111111111111111,
              "#46039f"
             ],
             [
              0.2222222222222222,
              "#7201a8"
             ],
             [
              0.3333333333333333,
              "#9c179e"
             ],
             [
              0.4444444444444444,
              "#bd3786"
             ],
             [
              0.5555555555555556,
              "#d8576b"
             ],
             [
              0.6666666666666666,
              "#ed7953"
             ],
             [
              0.7777777777777778,
              "#fb9f3a"
             ],
             [
              0.8888888888888888,
              "#fdca26"
             ],
             [
              1,
              "#f0f921"
             ]
            ],
            "type": "histogram2d"
           }
          ],
          "histogram2dcontour": [
           {
            "colorbar": {
             "outlinewidth": 0,
             "ticks": ""
            },
            "colorscale": [
             [
              0,
              "#0d0887"
             ],
             [
              0.1111111111111111,
              "#46039f"
             ],
             [
              0.2222222222222222,
              "#7201a8"
             ],
             [
              0.3333333333333333,
              "#9c179e"
             ],
             [
              0.4444444444444444,
              "#bd3786"
             ],
             [
              0.5555555555555556,
              "#d8576b"
             ],
             [
              0.6666666666666666,
              "#ed7953"
             ],
             [
              0.7777777777777778,
              "#fb9f3a"
             ],
             [
              0.8888888888888888,
              "#fdca26"
             ],
             [
              1,
              "#f0f921"
             ]
            ],
            "type": "histogram2dcontour"
           }
          ],
          "mesh3d": [
           {
            "colorbar": {
             "outlinewidth": 0,
             "ticks": ""
            },
            "type": "mesh3d"
           }
          ],
          "parcoords": [
           {
            "line": {
             "colorbar": {
              "outlinewidth": 0,
              "ticks": ""
             }
            },
            "type": "parcoords"
           }
          ],
          "pie": [
           {
            "automargin": true,
            "type": "pie"
           }
          ],
          "scatter": [
           {
            "fillpattern": {
             "fillmode": "overlay",
             "size": 10,
             "solidity": 0.2
            },
            "type": "scatter"
           }
          ],
          "scatter3d": [
           {
            "line": {
             "colorbar": {
              "outlinewidth": 0,
              "ticks": ""
             }
            },
            "marker": {
             "colorbar": {
              "outlinewidth": 0,
              "ticks": ""
             }
            },
            "type": "scatter3d"
           }
          ],
          "scattercarpet": [
           {
            "marker": {
             "colorbar": {
              "outlinewidth": 0,
              "ticks": ""
             }
            },
            "type": "scattercarpet"
           }
          ],
          "scattergeo": [
           {
            "marker": {
             "colorbar": {
              "outlinewidth": 0,
              "ticks": ""
             }
            },
            "type": "scattergeo"
           }
          ],
          "scattergl": [
           {
            "marker": {
             "colorbar": {
              "outlinewidth": 0,
              "ticks": ""
             }
            },
            "type": "scattergl"
           }
          ],
          "scattermap": [
           {
            "marker": {
             "colorbar": {
              "outlinewidth": 0,
              "ticks": ""
             }
            },
            "type": "scattermap"
           }
          ],
          "scattermapbox": [
           {
            "marker": {
             "colorbar": {
              "outlinewidth": 0,
              "ticks": ""
             }
            },
            "type": "scattermapbox"
           }
          ],
          "scatterpolar": [
           {
            "marker": {
             "colorbar": {
              "outlinewidth": 0,
              "ticks": ""
             }
            },
            "type": "scatterpolar"
           }
          ],
          "scatterpolargl": [
           {
            "marker": {
             "colorbar": {
              "outlinewidth": 0,
              "ticks": ""
             }
            },
            "type": "scatterpolargl"
           }
          ],
          "scatterternary": [
           {
            "marker": {
             "colorbar": {
              "outlinewidth": 0,
              "ticks": ""
             }
            },
            "type": "scatterternary"
           }
          ],
          "surface": [
           {
            "colorbar": {
             "outlinewidth": 0,
             "ticks": ""
            },
            "colorscale": [
             [
              0,
              "#0d0887"
             ],
             [
              0.1111111111111111,
              "#46039f"
             ],
             [
              0.2222222222222222,
              "#7201a8"
             ],
             [
              0.3333333333333333,
              "#9c179e"
             ],
             [
              0.4444444444444444,
              "#bd3786"
             ],
             [
              0.5555555555555556,
              "#d8576b"
             ],
             [
              0.6666666666666666,
              "#ed7953"
             ],
             [
              0.7777777777777778,
              "#fb9f3a"
             ],
             [
              0.8888888888888888,
              "#fdca26"
             ],
             [
              1,
              "#f0f921"
             ]
            ],
            "type": "surface"
           }
          ],
          "table": [
           {
            "cells": {
             "fill": {
              "color": "#EBF0F8"
             },
             "line": {
              "color": "white"
             }
            },
            "header": {
             "fill": {
              "color": "#C8D4E3"
             },
             "line": {
              "color": "white"
             }
            },
            "type": "table"
           }
          ]
         },
         "layout": {
          "annotationdefaults": {
           "arrowcolor": "#2a3f5f",
           "arrowhead": 0,
           "arrowwidth": 1
          },
          "autotypenumbers": "strict",
          "coloraxis": {
           "colorbar": {
            "outlinewidth": 0,
            "ticks": ""
           }
          },
          "colorscale": {
           "diverging": [
            [
             0,
             "#8e0152"
            ],
            [
             0.1,
             "#c51b7d"
            ],
            [
             0.2,
             "#de77ae"
            ],
            [
             0.3,
             "#f1b6da"
            ],
            [
             0.4,
             "#fde0ef"
            ],
            [
             0.5,
             "#f7f7f7"
            ],
            [
             0.6,
             "#e6f5d0"
            ],
            [
             0.7,
             "#b8e186"
            ],
            [
             0.8,
             "#7fbc41"
            ],
            [
             0.9,
             "#4d9221"
            ],
            [
             1,
             "#276419"
            ]
           ],
           "sequential": [
            [
             0,
             "#0d0887"
            ],
            [
             0.1111111111111111,
             "#46039f"
            ],
            [
             0.2222222222222222,
             "#7201a8"
            ],
            [
             0.3333333333333333,
             "#9c179e"
            ],
            [
             0.4444444444444444,
             "#bd3786"
            ],
            [
             0.5555555555555556,
             "#d8576b"
            ],
            [
             0.6666666666666666,
             "#ed7953"
            ],
            [
             0.7777777777777778,
             "#fb9f3a"
            ],
            [
             0.8888888888888888,
             "#fdca26"
            ],
            [
             1,
             "#f0f921"
            ]
           ],
           "sequentialminus": [
            [
             0,
             "#0d0887"
            ],
            [
             0.1111111111111111,
             "#46039f"
            ],
            [
             0.2222222222222222,
             "#7201a8"
            ],
            [
             0.3333333333333333,
             "#9c179e"
            ],
            [
             0.4444444444444444,
             "#bd3786"
            ],
            [
             0.5555555555555556,
             "#d8576b"
            ],
            [
             0.6666666666666666,
             "#ed7953"
            ],
            [
             0.7777777777777778,
             "#fb9f3a"
            ],
            [
             0.8888888888888888,
             "#fdca26"
            ],
            [
             1,
             "#f0f921"
            ]
           ]
          },
          "colorway": [
           "#636efa",
           "#EF553B",
           "#00cc96",
           "#ab63fa",
           "#FFA15A",
           "#19d3f3",
           "#FF6692",
           "#B6E880",
           "#FF97FF",
           "#FECB52"
          ],
          "font": {
           "color": "#2a3f5f"
          },
          "geo": {
           "bgcolor": "white",
           "lakecolor": "white",
           "landcolor": "#E5ECF6",
           "showlakes": true,
           "showland": true,
           "subunitcolor": "white"
          },
          "hoverlabel": {
           "align": "left"
          },
          "hovermode": "closest",
          "mapbox": {
           "style": "light"
          },
          "paper_bgcolor": "white",
          "plot_bgcolor": "#E5ECF6",
          "polar": {
           "angularaxis": {
            "gridcolor": "white",
            "linecolor": "white",
            "ticks": ""
           },
           "bgcolor": "#E5ECF6",
           "radialaxis": {
            "gridcolor": "white",
            "linecolor": "white",
            "ticks": ""
           }
          },
          "scene": {
           "xaxis": {
            "backgroundcolor": "#E5ECF6",
            "gridcolor": "white",
            "gridwidth": 2,
            "linecolor": "white",
            "showbackground": true,
            "ticks": "",
            "zerolinecolor": "white"
           },
           "yaxis": {
            "backgroundcolor": "#E5ECF6",
            "gridcolor": "white",
            "gridwidth": 2,
            "linecolor": "white",
            "showbackground": true,
            "ticks": "",
            "zerolinecolor": "white"
           },
           "zaxis": {
            "backgroundcolor": "#E5ECF6",
            "gridcolor": "white",
            "gridwidth": 2,
            "linecolor": "white",
            "showbackground": true,
            "ticks": "",
            "zerolinecolor": "white"
           }
          },
          "shapedefaults": {
           "line": {
            "color": "#2a3f5f"
           }
          },
          "ternary": {
           "aaxis": {
            "gridcolor": "white",
            "linecolor": "white",
            "ticks": ""
           },
           "baxis": {
            "gridcolor": "white",
            "linecolor": "white",
            "ticks": ""
           },
           "bgcolor": "#E5ECF6",
           "caxis": {
            "gridcolor": "white",
            "linecolor": "white",
            "ticks": ""
           }
          },
          "title": {
           "x": 0.05
          },
          "xaxis": {
           "automargin": true,
           "gridcolor": "white",
           "linecolor": "white",
           "ticks": "",
           "title": {
            "standoff": 15
           },
           "zerolinecolor": "white",
           "zerolinewidth": 2
          },
          "yaxis": {
           "automargin": true,
           "gridcolor": "white",
           "linecolor": "white",
           "ticks": "",
           "title": {
            "standoff": 15
           },
           "zerolinecolor": "white",
           "zerolinewidth": 2
          }
         }
        },
        "title": {
         "text": "Interactive t-SNE of Node Embeddings"
        },
        "xaxis": {
         "anchor": "y",
         "domain": [
          0,
          1
         ],
         "title": {
          "text": "x"
         }
        },
        "yaxis": {
         "anchor": "x",
         "domain": [
          0,
          1
         ],
         "title": {
          "text": "y"
         }
        }
       }
      }
     },
     "metadata": {},
     "output_type": "display_data"
    },
    {
     "ename": "",
     "evalue": "",
     "output_type": "error",
     "traceback": [
      "\u001b[1;31mThe Kernel crashed while executing code in the current cell or a previous cell. \n",
      "\u001b[1;31mPlease review the code in the cell(s) to identify a possible cause of the failure. \n",
      "\u001b[1;31mClick <a href='https://aka.ms/vscodeJupyterKernelCrash'>here</a> for more info. \n",
      "\u001b[1;31mView Jupyter <a href='command:jupyter.viewOutput'>log</a> for further details."
     ]
    }
   ],
   "source": [
    "@torch.no_grad()\n",
    "def plot_interactive_tsne(model):\n",
    "    model.eval()\n",
    "    z = model(torch.arange(data.num_nodes, device=device)).cpu().numpy()\n",
    "    z_tsne = TSNE(n_components=2).fit_transform(z)\n",
    "    y = data.y.cpu().numpy()\n",
    "\n",
    "    df = pd.DataFrame({'x': z_tsne[:, 0], 'y': z_tsne[:, 1], 'label': y})\n",
    "    fig = px.scatter(df, x='x', y='y', color=df['label'].astype(str),\n",
    "                     title=\"Interactive t-SNE of Node Embeddings\")\n",
    "    fig.show()\n",
    "\n",
    "plot_interactive_tsne(model_from_file)\n"
   ]
  },
  {
   "cell_type": "code",
   "execution_count": null,
   "metadata": {},
   "outputs": [],
   "source": [
    "\n"
   ]
  },
  {
   "cell_type": "code",
   "execution_count": null,
   "metadata": {},
   "outputs": [],
   "source": []
  },
  {
   "cell_type": "code",
   "execution_count": null,
   "metadata": {},
   "outputs": [],
   "source": []
  },
  {
   "cell_type": "code",
   "execution_count": null,
   "metadata": {
    "id": "P2waIGwteWrK"
   },
   "outputs": [
    {
     "name": "stderr",
     "output_type": "stream",
     "text": [
      "[I 2025-02-23 20:44:57,649] A new study created in memory with name: no-name-8af6b39c-4664-4fab-a9de-4ba3d6861b61\n",
      "[I 2025-02-23 21:08:53,321] Trial 0 finished with value: 0.578 and parameters: {'embedding_dim': 128, 'walk_length': 30, 'context_size': 20, 'walks_per_node': 10, 'num_negative_samples': 7, 'p': 30, 'q': 50, 'lr': 1}. Best is trial 0 with value: 0.578.\n",
      "c:\\Users\\csaba\\Documents\\Coding\\git_own\\thesis_coding\\.venv-thesis_coding-py3.10\\lib\\site-packages\\optuna\\distributions.py:699: UserWarning: The distribution is specified by [1, 10] and step=2, but the range is not divisible by `step`. It will be replaced by [1, 9].\n",
      "  warnings.warn(\n",
      "c:\\Users\\csaba\\Documents\\Coding\\git_own\\thesis_coding\\.venv-thesis_coding-py3.10\\lib\\site-packages\\optuna\\distributions.py:699: UserWarning: The distribution is specified by [10, 100] and step=20, but the range is not divisible by `step`. It will be replaced by [10, 90].\n",
      "  warnings.warn(\n",
      "[I 2025-02-23 21:24:04,844] Trial 1 finished with value: 0.559 and parameters: {'embedding_dim': 128, 'walk_length': 30, 'context_size': 15, 'walks_per_node': 10, 'num_negative_samples': 5, 'p': 30, 'q': 70, 'lr': 1}. Best is trial 0 with value: 0.578.\n",
      "c:\\Users\\csaba\\Documents\\Coding\\git_own\\thesis_coding\\.venv-thesis_coding-py3.10\\lib\\site-packages\\optuna\\distributions.py:699: UserWarning: The distribution is specified by [1, 10] and step=2, but the range is not divisible by `step`. It will be replaced by [1, 9].\n",
      "  warnings.warn(\n",
      "c:\\Users\\csaba\\Documents\\Coding\\git_own\\thesis_coding\\.venv-thesis_coding-py3.10\\lib\\site-packages\\optuna\\distributions.py:699: UserWarning: The distribution is specified by [10, 100] and step=20, but the range is not divisible by `step`. It will be replaced by [10, 90].\n",
      "  warnings.warn(\n",
      "[W 2025-02-23 22:06:45,046] Trial 2 failed with parameters: {'embedding_dim': 128, 'walk_length': 30, 'context_size': 10, 'walks_per_node': 10, 'num_negative_samples': 7, 'p': 70, 'q': 50, 'lr': 1} because of the following error: KeyboardInterrupt().\n",
      "Traceback (most recent call last):\n",
      "  File \"c:\\Users\\csaba\\Documents\\Coding\\git_own\\thesis_coding\\.venv-thesis_coding-py3.10\\lib\\site-packages\\optuna\\study\\_optimize.py\", line 197, in _run_trial\n",
      "    value_or_values = func(trial)\n",
      "  File \"C:\\Users\\csaba\\AppData\\Local\\Temp\\ipykernel_20484\\3610909937.py\", line 46, in objective\n",
      "    train()\n",
      "  File \"C:\\Users\\csaba\\AppData\\Local\\Temp\\ipykernel_20484\\3610909937.py\", line 29, in train\n",
      "    loss.backward()\n",
      "  File \"c:\\Users\\csaba\\Documents\\Coding\\git_own\\thesis_coding\\.venv-thesis_coding-py3.10\\lib\\site-packages\\torch\\_tensor.py\", line 581, in backward\n",
      "    torch.autograd.backward(\n",
      "  File \"c:\\Users\\csaba\\Documents\\Coding\\git_own\\thesis_coding\\.venv-thesis_coding-py3.10\\lib\\site-packages\\torch\\autograd\\__init__.py\", line 347, in backward\n",
      "    _engine_run_backward(\n",
      "  File \"c:\\Users\\csaba\\Documents\\Coding\\git_own\\thesis_coding\\.venv-thesis_coding-py3.10\\lib\\site-packages\\torch\\autograd\\graph.py\", line 825, in _engine_run_backward\n",
      "    return Variable._execution_engine.run_backward(  # Calls into the C++ engine to run the backward pass\n",
      "KeyboardInterrupt\n",
      "[W 2025-02-23 22:06:45,096] Trial 2 failed with value None.\n"
     ]
    },
    {
     "ename": "KeyboardInterrupt",
     "evalue": "",
     "output_type": "error",
     "traceback": [
      "\u001b[1;31m---------------------------------------------------------------------------\u001b[0m",
      "\u001b[1;31mKeyboardInterrupt\u001b[0m                         Traceback (most recent call last)",
      "Cell \u001b[1;32mIn[4], line 56\u001b[0m\n\u001b[0;32m     54\u001b[0m \u001b[38;5;66;03m# Create study and optimize\u001b[39;00m\n\u001b[0;32m     55\u001b[0m study \u001b[38;5;241m=\u001b[39m optuna\u001b[38;5;241m.\u001b[39mcreate_study(direction\u001b[38;5;241m=\u001b[39m\u001b[38;5;124m'\u001b[39m\u001b[38;5;124mmaximize\u001b[39m\u001b[38;5;124m'\u001b[39m)\n\u001b[1;32m---> 56\u001b[0m \u001b[43mstudy\u001b[49m\u001b[38;5;241;43m.\u001b[39;49m\u001b[43moptimize\u001b[49m\u001b[43m(\u001b[49m\u001b[43mobjective\u001b[49m\u001b[43m,\u001b[49m\u001b[43m \u001b[49m\u001b[43mn_trials\u001b[49m\u001b[38;5;241;43m=\u001b[39;49m\u001b[38;5;241;43m10\u001b[39;49m\u001b[43m)\u001b[49m\n\u001b[0;32m     58\u001b[0m \u001b[38;5;28mprint\u001b[39m(\u001b[38;5;124m\"\u001b[39m\u001b[38;5;124mBest hyperparameters: \u001b[39m\u001b[38;5;124m\"\u001b[39m, study\u001b[38;5;241m.\u001b[39mbest_params)\n",
      "File \u001b[1;32mc:\\Users\\csaba\\Documents\\Coding\\git_own\\thesis_coding\\.venv-thesis_coding-py3.10\\lib\\site-packages\\optuna\\study\\study.py:475\u001b[0m, in \u001b[0;36mStudy.optimize\u001b[1;34m(self, func, n_trials, timeout, n_jobs, catch, callbacks, gc_after_trial, show_progress_bar)\u001b[0m\n\u001b[0;32m    373\u001b[0m \u001b[38;5;28;01mdef\u001b[39;00m \u001b[38;5;21moptimize\u001b[39m(\n\u001b[0;32m    374\u001b[0m     \u001b[38;5;28mself\u001b[39m,\n\u001b[0;32m    375\u001b[0m     func: ObjectiveFuncType,\n\u001b[1;32m   (...)\u001b[0m\n\u001b[0;32m    382\u001b[0m     show_progress_bar: \u001b[38;5;28mbool\u001b[39m \u001b[38;5;241m=\u001b[39m \u001b[38;5;28;01mFalse\u001b[39;00m,\n\u001b[0;32m    383\u001b[0m ) \u001b[38;5;241m-\u001b[39m\u001b[38;5;241m>\u001b[39m \u001b[38;5;28;01mNone\u001b[39;00m:\n\u001b[0;32m    384\u001b[0m \u001b[38;5;250m    \u001b[39m\u001b[38;5;124;03m\"\"\"Optimize an objective function.\u001b[39;00m\n\u001b[0;32m    385\u001b[0m \n\u001b[0;32m    386\u001b[0m \u001b[38;5;124;03m    Optimization is done by choosing a suitable set of hyperparameter values from a given\u001b[39;00m\n\u001b[1;32m   (...)\u001b[0m\n\u001b[0;32m    473\u001b[0m \u001b[38;5;124;03m            If nested invocation of this method occurs.\u001b[39;00m\n\u001b[0;32m    474\u001b[0m \u001b[38;5;124;03m    \"\"\"\u001b[39;00m\n\u001b[1;32m--> 475\u001b[0m     \u001b[43m_optimize\u001b[49m\u001b[43m(\u001b[49m\n\u001b[0;32m    476\u001b[0m \u001b[43m        \u001b[49m\u001b[43mstudy\u001b[49m\u001b[38;5;241;43m=\u001b[39;49m\u001b[38;5;28;43mself\u001b[39;49m\u001b[43m,\u001b[49m\n\u001b[0;32m    477\u001b[0m \u001b[43m        \u001b[49m\u001b[43mfunc\u001b[49m\u001b[38;5;241;43m=\u001b[39;49m\u001b[43mfunc\u001b[49m\u001b[43m,\u001b[49m\n\u001b[0;32m    478\u001b[0m \u001b[43m        \u001b[49m\u001b[43mn_trials\u001b[49m\u001b[38;5;241;43m=\u001b[39;49m\u001b[43mn_trials\u001b[49m\u001b[43m,\u001b[49m\n\u001b[0;32m    479\u001b[0m \u001b[43m        \u001b[49m\u001b[43mtimeout\u001b[49m\u001b[38;5;241;43m=\u001b[39;49m\u001b[43mtimeout\u001b[49m\u001b[43m,\u001b[49m\n\u001b[0;32m    480\u001b[0m \u001b[43m        \u001b[49m\u001b[43mn_jobs\u001b[49m\u001b[38;5;241;43m=\u001b[39;49m\u001b[43mn_jobs\u001b[49m\u001b[43m,\u001b[49m\n\u001b[0;32m    481\u001b[0m \u001b[43m        \u001b[49m\u001b[43mcatch\u001b[49m\u001b[38;5;241;43m=\u001b[39;49m\u001b[38;5;28;43mtuple\u001b[39;49m\u001b[43m(\u001b[49m\u001b[43mcatch\u001b[49m\u001b[43m)\u001b[49m\u001b[43m \u001b[49m\u001b[38;5;28;43;01mif\u001b[39;49;00m\u001b[43m \u001b[49m\u001b[38;5;28;43misinstance\u001b[39;49m\u001b[43m(\u001b[49m\u001b[43mcatch\u001b[49m\u001b[43m,\u001b[49m\u001b[43m \u001b[49m\u001b[43mIterable\u001b[49m\u001b[43m)\u001b[49m\u001b[43m \u001b[49m\u001b[38;5;28;43;01melse\u001b[39;49;00m\u001b[43m \u001b[49m\u001b[43m(\u001b[49m\u001b[43mcatch\u001b[49m\u001b[43m,\u001b[49m\u001b[43m)\u001b[49m\u001b[43m,\u001b[49m\n\u001b[0;32m    482\u001b[0m \u001b[43m        \u001b[49m\u001b[43mcallbacks\u001b[49m\u001b[38;5;241;43m=\u001b[39;49m\u001b[43mcallbacks\u001b[49m\u001b[43m,\u001b[49m\n\u001b[0;32m    483\u001b[0m \u001b[43m        \u001b[49m\u001b[43mgc_after_trial\u001b[49m\u001b[38;5;241;43m=\u001b[39;49m\u001b[43mgc_after_trial\u001b[49m\u001b[43m,\u001b[49m\n\u001b[0;32m    484\u001b[0m \u001b[43m        \u001b[49m\u001b[43mshow_progress_bar\u001b[49m\u001b[38;5;241;43m=\u001b[39;49m\u001b[43mshow_progress_bar\u001b[49m\u001b[43m,\u001b[49m\n\u001b[0;32m    485\u001b[0m \u001b[43m    \u001b[49m\u001b[43m)\u001b[49m\n",
      "File \u001b[1;32mc:\\Users\\csaba\\Documents\\Coding\\git_own\\thesis_coding\\.venv-thesis_coding-py3.10\\lib\\site-packages\\optuna\\study\\_optimize.py:63\u001b[0m, in \u001b[0;36m_optimize\u001b[1;34m(study, func, n_trials, timeout, n_jobs, catch, callbacks, gc_after_trial, show_progress_bar)\u001b[0m\n\u001b[0;32m     61\u001b[0m \u001b[38;5;28;01mtry\u001b[39;00m:\n\u001b[0;32m     62\u001b[0m     \u001b[38;5;28;01mif\u001b[39;00m n_jobs \u001b[38;5;241m==\u001b[39m \u001b[38;5;241m1\u001b[39m:\n\u001b[1;32m---> 63\u001b[0m         \u001b[43m_optimize_sequential\u001b[49m\u001b[43m(\u001b[49m\n\u001b[0;32m     64\u001b[0m \u001b[43m            \u001b[49m\u001b[43mstudy\u001b[49m\u001b[43m,\u001b[49m\n\u001b[0;32m     65\u001b[0m \u001b[43m            \u001b[49m\u001b[43mfunc\u001b[49m\u001b[43m,\u001b[49m\n\u001b[0;32m     66\u001b[0m \u001b[43m            \u001b[49m\u001b[43mn_trials\u001b[49m\u001b[43m,\u001b[49m\n\u001b[0;32m     67\u001b[0m \u001b[43m            \u001b[49m\u001b[43mtimeout\u001b[49m\u001b[43m,\u001b[49m\n\u001b[0;32m     68\u001b[0m \u001b[43m            \u001b[49m\u001b[43mcatch\u001b[49m\u001b[43m,\u001b[49m\n\u001b[0;32m     69\u001b[0m \u001b[43m            \u001b[49m\u001b[43mcallbacks\u001b[49m\u001b[43m,\u001b[49m\n\u001b[0;32m     70\u001b[0m \u001b[43m            \u001b[49m\u001b[43mgc_after_trial\u001b[49m\u001b[43m,\u001b[49m\n\u001b[0;32m     71\u001b[0m \u001b[43m            \u001b[49m\u001b[43mreseed_sampler_rng\u001b[49m\u001b[38;5;241;43m=\u001b[39;49m\u001b[38;5;28;43;01mFalse\u001b[39;49;00m\u001b[43m,\u001b[49m\n\u001b[0;32m     72\u001b[0m \u001b[43m            \u001b[49m\u001b[43mtime_start\u001b[49m\u001b[38;5;241;43m=\u001b[39;49m\u001b[38;5;28;43;01mNone\u001b[39;49;00m\u001b[43m,\u001b[49m\n\u001b[0;32m     73\u001b[0m \u001b[43m            \u001b[49m\u001b[43mprogress_bar\u001b[49m\u001b[38;5;241;43m=\u001b[39;49m\u001b[43mprogress_bar\u001b[49m\u001b[43m,\u001b[49m\n\u001b[0;32m     74\u001b[0m \u001b[43m        \u001b[49m\u001b[43m)\u001b[49m\n\u001b[0;32m     75\u001b[0m     \u001b[38;5;28;01melse\u001b[39;00m:\n\u001b[0;32m     76\u001b[0m         \u001b[38;5;28;01mif\u001b[39;00m n_jobs \u001b[38;5;241m==\u001b[39m \u001b[38;5;241m-\u001b[39m\u001b[38;5;241m1\u001b[39m:\n",
      "File \u001b[1;32mc:\\Users\\csaba\\Documents\\Coding\\git_own\\thesis_coding\\.venv-thesis_coding-py3.10\\lib\\site-packages\\optuna\\study\\_optimize.py:160\u001b[0m, in \u001b[0;36m_optimize_sequential\u001b[1;34m(study, func, n_trials, timeout, catch, callbacks, gc_after_trial, reseed_sampler_rng, time_start, progress_bar)\u001b[0m\n\u001b[0;32m    157\u001b[0m         \u001b[38;5;28;01mbreak\u001b[39;00m\n\u001b[0;32m    159\u001b[0m \u001b[38;5;28;01mtry\u001b[39;00m:\n\u001b[1;32m--> 160\u001b[0m     frozen_trial \u001b[38;5;241m=\u001b[39m \u001b[43m_run_trial\u001b[49m\u001b[43m(\u001b[49m\u001b[43mstudy\u001b[49m\u001b[43m,\u001b[49m\u001b[43m \u001b[49m\u001b[43mfunc\u001b[49m\u001b[43m,\u001b[49m\u001b[43m \u001b[49m\u001b[43mcatch\u001b[49m\u001b[43m)\u001b[49m\n\u001b[0;32m    161\u001b[0m \u001b[38;5;28;01mfinally\u001b[39;00m:\n\u001b[0;32m    162\u001b[0m     \u001b[38;5;66;03m# The following line mitigates memory problems that can be occurred in some\u001b[39;00m\n\u001b[0;32m    163\u001b[0m     \u001b[38;5;66;03m# environments (e.g., services that use computing containers such as GitHub Actions).\u001b[39;00m\n\u001b[0;32m    164\u001b[0m     \u001b[38;5;66;03m# Please refer to the following PR for further details:\u001b[39;00m\n\u001b[0;32m    165\u001b[0m     \u001b[38;5;66;03m# https://github.com/optuna/optuna/pull/325.\u001b[39;00m\n\u001b[0;32m    166\u001b[0m     \u001b[38;5;28;01mif\u001b[39;00m gc_after_trial:\n",
      "File \u001b[1;32mc:\\Users\\csaba\\Documents\\Coding\\git_own\\thesis_coding\\.venv-thesis_coding-py3.10\\lib\\site-packages\\optuna\\study\\_optimize.py:248\u001b[0m, in \u001b[0;36m_run_trial\u001b[1;34m(study, func, catch)\u001b[0m\n\u001b[0;32m    241\u001b[0m         \u001b[38;5;28;01massert\u001b[39;00m \u001b[38;5;28;01mFalse\u001b[39;00m, \u001b[38;5;124m\"\u001b[39m\u001b[38;5;124mShould not reach.\u001b[39m\u001b[38;5;124m\"\u001b[39m\n\u001b[0;32m    243\u001b[0m \u001b[38;5;28;01mif\u001b[39;00m (\n\u001b[0;32m    244\u001b[0m     frozen_trial\u001b[38;5;241m.\u001b[39mstate \u001b[38;5;241m==\u001b[39m TrialState\u001b[38;5;241m.\u001b[39mFAIL\n\u001b[0;32m    245\u001b[0m     \u001b[38;5;129;01mand\u001b[39;00m func_err \u001b[38;5;129;01mis\u001b[39;00m \u001b[38;5;129;01mnot\u001b[39;00m \u001b[38;5;28;01mNone\u001b[39;00m\n\u001b[0;32m    246\u001b[0m     \u001b[38;5;129;01mand\u001b[39;00m \u001b[38;5;129;01mnot\u001b[39;00m \u001b[38;5;28misinstance\u001b[39m(func_err, catch)\n\u001b[0;32m    247\u001b[0m ):\n\u001b[1;32m--> 248\u001b[0m     \u001b[38;5;28;01mraise\u001b[39;00m func_err\n\u001b[0;32m    249\u001b[0m \u001b[38;5;28;01mreturn\u001b[39;00m frozen_trial\n",
      "File \u001b[1;32mc:\\Users\\csaba\\Documents\\Coding\\git_own\\thesis_coding\\.venv-thesis_coding-py3.10\\lib\\site-packages\\optuna\\study\\_optimize.py:197\u001b[0m, in \u001b[0;36m_run_trial\u001b[1;34m(study, func, catch)\u001b[0m\n\u001b[0;32m    195\u001b[0m \u001b[38;5;28;01mwith\u001b[39;00m get_heartbeat_thread(trial\u001b[38;5;241m.\u001b[39m_trial_id, study\u001b[38;5;241m.\u001b[39m_storage):\n\u001b[0;32m    196\u001b[0m     \u001b[38;5;28;01mtry\u001b[39;00m:\n\u001b[1;32m--> 197\u001b[0m         value_or_values \u001b[38;5;241m=\u001b[39m \u001b[43mfunc\u001b[49m\u001b[43m(\u001b[49m\u001b[43mtrial\u001b[49m\u001b[43m)\u001b[49m\n\u001b[0;32m    198\u001b[0m     \u001b[38;5;28;01mexcept\u001b[39;00m exceptions\u001b[38;5;241m.\u001b[39mTrialPruned \u001b[38;5;28;01mas\u001b[39;00m e:\n\u001b[0;32m    199\u001b[0m         \u001b[38;5;66;03m# TODO(mamu): Handle multi-objective cases.\u001b[39;00m\n\u001b[0;32m    200\u001b[0m         state \u001b[38;5;241m=\u001b[39m TrialState\u001b[38;5;241m.\u001b[39mPRUNED\n",
      "Cell \u001b[1;32mIn[4], line 46\u001b[0m, in \u001b[0;36mobjective\u001b[1;34m(trial)\u001b[0m\n\u001b[0;32m     44\u001b[0m \u001b[38;5;66;03m# Training loop\u001b[39;00m\n\u001b[0;32m     45\u001b[0m \u001b[38;5;28;01mfor\u001b[39;00m epoch \u001b[38;5;129;01min\u001b[39;00m \u001b[38;5;28mrange\u001b[39m(\u001b[38;5;241m1\u001b[39m, \u001b[38;5;241m12\u001b[39m):\n\u001b[1;32m---> 46\u001b[0m     \u001b[43mtrain\u001b[49m\u001b[43m(\u001b[49m\u001b[43m)\u001b[49m\n\u001b[0;32m     47\u001b[0m     acc \u001b[38;5;241m=\u001b[39m test()\n\u001b[0;32m     48\u001b[0m     trial\u001b[38;5;241m.\u001b[39mreport(acc, epoch)\n",
      "Cell \u001b[1;32mIn[4], line 29\u001b[0m, in \u001b[0;36mobjective.<locals>.train\u001b[1;34m()\u001b[0m\n\u001b[0;32m     27\u001b[0m optimizer\u001b[38;5;241m.\u001b[39mzero_grad()\n\u001b[0;32m     28\u001b[0m loss \u001b[38;5;241m=\u001b[39m model\u001b[38;5;241m.\u001b[39mloss(pos_rw\u001b[38;5;241m.\u001b[39mto(device), neg_rw\u001b[38;5;241m.\u001b[39mto(device))\n\u001b[1;32m---> 29\u001b[0m \u001b[43mloss\u001b[49m\u001b[38;5;241;43m.\u001b[39;49m\u001b[43mbackward\u001b[49m\u001b[43m(\u001b[49m\u001b[43m)\u001b[49m\n\u001b[0;32m     30\u001b[0m optimizer\u001b[38;5;241m.\u001b[39mstep()\n\u001b[0;32m     31\u001b[0m total_loss \u001b[38;5;241m+\u001b[39m\u001b[38;5;241m=\u001b[39m loss\u001b[38;5;241m.\u001b[39mitem()\n",
      "File \u001b[1;32mc:\\Users\\csaba\\Documents\\Coding\\git_own\\thesis_coding\\.venv-thesis_coding-py3.10\\lib\\site-packages\\torch\\_tensor.py:581\u001b[0m, in \u001b[0;36mTensor.backward\u001b[1;34m(self, gradient, retain_graph, create_graph, inputs)\u001b[0m\n\u001b[0;32m    571\u001b[0m \u001b[38;5;28;01mif\u001b[39;00m has_torch_function_unary(\u001b[38;5;28mself\u001b[39m):\n\u001b[0;32m    572\u001b[0m     \u001b[38;5;28;01mreturn\u001b[39;00m handle_torch_function(\n\u001b[0;32m    573\u001b[0m         Tensor\u001b[38;5;241m.\u001b[39mbackward,\n\u001b[0;32m    574\u001b[0m         (\u001b[38;5;28mself\u001b[39m,),\n\u001b[1;32m   (...)\u001b[0m\n\u001b[0;32m    579\u001b[0m         inputs\u001b[38;5;241m=\u001b[39minputs,\n\u001b[0;32m    580\u001b[0m     )\n\u001b[1;32m--> 581\u001b[0m \u001b[43mtorch\u001b[49m\u001b[38;5;241;43m.\u001b[39;49m\u001b[43mautograd\u001b[49m\u001b[38;5;241;43m.\u001b[39;49m\u001b[43mbackward\u001b[49m\u001b[43m(\u001b[49m\n\u001b[0;32m    582\u001b[0m \u001b[43m    \u001b[49m\u001b[38;5;28;43mself\u001b[39;49m\u001b[43m,\u001b[49m\u001b[43m \u001b[49m\u001b[43mgradient\u001b[49m\u001b[43m,\u001b[49m\u001b[43m \u001b[49m\u001b[43mretain_graph\u001b[49m\u001b[43m,\u001b[49m\u001b[43m \u001b[49m\u001b[43mcreate_graph\u001b[49m\u001b[43m,\u001b[49m\u001b[43m \u001b[49m\u001b[43minputs\u001b[49m\u001b[38;5;241;43m=\u001b[39;49m\u001b[43minputs\u001b[49m\n\u001b[0;32m    583\u001b[0m \u001b[43m\u001b[49m\u001b[43m)\u001b[49m\n",
      "File \u001b[1;32mc:\\Users\\csaba\\Documents\\Coding\\git_own\\thesis_coding\\.venv-thesis_coding-py3.10\\lib\\site-packages\\torch\\autograd\\__init__.py:347\u001b[0m, in \u001b[0;36mbackward\u001b[1;34m(tensors, grad_tensors, retain_graph, create_graph, grad_variables, inputs)\u001b[0m\n\u001b[0;32m    342\u001b[0m     retain_graph \u001b[38;5;241m=\u001b[39m create_graph\n\u001b[0;32m    344\u001b[0m \u001b[38;5;66;03m# The reason we repeat the same comment below is that\u001b[39;00m\n\u001b[0;32m    345\u001b[0m \u001b[38;5;66;03m# some Python versions print out the first line of a multi-line function\u001b[39;00m\n\u001b[0;32m    346\u001b[0m \u001b[38;5;66;03m# calls in the traceback and some print out the last line\u001b[39;00m\n\u001b[1;32m--> 347\u001b[0m \u001b[43m_engine_run_backward\u001b[49m\u001b[43m(\u001b[49m\n\u001b[0;32m    348\u001b[0m \u001b[43m    \u001b[49m\u001b[43mtensors\u001b[49m\u001b[43m,\u001b[49m\n\u001b[0;32m    349\u001b[0m \u001b[43m    \u001b[49m\u001b[43mgrad_tensors_\u001b[49m\u001b[43m,\u001b[49m\n\u001b[0;32m    350\u001b[0m \u001b[43m    \u001b[49m\u001b[43mretain_graph\u001b[49m\u001b[43m,\u001b[49m\n\u001b[0;32m    351\u001b[0m \u001b[43m    \u001b[49m\u001b[43mcreate_graph\u001b[49m\u001b[43m,\u001b[49m\n\u001b[0;32m    352\u001b[0m \u001b[43m    \u001b[49m\u001b[43minputs\u001b[49m\u001b[43m,\u001b[49m\n\u001b[0;32m    353\u001b[0m \u001b[43m    \u001b[49m\u001b[43mallow_unreachable\u001b[49m\u001b[38;5;241;43m=\u001b[39;49m\u001b[38;5;28;43;01mTrue\u001b[39;49;00m\u001b[43m,\u001b[49m\n\u001b[0;32m    354\u001b[0m \u001b[43m    \u001b[49m\u001b[43maccumulate_grad\u001b[49m\u001b[38;5;241;43m=\u001b[39;49m\u001b[38;5;28;43;01mTrue\u001b[39;49;00m\u001b[43m,\u001b[49m\n\u001b[0;32m    355\u001b[0m \u001b[43m\u001b[49m\u001b[43m)\u001b[49m\n",
      "File \u001b[1;32mc:\\Users\\csaba\\Documents\\Coding\\git_own\\thesis_coding\\.venv-thesis_coding-py3.10\\lib\\site-packages\\torch\\autograd\\graph.py:825\u001b[0m, in \u001b[0;36m_engine_run_backward\u001b[1;34m(t_outputs, *args, **kwargs)\u001b[0m\n\u001b[0;32m    823\u001b[0m     unregister_hooks \u001b[38;5;241m=\u001b[39m _register_logging_hooks_on_whole_graph(t_outputs)\n\u001b[0;32m    824\u001b[0m \u001b[38;5;28;01mtry\u001b[39;00m:\n\u001b[1;32m--> 825\u001b[0m     \u001b[38;5;28;01mreturn\u001b[39;00m Variable\u001b[38;5;241m.\u001b[39m_execution_engine\u001b[38;5;241m.\u001b[39mrun_backward(  \u001b[38;5;66;03m# Calls into the C++ engine to run the backward pass\u001b[39;00m\n\u001b[0;32m    826\u001b[0m         t_outputs, \u001b[38;5;241m*\u001b[39margs, \u001b[38;5;241m*\u001b[39m\u001b[38;5;241m*\u001b[39mkwargs\n\u001b[0;32m    827\u001b[0m     )  \u001b[38;5;66;03m# Calls into the C++ engine to run the backward pass\u001b[39;00m\n\u001b[0;32m    828\u001b[0m \u001b[38;5;28;01mfinally\u001b[39;00m:\n\u001b[0;32m    829\u001b[0m     \u001b[38;5;28;01mif\u001b[39;00m attach_logging_hooks:\n",
      "\u001b[1;31mKeyboardInterrupt\u001b[0m: "
     ]
    }
   ],
   "source": [
    "device = 'cuda' if torch.cuda.is_available() else 'cpu'\n",
    "\n",
    "def objective(trial):\n",
    "    # Suggest hyperparameters\n",
    "    embedding_dim = trial.suggest_int('embedding_dim', 128, 128, step=64)\n",
    "    walk_length = trial.suggest_int('walk_length', 30, 30, step=10)\n",
    "    context_size = trial.suggest_int('context_size', 10, 20, step=5)\n",
    "    walks_per_node = trial.suggest_int('walks_per_node', 10, 10, step=10)\n",
    "    num_negative_samples = trial.suggest_int('num_negative_samples', 1, 10, step=2)\n",
    "    p = trial.suggest_int('p', 10, 100, step=20)\n",
    "    q = trial.suggest_int('q', 10, 100, step=20)\n",
    "    lr = trial.suggest_int('lr', 1.0, 1.0)\n",
    "\n",
    "    # Initialize model\n",
    "    model = Node2Vec(data.edge_index, embedding_dim=embedding_dim, walk_length=walk_length,\n",
    "                     context_size=context_size, walks_per_node=walks_per_node,\n",
    "                     num_negative_samples=num_negative_samples, p=p, q=q, sparse=True).to(device)\n",
    "\n",
    "    loader = model.loader(batch_size=128, shuffle=True, num_workers=0)\n",
    "    optimizer = torch.optim.SparseAdam(list(model.parameters()), lr=lr)\n",
    "\n",
    "    # Training function\n",
    "    def train():\n",
    "        model.train()\n",
    "        total_loss = 0\n",
    "        for pos_rw, neg_rw in loader:\n",
    "            optimizer.zero_grad()\n",
    "            loss = model.loss(pos_rw.to(device), neg_rw.to(device))\n",
    "            loss.backward()\n",
    "            optimizer.step()\n",
    "            total_loss += loss.item()\n",
    "        return total_loss / len(loader)\n",
    "\n",
    "    # Test function\n",
    "    @torch.no_grad()\n",
    "    def test():\n",
    "        model.eval()\n",
    "        z = model()\n",
    "        acc = model.test(z[data.train_mask], data.y[data.train_mask],\n",
    "                         z[data.test_mask], data.y[data.test_mask],\n",
    "                         max_iter=150)\n",
    "        return acc\n",
    "\n",
    "    # Training loop\n",
    "    for epoch in range(1, 12):\n",
    "        train()\n",
    "        acc = test()\n",
    "        trial.report(acc, epoch)\n",
    "        if trial.should_prune():\n",
    "            raise optuna.exceptions.TrialPruned()\n",
    "\n",
    "    return acc\n",
    "\n",
    "# Create study and optimize\n",
    "study = optuna.create_study(direction='maximize')\n",
    "study.optimize(objective, n_trials=10)\n",
    "\n",
    "print(\"Best hyperparameters: \", study.best_params)"
   ]
  }
 ],
 "metadata": {
  "accelerator": "GPU",
  "colab": {
   "gpuType": "T4",
   "provenance": [
    {
     "file_id": "https://github.com/AntonioLonga/PytorchGeometricTutorial/blob/main/Tutorial11/Tutorial11.ipynb",
     "timestamp": 1735057363856
    }
   ]
  },
  "kernelspec": {
   "display_name": ".venv-thesis_coding-py3.10",
   "language": "python",
   "name": "python3"
  },
  "language_info": {
   "codemirror_mode": {
    "name": "ipython",
    "version": 3
   },
   "file_extension": ".py",
   "mimetype": "text/x-python",
   "name": "python",
   "nbconvert_exporter": "python",
   "pygments_lexer": "ipython3",
   "version": "3.10.4"
  }
 },
 "nbformat": 4,
 "nbformat_minor": 0
}
