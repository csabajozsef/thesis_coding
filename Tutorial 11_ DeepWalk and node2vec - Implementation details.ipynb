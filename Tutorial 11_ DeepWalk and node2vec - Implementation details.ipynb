{
 "cells": [
  {
   "cell_type": "markdown",
   "metadata": {
    "id": "lwa8ekWweWq-"
   },
   "source": [
    "# Tutorial 11: DeepWalk and node2vec - Implementation details\n",
    "  \n",
    "\n",
    "Paper:\n",
    "* [DeepWalk: Online Learning of Social Representation](https://arxiv.org/pdf/1403.6652.pdf)  \n",
    "* [node2vec: Scalable Feature Learning for Networks](https://arxiv.org/pdf/1607.00653.pdf)  \n",
    "\n",
    "Code:\n",
    "\n",
    " * [node2vec doc](https://pytorch-geometric.readthedocs.io/en/latest/modules/nn.html?highlight=node2vec#torch_geometric.nn.models.Node2Vec)\n",
    " * [node2vec code](https://pytorch-geometric.readthedocs.io/en/latest/_modules/torch_geometric/nn/models/node2vec.html)\n",
    " * [Example on clustering](https://github.com/rusty1s/pytorch_geometric/blob/master/examples/node2vec.py)"
   ]
  },
  {
   "cell_type": "markdown",
   "metadata": {
    "id": "OvlasjO6eWq_"
   },
   "source": [
    "# Setup"
   ]
  },
  {
   "cell_type": "code",
   "execution_count": 1,
   "metadata": {
    "id": "z6SgqI66eWrB"
   },
   "outputs": [],
   "source": [
    "from torch_geometric.nn import Node2Vec\n",
    "import os.path as osp\n",
    "import torch\n",
    "import matplotlib.pyplot as plt\n",
    "import torch_cluster\n",
    "from sklearn.manifold import TSNE\n",
    "from torch_geometric.datasets import Planetoid\n",
    "from tqdm.notebook import tqdm"
   ]
  },
  {
   "cell_type": "code",
   "execution_count": 2,
   "metadata": {
    "id": "OOrgpU--eWrB"
   },
   "outputs": [
    {
     "data": {
      "text/plain": [
       "Data(x=[2708, 1433], edge_index=[2, 10556], y=[2708], train_mask=[2708], val_mask=[2708], test_mask=[2708])"
      ]
     },
     "execution_count": 2,
     "metadata": {},
     "output_type": "execute_result"
    }
   ],
   "source": [
    "dataset = 'Cora'\n",
    "path = osp.join('.', 'data', dataset)\n",
    "dataset = Planetoid(path, dataset)\n",
    "data = dataset[0]\n",
    "data"
   ]
  },
  {
   "cell_type": "code",
   "execution_count": 3,
   "metadata": {
    "id": "d0-6NB34eWrB"
   },
   "outputs": [],
   "source": [
    "device = 'cuda' if torch.cuda.is_available() else 'cpu'\n",
    "model = Node2Vec(data.edge_index, embedding_dim=128,\n",
    "                 walk_length=20,                        # lenght of rw\n",
    "                 context_size=10, walks_per_node=20,\n",
    "                 num_negative_samples=1,\n",
    "                 p=200, q=1,                             # bias parameters\n",
    "                 sparse=True).to(device)"
   ]
  },
  {
   "cell_type": "markdown",
   "metadata": {
    "id": "ZbbjOSnzeWrC"
   },
   "source": [
    "# Random walks"
   ]
  },
  {
   "cell_type": "markdown",
   "metadata": {
    "id": "KPEVzl7_eWrD"
   },
   "source": [
    "### The data loader"
   ]
  },
  {
   "cell_type": "code",
   "execution_count": 8,
   "metadata": {
    "id": "Q5naXua_eWrE"
   },
   "outputs": [],
   "source": [
    "loader = model.loader(batch_size=128, shuffle=True, num_workers=0)"
   ]
  },
  {
   "cell_type": "code",
   "execution_count": 9,
   "metadata": {
    "id": "U0pmbt__eWrF"
   },
   "outputs": [
    {
     "name": "stdout",
     "output_type": "stream",
     "text": [
      "0 torch.Size([28160, 10]) torch.Size([28160, 10])\n",
      "1 torch.Size([28160, 10]) torch.Size([28160, 10])\n",
      "2 torch.Size([28160, 10]) torch.Size([28160, 10])\n",
      "3 torch.Size([28160, 10]) torch.Size([28160, 10])\n",
      "4 torch.Size([28160, 10]) torch.Size([28160, 10])\n",
      "5 torch.Size([28160, 10]) torch.Size([28160, 10])\n",
      "6 torch.Size([28160, 10]) torch.Size([28160, 10])\n",
      "7 torch.Size([28160, 10]) torch.Size([28160, 10])\n",
      "8 torch.Size([28160, 10]) torch.Size([28160, 10])\n",
      "9 torch.Size([28160, 10]) torch.Size([28160, 10])\n",
      "10 torch.Size([28160, 10]) torch.Size([28160, 10])\n",
      "11 torch.Size([28160, 10]) torch.Size([28160, 10])\n",
      "12 torch.Size([28160, 10]) torch.Size([28160, 10])\n",
      "13 torch.Size([28160, 10]) torch.Size([28160, 10])\n",
      "14 torch.Size([28160, 10]) torch.Size([28160, 10])\n",
      "15 torch.Size([28160, 10]) torch.Size([28160, 10])\n",
      "16 torch.Size([28160, 10]) torch.Size([28160, 10])\n",
      "17 torch.Size([28160, 10]) torch.Size([28160, 10])\n",
      "18 torch.Size([28160, 10]) torch.Size([28160, 10])\n",
      "19 torch.Size([28160, 10]) torch.Size([28160, 10])\n",
      "20 torch.Size([28160, 10]) torch.Size([28160, 10])\n",
      "21 torch.Size([4400, 10]) torch.Size([4400, 10])\n"
     ]
    }
   ],
   "source": [
    "for idx, (pos_rw, neg_rw) in enumerate(loader):\n",
    "    print(idx, pos_rw.shape, neg_rw.shape)"
   ]
  },
  {
   "cell_type": "code",
   "execution_count": 13,
   "metadata": {
    "id": "qTJoPDOfeWrG"
   },
   "outputs": [],
   "source": [
    "idx, (pos_rw, neg_rw) = next(enumerate(loader))"
   ]
  },
  {
   "cell_type": "code",
   "execution_count": 14,
   "metadata": {
    "id": "qEaWsb0-eWrH"
   },
   "outputs": [
    {
     "data": {
      "text/plain": [
       "0"
      ]
     },
     "execution_count": 14,
     "metadata": {},
     "output_type": "execute_result"
    }
   ],
   "source": [
    "idx"
   ]
  },
  {
   "cell_type": "code",
   "execution_count": 15,
   "metadata": {
    "id": "IEiZtBtUeWrH"
   },
   "outputs": [
    {
     "data": {
      "text/plain": [
       "(torch.Size([28160, 10]), torch.Size([28160, 10]))"
      ]
     },
     "execution_count": 15,
     "metadata": {},
     "output_type": "execute_result"
    }
   ],
   "source": [
    "(pos_rw.shape, neg_rw.shape)"
   ]
  },
  {
   "cell_type": "code",
   "execution_count": 16,
   "metadata": {
    "id": "siEnTLc_eWrH"
   },
   "outputs": [
    {
     "data": {
      "text/plain": [
       "tensor([[1346,  109, 1789,  ...,  271, 2387, 1510],\n",
       "        [2427, 2428, 2427,  ...,   37,   60,   55],\n",
       "        [1585, 1653, 1094,  ...,  258, 1153, 1401],\n",
       "        ...,\n",
       "        [1691,  700, 1691,  ...,  700, 1691,  700],\n",
       "        [ 661, 1884,  113,  ..., 1884,  249,  621],\n",
       "        [1072, 1070, 1470,  ..., 1725, 1358, 1727]])"
      ]
     },
     "execution_count": 16,
     "metadata": {},
     "output_type": "execute_result"
    }
   ],
   "source": [
    "pos_rw"
   ]
  },
  {
   "cell_type": "code",
   "execution_count": null,
   "metadata": {
    "id": "4Dqe8tZqeWrH"
   },
   "outputs": [],
   "source": [
    "neg_rw"
   ]
  },
  {
   "cell_type": "markdown",
   "metadata": {
    "id": "Umzg7MXGeWrI"
   },
   "source": [
    "### Visualization"
   ]
  },
  {
   "cell_type": "code",
   "execution_count": 17,
   "metadata": {
    "id": "6Uvz_KK2eWrI"
   },
   "outputs": [],
   "source": [
    "import networkx as nx\n",
    "edge_tuples = [tuple(x) for x in data.edge_index.numpy().transpose()]\n",
    "G = nx.from_edgelist(edge_tuples)\n",
    "pos = nx.spring_layout(G, center=[0.5, 0.5])\n",
    "nx.set_node_attributes(G, pos, 'pos')"
   ]
  },
  {
   "cell_type": "code",
   "execution_count": null,
   "metadata": {
    "id": "DYoEleiAeWrI"
   },
   "outputs": [],
   "source": [
    "nodelist = next(enumerate(loader))[1][0][0].tolist()\n",
    "walk = nx.path_graph(len(nodelist))\n",
    "nx.set_node_attributes(walk, {idx: pos[node_id] for idx, node_id in enumerate(nodelist)}, 'pos')\n",
    "\n",
    "fig = plt.figure(figsize=(20, 10))\n",
    "ax = fig.add_subplot(1, 2, 1)\n",
    "nx.draw_networkx_nodes(G,\n",
    "                       ax=ax,\n",
    "                       pos=nx.get_node_attributes(G, 'pos'),\n",
    "                       node_size=5,\n",
    "                       alpha=0.3,\n",
    "                       node_color='b')\n",
    "nx.draw(walk,\n",
    "        node_size=40,\n",
    "        node_color='r',\n",
    "        ax=ax,\n",
    "        pos=nx.get_node_attributes(walk, 'pos'),\n",
    "        width=2,\n",
    "        edge_color='r')\n",
    "ax = fig.add_subplot(1, 2, 2)\n",
    "nx.draw(walk,\n",
    "        node_size=40,\n",
    "        node_color='r',\n",
    "        ax=ax,\n",
    "        pos=nx.get_node_attributes(walk, 'pos'),\n",
    "        width=2,\n",
    "        edge_color='r')"
   ]
  },
  {
   "cell_type": "markdown",
   "metadata": {
    "id": "Zr0LCUibeWrI"
   },
   "source": [
    "# Training"
   ]
  },
  {
   "cell_type": "markdown",
   "metadata": {
    "id": "P-VhCnGleWrI"
   },
   "source": [
    "### Model definition"
   ]
  },
  {
   "cell_type": "code",
   "execution_count": null,
   "metadata": {
    "id": "WhAkFe8leWrI"
   },
   "outputs": [],
   "source": [
    "model = Node2Vec(data.edge_index, embedding_dim=128, walk_length=20,\n",
    "                 context_size=10, walks_per_node=10,\n",
    "                 num_negative_samples=1, p=1, q=1, sparse=True).to(device)\n",
    "\n",
    "loader = model.loader(batch_size=128, shuffle=True, num_workers=4)\n",
    "optimizer = torch.optim.SparseAdam(list(model.parameters()), lr=0.01)"
   ]
  },
  {
   "cell_type": "markdown",
   "metadata": {
    "id": "_VKYupr_eWrJ"
   },
   "source": [
    "### Training function"
   ]
  },
  {
   "cell_type": "code",
   "execution_count": null,
   "metadata": {
    "id": "OAWZB8BMeWrJ"
   },
   "outputs": [],
   "source": [
    "def train():\n",
    "    model.train()\n",
    "    total_loss = 0\n",
    "    for pos_rw, neg_rw in tqdm(loader):\n",
    "        optimizer.zero_grad()\n",
    "        loss = model.loss(pos_rw.to(device), neg_rw.to(device))\n",
    "        loss.backward()\n",
    "        optimizer.step()\n",
    "        total_loss += loss.item()\n",
    "    return total_loss / len(loader)"
   ]
  },
  {
   "cell_type": "markdown",
   "metadata": {
    "id": "1YIWidmgeWrJ"
   },
   "source": [
    "### Test function"
   ]
  },
  {
   "cell_type": "code",
   "execution_count": null,
   "metadata": {
    "id": "heOi7o5ieWrJ"
   },
   "outputs": [],
   "source": [
    "data"
   ]
  },
  {
   "cell_type": "code",
   "execution_count": null,
   "metadata": {
    "id": "4U63M4yseWrJ"
   },
   "outputs": [],
   "source": [
    "data.y"
   ]
  },
  {
   "cell_type": "code",
   "execution_count": null,
   "metadata": {
    "id": "Lmp9zoNveWrJ"
   },
   "outputs": [],
   "source": [
    "data.y.unique()"
   ]
  },
  {
   "cell_type": "code",
   "execution_count": null,
   "metadata": {
    "id": "huDJnTIyeWrJ"
   },
   "outputs": [],
   "source": [
    "@torch.no_grad()\n",
    "def test():\n",
    "    model.eval()\n",
    "    z = model()\n",
    "    acc = model.test(z[data.train_mask], data.y[data.train_mask],\n",
    "                     z[data.test_mask], data.y[data.test_mask],\n",
    "                     max_iter=150)\n",
    "    return acc"
   ]
  },
  {
   "cell_type": "markdown",
   "metadata": {
    "id": "CEVJv9haeWrK"
   },
   "source": [
    "### Training"
   ]
  },
  {
   "cell_type": "code",
   "execution_count": null,
   "metadata": {
    "id": "tZ2U5QIKeWrK"
   },
   "outputs": [],
   "source": [
    "for epoch in range(1, 201):\n",
    "    loss = train()\n",
    "    acc = test()\n",
    "    print(f'Epoch: {epoch:02d}, Loss: {loss:.4f}, Acc: {acc:.4f}')"
   ]
  },
  {
   "cell_type": "markdown",
   "metadata": {
    "id": "gawqT8VmeWrK"
   },
   "source": [
    "### Visualization"
   ]
  },
  {
   "cell_type": "code",
   "execution_count": null,
   "metadata": {
    "id": "obALuh2JeWrK"
   },
   "outputs": [],
   "source": [
    "@torch.no_grad()\n",
    "def plot_points(colors):\n",
    "    model.eval()\n",
    "    z = model(torch.arange(data.num_nodes, device=device))\n",
    "    z = TSNE(n_components=2).fit_transform(z.cpu().numpy())\n",
    "    y = data.y.cpu().numpy()\n",
    "\n",
    "    plt.figure(figsize=(8, 8))\n",
    "    for i in range(dataset.num_classes):\n",
    "        plt.scatter(z[y == i, 0], z[y == i, 1], s=20, color=colors[i])\n",
    "    plt.axis('off')\n",
    "    plt.show()\n",
    "\n",
    "colors = [\n",
    "    '#ffc0cb', '#bada55', '#008080', '#420420', '#7fe5f0', '#065535',\n",
    "    '#ffd700'\n",
    "]\n",
    "plot_points(colors)"
   ]
  },
  {
   "cell_type": "code",
   "execution_count": null,
   "metadata": {
    "id": "P2waIGwteWrK"
   },
   "outputs": [],
   "source": []
  }
 ],
 "metadata": {
  "accelerator": "GPU",
  "colab": {
   "gpuType": "T4",
   "provenance": [
    {
     "file_id": "https://github.com/AntonioLonga/PytorchGeometricTutorial/blob/main/Tutorial11/Tutorial11.ipynb",
     "timestamp": 1735057363856
    }
   ]
  },
  "kernelspec": {
   "display_name": ".venv-thesis_coding-py3.10",
   "language": "python",
   "name": "python3"
  },
  "language_info": {
   "codemirror_mode": {
    "name": "ipython",
    "version": 3
   },
   "file_extension": ".py",
   "mimetype": "text/x-python",
   "name": "python",
   "nbconvert_exporter": "python",
   "pygments_lexer": "ipython3",
   "version": "3.10.4"
  }
 },
 "nbformat": 4,
 "nbformat_minor": 0
}
