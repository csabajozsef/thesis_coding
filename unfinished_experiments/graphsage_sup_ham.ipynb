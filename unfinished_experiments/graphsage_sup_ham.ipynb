{
 "cells": [
  {
   "cell_type": "code",
   "execution_count": null,
   "id": "3fdf8965",
   "metadata": {},
   "outputs": [
    {
     "data": {
      "text/plain": [
       "<module 'training' from 'c:\\\\Users\\\\csaba\\\\Documents\\\\Coding\\\\git_own\\\\thesis_coding\\\\training.py'>"
      ]
     },
     "execution_count": 1,
     "metadata": {},
     "output_type": "execute_result"
    }
   ],
   "source": [
    "import torch\n",
    "import torch.nn.functional as F\n",
    "from torch_geometric.datasets import Planetoid\n",
    "from torch_geometric.nn import GraphSAGE\n",
    "\n",
    "import importlib\n",
    "\n",
    "import modules.training as training\n",
    "importlib.reload(training)"
   ]
  },
  {
   "cell_type": "code",
   "execution_count": 2,
   "id": "73df2a70",
   "metadata": {},
   "outputs": [
    {
     "ename": "NameError",
     "evalue": "name 'utils' is not defined",
     "output_type": "error",
     "traceback": [
      "\u001b[1;31m---------------------------------------------------------------------------\u001b[0m",
      "\u001b[1;31mNameError\u001b[0m                                 Traceback (most recent call last)",
      "Cell \u001b[1;32mIn[2], line 1\u001b[0m\n\u001b[1;32m----> 1\u001b[0m device \u001b[38;5;241m=\u001b[39m \u001b[43mutils\u001b[49m\u001b[38;5;241m.\u001b[39mset_seeds_and_device() \n\u001b[0;32m      2\u001b[0m dataset,data \u001b[38;5;241m=\u001b[39m training\u001b[38;5;241m.\u001b[39mload_dataset(\u001b[38;5;124m'\u001b[39m\u001b[38;5;124mCora\u001b[39m\u001b[38;5;124m'\u001b[39m, \u001b[38;5;124m\"\u001b[39m\u001b[38;5;124m../training_data/datasets\u001b[39m\u001b[38;5;124m\"\u001b[39m)\n",
      "\u001b[1;31mNameError\u001b[0m: name 'utils' is not defined"
     ]
    }
   ],
   "source": [
    "device = utils.set_seeds_and_device() \n",
    "dataset,data = training.load_dataset('Cora', \"../training_data/datasets\")"
   ]
  },
  {
   "cell_type": "code",
   "execution_count": null,
   "id": "c4986a3a",
   "metadata": {},
   "outputs": [
    {
     "name": "stdout",
     "output_type": "stream",
     "text": [
      "Epoch 20, Loss: 0.0003\n",
      "Epoch 40, Loss: 0.0000\n",
      "Epoch 60, Loss: 0.0001\n",
      "Epoch 80, Loss: 0.0000\n",
      "Epoch 100, Loss: 0.0000\n",
      "Epoch 120, Loss: 0.0000\n",
      "Epoch 140, Loss: 0.0000\n",
      "Epoch 160, Loss: 0.0000\n",
      "Epoch 180, Loss: 0.0000\n",
      "Epoch 200, Loss: 0.0000\n",
      "Test Accuracy: 0.7360\n"
     ]
    }
   ],
   "source": [
    "# Define model\n",
    "model = GraphSAGE(\n",
    "    in_channels=dataset.num_features,\n",
    "    hidden_channels=64,\n",
    "    num_layers=2,\n",
    "    out_channels=dataset.num_classes,\n",
    "    dropout=0.5\n",
    ").to('cpu')\n",
    "\n",
    "optimizer = torch.optim.Adam(model.parameters(), lr=0.01)\n",
    "\n",
    "# Supervised training loop using NLL loss\n",
    "for epoch in range(1, 201):\n",
    "    model.train()\n",
    "    out = model(data.x, data.edge_index)\n",
    "    log_probs = F.log_softmax(out, dim=1)\n",
    "    loss = F.nll_loss(log_probs[data.train_mask], data.y[data.train_mask])\n",
    "    loss.backward()\n",
    "    optimizer.step()\n",
    "    optimizer.zero_grad()\n",
    "    if epoch % 20 == 0:\n",
    "        print(f'Epoch {epoch}, Loss: {loss.item():.4f}')\n",
    "\n",
    "# Evaluation\n",
    "model.eval()\n",
    "pred = out.argmax(dim=1)\n",
    "acc = (pred[data.test_mask] == data.y[data.test_mask]).sum() / data.test_mask.sum()\n",
    "print(f'Test Accuracy: {acc:.4f}')\n"
   ]
  },
  {
   "cell_type": "code",
   "execution_count": null,
   "id": "203155df",
   "metadata": {},
   "outputs": [],
   "source": [
    "from sklearn.linear_model import LogisticRegression\n",
    "from sklearn.svm import SVC\n",
    "from sklearn.neighbors import KNeighborsClassifier\n",
    "from sklearn.tree import DecisionTreeClassifier\n",
    "from sklearn.ensemble import RandomForestClassifier, GradientBoostingClassifier\n",
    "from sklearn.neural_network import MLPClassifier\n",
    "from sklearn.model_selection import train_test_split\n",
    "from sklearn.metrics import accuracy_score, classification_report\n",
    "import pandas as pd\n",
    "\n",
    "# Prepare embeddings and labels\n",
    "X = embeddings.cpu().numpy() if hasattr(embeddings, 'cpu') else embeddings\n",
    "y = data.y.cpu().numpy() if hasattr(data.y, 'cpu') else data.y\n",
    "\n",
    "# Train/test split (stratified)\n",
    "X_train, X_test, y_train, y_test = train_test_split(\n",
    "    X, y, test_size=0.2, random_state=42, stratify=y\n",
    ")\n",
    "\n",
    "models = {\n",
    "    \"Logistic Regression\": LogisticRegression(max_iter=1000),\n",
    "    \"SVM\": SVC(),\n",
    "    \"KNN\": KNeighborsClassifier(),\n",
    "    \"Decision Tree\": DecisionTreeClassifier(),\n",
    "    \"Random Forest\": RandomForestClassifier(random_state=42),\n",
    "    \"Gradient Boosting\": GradientBoostingClassifier(),\n",
    "    \"MLP\": MLPClassifier(max_iter=500)\n",
    "}\n",
    "\n",
    "results = {}\n",
    "\n",
    "for name, model in models.items():\n",
    "    try:\n",
    "        print(f\"\\nTraining {name}...\")\n",
    "        model.fit(X_train, y_train)\n",
    "        y_pred = model.predict(X_test)\n",
    "        acc = accuracy_score(y_test, y_pred)\n",
    "        print(f\"{name} Test accuracy: {acc:.4f}\")\n",
    "        print(classification_report(y_test, y_pred))\n",
    "        results[name] = acc\n",
    "    except Exception as e:\n",
    "        print(f\"{name} failed: {e}\")\n",
    "\n",
    "# Summary table\n",
    "results_df = pd.DataFrame(list(results.items()), columns=[\"Model\", \"Test Accuracy\"])\n",
    "print(\"\\nModel Comparison Summary:\")\n",
    "print(results_df.sort_values(by=\"Test Accuracy\", ascending=False).to_string(index=False))"
   ]
  }
 ],
 "metadata": {
  "kernelspec": {
   "display_name": ".venv-thesis_coding-py3.10",
   "language": "python",
   "name": "python3"
  },
  "language_info": {
   "codemirror_mode": {
    "name": "ipython",
    "version": 3
   },
   "file_extension": ".py",
   "mimetype": "text/x-python",
   "name": "python",
   "nbconvert_exporter": "python",
   "pygments_lexer": "ipython3",
   "version": "3.10.4"
  }
 },
 "nbformat": 4,
 "nbformat_minor": 5
}
