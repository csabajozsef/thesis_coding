{
 "cells": [
  {
   "cell_type": "code",
   "execution_count": 37,
   "id": "033352ea",
   "metadata": {},
   "outputs": [
    {
     "name": "stdout",
     "output_type": "stream",
     "text": [
      "Using device: cpu\n",
      "Random seed set to: 42\n",
      "p_values: [1, 2]\n",
      "q_values: [1, 2]\n"
     ]
    }
   ],
   "source": [
    "import importlib\n",
    "\n",
    "import training\n",
    "importlib.reload(training)\n",
    "import graph_vis\n",
    "importlib.reload(graph_vis)\n",
    "import graph_creation\n",
    "importlib.reload(graph_creation)\n",
    "import utils\n",
    "importlib.reload(utils)\n",
    "import train_n2v\n",
    "importlib.reload(train_n2v)\n",
    "\n",
    "import os\n",
    "import numpy as np"
   ]
  },
  {
   "cell_type": "code",
   "execution_count": null,
   "id": "9a7288ee",
   "metadata": {},
   "outputs": [
    {
     "name": "stdout",
     "output_type": "stream",
     "text": [
      "32\n",
      "['node2vec_embedding_dim_128_walk_length_70_context_size_14_walks_per_node_18_num_negative_samples_1_sparse_True_p_1_q_2_acc_0.0741.json', 'node2vec_embedding_dim_128_walk_length_70_context_size_14_walks_per_node_18_num_negative_samples_1_sparse_True_p_1_q_2_acc_0.0741.pth', 'node2vec_embedding_dim_128_walk_length_70_context_size_14_walks_per_node_18_num_negative_samples_1_sparse_True_p_1_q_2_acc_0.0889.json', 'node2vec_embedding_dim_128_walk_length_70_context_size_14_walks_per_node_18_num_negative_samples_1_sparse_True_p_1_q_2_acc_0.0889.pth', 'node2vec_embedding_dim_128_walk_length_70_context_size_14_walks_per_node_18_num_negative_samples_1_sparse_True_p_1_q_2_acc_0.1111.json', 'node2vec_embedding_dim_128_walk_length_70_context_size_14_walks_per_node_18_num_negative_samples_1_sparse_True_p_1_q_2_acc_0.1111.pth', 'node2vec_embedding_dim_128_walk_length_70_context_size_14_walks_per_node_18_num_negative_samples_1_sparse_True_p_1_q_2_acc_0.1780.json', 'node2vec_embedding_dim_128_walk_length_70_context_size_14_walks_per_node_18_num_negative_samples_1_sparse_True_p_1_q_2_acc_0.1790.json', 'node2vec_embedding_dim_128_walk_length_70_context_size_14_walks_per_node_18_num_negative_samples_1_sparse_True_p_1_q_2_acc_0.1800.json', 'node2vec_embedding_dim_128_walk_length_70_context_size_14_walks_per_node_18_num_negative_samples_1_sparse_True_p_1_q_2_acc_0.2300.json', 'node2vec_embedding_dim_128_walk_length_70_context_size_14_walks_per_node_18_num_negative_samples_1_sparse_True_p_1_q_2_acc_0.2830.json', 'node2vec_embedding_dim_128_walk_length_70_context_size_14_walks_per_node_18_num_negative_samples_1_sparse_True_p_1_q_2_acc_0.7000.json', 'node2vec_embedding_dim_128_walk_length_70_context_size_14_walks_per_node_18_num_negative_samples_1_sparse_True_p_1_q_2_acc_0.7000.pth', 'node2vec_graph_with_communities_generator_sb_embedding_dim_128_walk_length_70_context_size_14_walks_per_node_18_num_negative_samples_1_sparse_True_p_1_q_2_acc__acc_0.0667.json', 'node2vec_graph_with_communities_generator_sb_embedding_dim_128_walk_length_70_context_size_14_walks_per_node_18_num_negative_samples_1_sparse_True_p_1_q_2_acc__acc_0.0667.pth', 'node2vec_graph_with_communities_generator_sb_embedding_dim_128_walk_length_70_context_size_14_walks_per_node_18_num_negative_samples_1_sparse_True_p_1_q_2_acc__acc_0.1333.json', 'node2vec_graph_with_communities_generator_sb_embedding_dim_128_walk_length_70_context_size_14_walks_per_node_18_num_negative_samples_1_sparse_True_p_1_q_2_acc__acc_0.1333.pth', 'node2vec_graph_with_communities_generator_sb_embedding_dim_128_walk_length_70_context_size_14_walks_per_node_18_num_negative_samples_1_sparse_True_p_1_q_2_acc__acc_0.2000.json', 'node2vec_graph_with_communities_generator_sb_embedding_dim_128_walk_length_70_context_size_14_walks_per_node_18_num_negative_samples_1_sparse_True_p_1_q_2_acc__acc_0.2000.pth', 'node2vec_Unknownembedding_dim_128_walk_length_70_context_size_14_walks_per_node_18_num_negative_samples_1_sparse_True_p_1_q_2_acc_0.1800.pth', 'node2vec_Unknownembedding_dim_128_walk_length_70_context_size_14_walks_per_node_18_num_negative_samples_1_sparse_True_p_1_q_2_acc_0.2300.pth', 'node2vec_Unknownembedding_dim_128_walk_length_70_context_size_14_walks_per_node_18_num_negative_samples_1_sparse_True_p_1_q_2_acc_0.2830.pth', 'node2vec_Unknown_embedding_dim_128_walk_length_70_context_size_14_walks_per_node_18_num_negative_samples_1_sparse_True_p_1_q_2_acc__acc_0.1790.json', 'node2vec_Unknown_embedding_dim_128_walk_length_70_context_size_14_walks_per_node_18_num_negative_samples_1_sparse_True_p_1_q_2_acc__acc_0.1790.pth', 'node2vec_Unknown_embedding_dim_128_walk_length_70_context_size_14_walks_per_node_18_num_negative_samples_1_sparse_True_p_1_q_2_acc__acc_0.2000.json', 'node2vec_Unknown_embedding_dim_128_walk_length_70_context_size_14_walks_per_node_18_num_negative_samples_1_sparse_True_p_1_q_2_acc__acc_0.2000.pth', 'node2vec_Unknown_embedding_dim_128_walk_length_70_context_size_14_walks_per_node_18_num_negative_samples_1_sparse_True_p_1_q_2_acc__acc_0.2310.json', 'node2vec_Unknown_embedding_dim_128_walk_length_70_context_size_14_walks_per_node_18_num_negative_samples_1_sparse_True_p_1_q_2_acc__acc_0.2310.pth', 'node2vec_Unknown_embedding_dim_128_walk_length_70_context_size_14_walks_per_node_18_num_negative_samples_1_sparse_True_p_1_q_2_acc__acc_0.2667.json', 'node2vec_Unknown_embedding_dim_128_walk_length_70_context_size_14_walks_per_node_18_num_negative_samples_1_sparse_True_p_1_q_2_acc__acc_0.2667.pth', 'node2vec_Unknown_embedding_dim_128_walk_length_70_context_size_14_walks_per_node_18_num_negative_samples_1_sparse_True_p_1_q_2_acc__acc_0.2840.json', 'node2vec_Unknown_embedding_dim_128_walk_length_70_context_size_14_walks_per_node_18_num_negative_samples_1_sparse_True_p_1_q_2_acc__acc_0.2840.pth']\n",
      "32\n",
      "['node2vec_embedding_dim_128_walk_length_70_context_size_14_walks_per_node_18_num_negative_samples_1_sparse_True_p_1_q_2_acc_0.0741.json', 'node2vec_embedding_dim_128_walk_length_70_context_size_14_walks_per_node_18_num_negative_samples_1_sparse_True_p_1_q_2_acc_0.0741.pth', 'node2vec_embedding_dim_128_walk_length_70_context_size_14_walks_per_node_18_num_negative_samples_1_sparse_True_p_1_q_2_acc_0.0889.json', 'node2vec_embedding_dim_128_walk_length_70_context_size_14_walks_per_node_18_num_negative_samples_1_sparse_True_p_1_q_2_acc_0.0889.pth', 'node2vec_embedding_dim_128_walk_length_70_context_size_14_walks_per_node_18_num_negative_samples_1_sparse_True_p_1_q_2_acc_0.1111.json', 'node2vec_embedding_dim_128_walk_length_70_context_size_14_walks_per_node_18_num_negative_samples_1_sparse_True_p_1_q_2_acc_0.1111.pth', 'node2vec_embedding_dim_128_walk_length_70_context_size_14_walks_per_node_18_num_negative_samples_1_sparse_True_p_1_q_2_acc_0.1780.json', 'node2vec_embedding_dim_128_walk_length_70_context_size_14_walks_per_node_18_num_negative_samples_1_sparse_True_p_1_q_2_acc_0.1790.json', 'node2vec_embedding_dim_128_walk_length_70_context_size_14_walks_per_node_18_num_negative_samples_1_sparse_True_p_1_q_2_acc_0.1800.json', 'node2vec_embedding_dim_128_walk_length_70_context_size_14_walks_per_node_18_num_negative_samples_1_sparse_True_p_1_q_2_acc_0.2300.json', 'node2vec_embedding_dim_128_walk_length_70_context_size_14_walks_per_node_18_num_negative_samples_1_sparse_True_p_1_q_2_acc_0.2830.json', 'node2vec_embedding_dim_128_walk_length_70_context_size_14_walks_per_node_18_num_negative_samples_1_sparse_True_p_1_q_2_acc_0.7000.json', 'node2vec_embedding_dim_128_walk_length_70_context_size_14_walks_per_node_18_num_negative_samples_1_sparse_True_p_1_q_2_acc_0.7000.pth', 'node2vec_graph_with_communities_generator_sb_embedding_dim_128_walk_length_70_context_size_14_walks_per_node_18_num_negative_samples_1_sparse_True_p_1_q_2_acc__acc_0.0667.json', 'node2vec_graph_with_communities_generator_sb_embedding_dim_128_walk_length_70_context_size_14_walks_per_node_18_num_negative_samples_1_sparse_True_p_1_q_2_acc__acc_0.0667.pth', 'node2vec_graph_with_communities_generator_sb_embedding_dim_128_walk_length_70_context_size_14_walks_per_node_18_num_negative_samples_1_sparse_True_p_1_q_2_acc__acc_0.1333.json', 'node2vec_graph_with_communities_generator_sb_embedding_dim_128_walk_length_70_context_size_14_walks_per_node_18_num_negative_samples_1_sparse_True_p_1_q_2_acc__acc_0.1333.pth', 'node2vec_graph_with_communities_generator_sb_embedding_dim_128_walk_length_70_context_size_14_walks_per_node_18_num_negative_samples_1_sparse_True_p_1_q_2_acc__acc_0.2000.json', 'node2vec_graph_with_communities_generator_sb_embedding_dim_128_walk_length_70_context_size_14_walks_per_node_18_num_negative_samples_1_sparse_True_p_1_q_2_acc__acc_0.2000.pth', 'node2vec_Unknownembedding_dim_128_walk_length_70_context_size_14_walks_per_node_18_num_negative_samples_1_sparse_True_p_1_q_2_acc_0.1800.pth', 'node2vec_Unknownembedding_dim_128_walk_length_70_context_size_14_walks_per_node_18_num_negative_samples_1_sparse_True_p_1_q_2_acc_0.2300.pth', 'node2vec_Unknownembedding_dim_128_walk_length_70_context_size_14_walks_per_node_18_num_negative_samples_1_sparse_True_p_1_q_2_acc_0.2830.pth', 'node2vec_Unknown_embedding_dim_128_walk_length_70_context_size_14_walks_per_node_18_num_negative_samples_1_sparse_True_p_1_q_2_acc__acc_0.1790.json', 'node2vec_Unknown_embedding_dim_128_walk_length_70_context_size_14_walks_per_node_18_num_negative_samples_1_sparse_True_p_1_q_2_acc__acc_0.1790.pth', 'node2vec_Unknown_embedding_dim_128_walk_length_70_context_size_14_walks_per_node_18_num_negative_samples_1_sparse_True_p_1_q_2_acc__acc_0.2000.json', 'node2vec_Unknown_embedding_dim_128_walk_length_70_context_size_14_walks_per_node_18_num_negative_samples_1_sparse_True_p_1_q_2_acc__acc_0.2000.pth', 'node2vec_Unknown_embedding_dim_128_walk_length_70_context_size_14_walks_per_node_18_num_negative_samples_1_sparse_True_p_1_q_2_acc__acc_0.2310.json', 'node2vec_Unknown_embedding_dim_128_walk_length_70_context_size_14_walks_per_node_18_num_negative_samples_1_sparse_True_p_1_q_2_acc__acc_0.2310.pth', 'node2vec_Unknown_embedding_dim_128_walk_length_70_context_size_14_walks_per_node_18_num_negative_samples_1_sparse_True_p_1_q_2_acc__acc_0.2667.json', 'node2vec_Unknown_embedding_dim_128_walk_length_70_context_size_14_walks_per_node_18_num_negative_samples_1_sparse_True_p_1_q_2_acc__acc_0.2667.pth', 'node2vec_Unknown_embedding_dim_128_walk_length_70_context_size_14_walks_per_node_18_num_negative_samples_1_sparse_True_p_1_q_2_acc__acc_0.2840.json', 'node2vec_Unknown_embedding_dim_128_walk_length_70_context_size_14_walks_per_node_18_num_negative_samples_1_sparse_True_p_1_q_2_acc__acc_0.2840.pth']\n"
     ]
    }
   ],
   "source": [
    "def model_name_search(\n",
    "    param_dict=None,\n",
    "    model_dir=\"./training_data/models\"\n",
    "):\n",
    "    \"\"\"\n",
    "    USED TO FIND BEST ACCURACY?\n",
    "    Search for model files matching the given parameters in param_dict.\n",
    "    Only parameters provided in param_dict will be used for filtering.\n",
    "    Returns a list of matching filenames.\n",
    "    \"\"\"\n",
    "\n",
    "    # Default values as used previously\n",
    "    default_params = {\n",
    "        \"embedding_dim\": 128,\n",
    "        \"walk_length\": 70,\n",
    "        \"context_size\": 14,\n",
    "        \"walks_per_node\": 18,\n",
    "        \"num_negative_samples\": 1,\n",
    "        \"sparse\": True,\n",
    "        \"p\": 1,\n",
    "        \"q\": 2\n",
    "    }\n",
    "\n",
    "    if param_dict is None:\n",
    "        param_dict = default_params\n",
    "    else:\n",
    "        pass\n",
    "        # # Fill in missing defaults\n",
    "        # for k, v in default_params.items():\n",
    "        #     if k not in param_dict:\n",
    "        #         param_dict[k] = v\n",
    "\n",
    "    # Build the filter string(s) for each parameter provided\n",
    "    filter_parts = []\n",
    "    for key, value in param_dict.items():\n",
    "        filter_parts.append(f\"{key}_{value}\")\n",
    "\n",
    "    # List all files in the model directory\n",
    "    if not os.path.exists(model_dir):\n",
    "        return []\n",
    "\n",
    "    matching_files = []\n",
    "    for f in os.listdir(model_dir):\n",
    "        if all(part in f for part in filter_parts):\n",
    "            matching_files.append(f)\n",
    "    return matching_files\n",
    "\n",
    "\n",
    "files = model_name_search({'p': 1})\n",
    "print(len(files))\n",
    "print(files)\n",
    "\n",
    "\n",
    "files = model_name_search({'p': 1, 'q': 2})\n",
    "print(len(files))\n",
    "print(files)"
   ]
  },
  {
   "cell_type": "code",
   "execution_count": 39,
   "id": "90fb393e",
   "metadata": {},
   "outputs": [
    {
     "name": "stdout",
     "output_type": "stream",
     "text": [
      "p_values: [1, 2]\n",
      "q_values: [1, 2]\n",
      "{'embedding_dim': 128, 'walk_length': 70, 'context_size': 14, 'walks_per_node': 18, 'num_negative_samples': 1, 'sparse': True, 'p': 1, 'q': 2}\n",
      "embedding_dim_128_walk_length_70_context_size_14_walks_per_node_18_num_negative_samples_1_sparse_True_p_1_q_2\n",
      "list of matching files:  ['node2vec_embedding_dim_128_walk_length_70_context_size_14_walks_per_node_18_num_negative_samples_1_sparse_True_p_1_q_2_acc_0.0741.json', 'node2vec_embedding_dim_128_walk_length_70_context_size_14_walks_per_node_18_num_negative_samples_1_sparse_True_p_1_q_2_acc_0.0741.pth', 'node2vec_embedding_dim_128_walk_length_70_context_size_14_walks_per_node_18_num_negative_samples_1_sparse_True_p_1_q_2_acc_0.0889.json', 'node2vec_embedding_dim_128_walk_length_70_context_size_14_walks_per_node_18_num_negative_samples_1_sparse_True_p_1_q_2_acc_0.0889.pth', 'node2vec_embedding_dim_128_walk_length_70_context_size_14_walks_per_node_18_num_negative_samples_1_sparse_True_p_1_q_2_acc_0.1111.json', 'node2vec_embedding_dim_128_walk_length_70_context_size_14_walks_per_node_18_num_negative_samples_1_sparse_True_p_1_q_2_acc_0.1111.pth', 'node2vec_embedding_dim_128_walk_length_70_context_size_14_walks_per_node_18_num_negative_samples_1_sparse_True_p_1_q_2_acc_0.1780.json', 'node2vec_embedding_dim_128_walk_length_70_context_size_14_walks_per_node_18_num_negative_samples_1_sparse_True_p_1_q_2_acc_0.1790.json', 'node2vec_embedding_dim_128_walk_length_70_context_size_14_walks_per_node_18_num_negative_samples_1_sparse_True_p_1_q_2_acc_0.1800.json', 'node2vec_embedding_dim_128_walk_length_70_context_size_14_walks_per_node_18_num_negative_samples_1_sparse_True_p_1_q_2_acc_0.2300.json', 'node2vec_embedding_dim_128_walk_length_70_context_size_14_walks_per_node_18_num_negative_samples_1_sparse_True_p_1_q_2_acc_0.2830.json', 'node2vec_embedding_dim_128_walk_length_70_context_size_14_walks_per_node_18_num_negative_samples_1_sparse_True_p_1_q_2_acc_0.7000.json', 'node2vec_embedding_dim_128_walk_length_70_context_size_14_walks_per_node_18_num_negative_samples_1_sparse_True_p_1_q_2_acc_0.7000.pth', 'node2vec_graph_with_communities_generator_sb_embedding_dim_128_walk_length_70_context_size_14_walks_per_node_18_num_negative_samples_1_sparse_True_p_1_q_2_acc__acc_0.0667.json', 'node2vec_graph_with_communities_generator_sb_embedding_dim_128_walk_length_70_context_size_14_walks_per_node_18_num_negative_samples_1_sparse_True_p_1_q_2_acc__acc_0.0667.pth', 'node2vec_graph_with_communities_generator_sb_embedding_dim_128_walk_length_70_context_size_14_walks_per_node_18_num_negative_samples_1_sparse_True_p_1_q_2_acc__acc_0.1333.json', 'node2vec_graph_with_communities_generator_sb_embedding_dim_128_walk_length_70_context_size_14_walks_per_node_18_num_negative_samples_1_sparse_True_p_1_q_2_acc__acc_0.1333.pth', 'node2vec_graph_with_communities_generator_sb_embedding_dim_128_walk_length_70_context_size_14_walks_per_node_18_num_negative_samples_1_sparse_True_p_1_q_2_acc__acc_0.2000.json', 'node2vec_graph_with_communities_generator_sb_embedding_dim_128_walk_length_70_context_size_14_walks_per_node_18_num_negative_samples_1_sparse_True_p_1_q_2_acc__acc_0.2000.pth', 'node2vec_Unknownembedding_dim_128_walk_length_70_context_size_14_walks_per_node_18_num_negative_samples_1_sparse_True_p_1_q_2_acc_0.1800.pth', 'node2vec_Unknownembedding_dim_128_walk_length_70_context_size_14_walks_per_node_18_num_negative_samples_1_sparse_True_p_1_q_2_acc_0.2300.pth', 'node2vec_Unknownembedding_dim_128_walk_length_70_context_size_14_walks_per_node_18_num_negative_samples_1_sparse_True_p_1_q_2_acc_0.2830.pth', 'node2vec_Unknown_embedding_dim_128_walk_length_70_context_size_14_walks_per_node_18_num_negative_samples_1_sparse_True_p_1_q_2_acc__acc_0.1790.json', 'node2vec_Unknown_embedding_dim_128_walk_length_70_context_size_14_walks_per_node_18_num_negative_samples_1_sparse_True_p_1_q_2_acc__acc_0.1790.pth', 'node2vec_Unknown_embedding_dim_128_walk_length_70_context_size_14_walks_per_node_18_num_negative_samples_1_sparse_True_p_1_q_2_acc__acc_0.2000.json', 'node2vec_Unknown_embedding_dim_128_walk_length_70_context_size_14_walks_per_node_18_num_negative_samples_1_sparse_True_p_1_q_2_acc__acc_0.2000.pth', 'node2vec_Unknown_embedding_dim_128_walk_length_70_context_size_14_walks_per_node_18_num_negative_samples_1_sparse_True_p_1_q_2_acc__acc_0.2310.json', 'node2vec_Unknown_embedding_dim_128_walk_length_70_context_size_14_walks_per_node_18_num_negative_samples_1_sparse_True_p_1_q_2_acc__acc_0.2310.pth', 'node2vec_Unknown_embedding_dim_128_walk_length_70_context_size_14_walks_per_node_18_num_negative_samples_1_sparse_True_p_1_q_2_acc__acc_0.2667.json', 'node2vec_Unknown_embedding_dim_128_walk_length_70_context_size_14_walks_per_node_18_num_negative_samples_1_sparse_True_p_1_q_2_acc__acc_0.2667.pth', 'node2vec_Unknown_embedding_dim_128_walk_length_70_context_size_14_walks_per_node_18_num_negative_samples_1_sparse_True_p_1_q_2_acc__acc_0.2840.json', 'node2vec_Unknown_embedding_dim_128_walk_length_70_context_size_14_walks_per_node_18_num_negative_samples_1_sparse_True_p_1_q_2_acc__acc_0.2840.pth']\n"
     ]
    }
   ],
   "source": [
    "import os\n",
    "\n",
    "# get dict\n",
    "dicts_tests = training.create_parameters_dict()\n",
    "dict_test = dicts_tests['p=1_q=2']\n",
    "print(dict_test)\n",
    "\n",
    "def get_best_acc_from_models(params: dict):\n",
    "    string_of_params =  utils.file_name_generator(params)\n",
    "    print(string_of_params)\n",
    "# generate string for filename with \n",
    "    model_dir = \"./training_data/models\"\n",
    "    matching_files = [f for f in os.listdir(model_dir) if string_of_params in f]\n",
    "    print(\"list of matching files: \", matching_files)\n",
    "    pass\n",
    "\n",
    "get_best_acc_from_models(dict_test)"
   ]
  },
  {
   "cell_type": "code",
   "execution_count": null,
   "id": "b4ba9169",
   "metadata": {},
   "outputs": [],
   "source": []
  },
  {
   "cell_type": "code",
   "execution_count": 40,
   "id": "56381d53",
   "metadata": {},
   "outputs": [
    {
     "name": "stdout",
     "output_type": "stream",
     "text": [
      "lol"
     ]
    },
    {
     "name": "stdout",
     "output_type": "stream",
     "text": [
      "\n",
      "\n",
      "----------Basic graph information-----------\n",
      "Type:  <class 'networkx.classes.digraph.DiGraph'>\n",
      "DiGraph with 2708 nodes and 10556 edges\n",
      "Number of nodes:  2708\n",
      "Number of edges:  10556\n",
      "Average node degree:  7.796159527326441\n",
      "Has isolated nodes:  0\n",
      "Has self loops:  0\n",
      "Is directed:  True\n",
      "Warning: Connected components and largest component stats not available for directed graphs.\n",
      "Error calculating Average Shortest Path (Largest Component): local variable 'largest_cc' referenced before assignment\n",
      "Error calculating Number of Connected Components: not implemented for directed type\n",
      "----------Graph extra statistics-----------\n",
      "Number of connected components: N/A (directed graph)\n",
      "Number of nodes in largest component: N/A (directed graph)\n",
      "Average Clustering Coefficient: 0.24067329850193728\n",
      "Transitivity/Global clustering coeff: 0.09349725626661058\n",
      "\n"
     ]
    }
   ],
   "source": [
    "# load cora \n",
    "dataset,data = training.load_dataset()\n",
    "graph_vis.print_graph_info_cluster(data)\n",
    "data_list=[data]"
   ]
  },
  {
   "cell_type": "code",
   "execution_count": 41,
   "id": "58ed6039",
   "metadata": {},
   "outputs": [
    {
     "name": "stdout",
     "output_type": "stream",
     "text": [
      "Running with 1 = {'embedding_dim': 128, 'walk_length': 70, 'context_size': 14, 'walks_per_node': 18, 'num_negative_samples': 1, 'sparse': True, 'p': 2, 'q': 1}\n",
      "Model initialization parameters provided as dictionary.\n",
      "Model initialized\n",
      "Starting training for 10 epochs...\n"
     ]
    },
    {
     "name": "stderr",
     "output_type": "stream",
     "text": [
      "Epoch 1/10 Training:   0%|          | 0/22 [00:00<?, ?it/s]"
     ]
    },
    {
     "name": "stderr",
     "output_type": "stream",
     "text": [
      "                                                                    \r"
     ]
    },
    {
     "name": "stdout",
     "output_type": "stream",
     "text": [
      "Epoch: 001, Loss: 7.8224, Acc: 0.1840, Duration: 311.94s\n",
      "Dataset name: load_dataset_Cora\n",
      "    New best model saved with accuracy: 0.1840\n"
     ]
    },
    {
     "name": "stderr",
     "output_type": "stream",
     "text": [
      "                                                                    \r"
     ]
    },
    {
     "name": "stdout",
     "output_type": "stream",
     "text": [
      "Epoch: 002, Loss: 5.2763, Acc: 0.2340, Duration: 141.61s\n",
      "Dataset name: load_dataset_Cora\n",
      "    New best model saved with accuracy: 0.2340\n"
     ]
    },
    {
     "name": "stderr",
     "output_type": "stream",
     "text": [
      "                                                                    \r"
     ]
    },
    {
     "name": "stdout",
     "output_type": "stream",
     "text": [
      "Epoch: 003, Loss: 3.8223, Acc: 0.3070, Duration: 146.69s\n",
      "Dataset name: load_dataset_Cora\n",
      "    New best model saved with accuracy: 0.3070\n"
     ]
    },
    {
     "name": "stderr",
     "output_type": "stream",
     "text": [
      "                                                                    \r"
     ]
    },
    {
     "name": "stdout",
     "output_type": "stream",
     "text": [
      "Epoch: 004, Loss: 2.8675, Acc: 0.3760, Duration: 152.44s\n",
      "Dataset name: load_dataset_Cora\n",
      "    New best model saved with accuracy: 0.3760\n"
     ]
    },
    {
     "name": "stderr",
     "output_type": "stream",
     "text": [
      "                                                                    \r"
     ]
    },
    {
     "name": "stdout",
     "output_type": "stream",
     "text": [
      "Epoch: 005, Loss: 2.2448, Acc: 0.4330, Duration: 138.98s\n",
      "Dataset name: load_dataset_Cora\n",
      "    New best model saved with accuracy: 0.4330\n"
     ]
    },
    {
     "name": "stderr",
     "output_type": "stream",
     "text": [
      "                                                                    \r"
     ]
    },
    {
     "name": "stdout",
     "output_type": "stream",
     "text": [
      "Epoch: 006, Loss: 1.8308, Acc: 0.4690, Duration: 130.77s\n",
      "Dataset name: load_dataset_Cora\n",
      "    New best model saved with accuracy: 0.4690\n"
     ]
    },
    {
     "name": "stderr",
     "output_type": "stream",
     "text": [
      "                                                                    \r"
     ]
    },
    {
     "name": "stdout",
     "output_type": "stream",
     "text": [
      "Epoch: 007, Loss: 1.5490, Acc: 0.5040, Duration: 137.00s\n",
      "Dataset name: load_dataset_Cora\n",
      "    New best model saved with accuracy: 0.5040\n"
     ]
    },
    {
     "name": "stderr",
     "output_type": "stream",
     "text": [
      "                                                                    \r"
     ]
    },
    {
     "name": "stdout",
     "output_type": "stream",
     "text": [
      "Epoch: 008, Loss: 1.3587, Acc: 0.5490, Duration: 136.73s\n",
      "Dataset name: load_dataset_Cora\n",
      "    New best model saved with accuracy: 0.5490\n"
     ]
    },
    {
     "name": "stderr",
     "output_type": "stream",
     "text": [
      "                                                                    \r"
     ]
    },
    {
     "name": "stdout",
     "output_type": "stream",
     "text": [
      "Epoch: 009, Loss: 1.2263, Acc: 0.5790, Duration: 137.02s\n",
      "Dataset name: load_dataset_Cora\n",
      "    New best model saved with accuracy: 0.5790\n"
     ]
    },
    {
     "name": "stderr",
     "output_type": "stream",
     "text": [
      "                                                                     \r"
     ]
    },
    {
     "name": "stdout",
     "output_type": "stream",
     "text": [
      "Epoch: 010, Loss: 1.1397, Acc: 0.5900, Duration: 129.61s\n",
      "Dataset name: load_dataset_Cora\n",
      "    New best model saved with accuracy: 0.5900\n",
      "\n",
      "Training finished.\n",
      "Total elapsed time: 1562.91 seconds\n",
      "Best test accuracy: 0.5900\n",
      "Best model state saved to './training_data/models/'\n"
     ]
    },
    {
     "data": {
      "image/png": "[encoded data removed]",
      "text/plain": [
       "<Figure size 800x500 with 1 Axes>"
      ]
     },
     "metadata": {},
     "output_type": "display_data"
    }
   ],
   "source": [
    "# actually just load best model, i will train later - how to track the best?\n",
    "# p>q case is the winner\n",
    "parameter_dicts = {1:{\"embedding_dim\": 128,\n",
    "                        \"walk_length\": 70,\n",
    "                        \"context_size\": 14,\n",
    "                        \"walks_per_node\": 18,\n",
    "                        \"num_negative_samples\": 1,\n",
    "                        \"sparse\": True,\n",
    "                        \"p\": 2,\n",
    "                        \"q\": 1,\n",
    "                          }\n",
    "}\n",
    "\n",
    "train_n2v.train_node2vec(data_list, parameter_dicts = parameter_dicts ,  num_training_epochs = 10)"
   ]
  },
  {
   "cell_type": "markdown",
   "id": "8b0c5a67",
   "metadata": {},
   "source": [
    "## mostani saving hogyan működik\n",
    "model_training_n2v - minden epochban lementi ha jobb mint az előző. params a formátum, szóval minden parameterszettel egy modell lesz lementve\n",
    "issue: nem tudjuk melyik a jó score\n",
    "params_to_string formában megy\n",
    "\n",
    "temp megoldás: acc legyen a modell nevében xd\n",
    "1. kerüljön bele mikor mentünk\n",
    "2. when saving check prev best with same params\n",
    "\n",
    "longterm: wieghts and biases or sg like that\n"
   ]
  },
  {
   "cell_type": "code",
   "execution_count": 42,
   "id": "c26c96db",
   "metadata": {},
   "outputs": [],
   "source": [
    "#create GS embeddings (first get a good model on it and save it)"
   ]
  },
  {
   "cell_type": "code",
   "execution_count": 43,
   "id": "eed4a539",
   "metadata": {},
   "outputs": [],
   "source": [
    "# get the two embeddings"
   ]
  },
  {
   "cell_type": "code",
   "execution_count": 44,
   "id": "1dff0aac",
   "metadata": {},
   "outputs": [],
   "source": [
    "# on given embeddings compare ml classifiers"
   ]
  }
 ],
 "metadata": {
  "kernelspec": {
   "display_name": ".venv-thesis_coding-py3.10",
   "language": "python",
   "name": "python3"
  },
  "language_info": {
   "codemirror_mode": {
    "name": "ipython",
    "version": 3
   },
   "file_extension": ".py",
   "mimetype": "text/x-python",
   "name": "python",
   "nbconvert_exporter": "python",
   "pygments_lexer": "ipython3",
   "version": "3.10.4"
  }
 },
 "nbformat": 4,
 "nbformat_minor": 5
}
