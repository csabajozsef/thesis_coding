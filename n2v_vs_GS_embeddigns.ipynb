{
 "cells": [
  {
   "cell_type": "code",
   "execution_count": null,
   "id": "033352ea",
   "metadata": {},
   "outputs": [],
   "source": []
  },
  {
   "cell_type": "code",
   "execution_count": null,
   "id": "5d4d34e3",
   "metadata": {},
   "outputs": [],
   "source": [
    "# load cora \n"
   ]
  },
  {
   "cell_type": "code",
   "execution_count": null,
   "id": "58ed6039",
   "metadata": {},
   "outputs": [],
   "source": [
    "# create n2v embeddings (first get a good model on it)"
   ]
  },
  {
   "cell_type": "code",
   "execution_count": null,
   "id": "c26c96db",
   "metadata": {},
   "outputs": [],
   "source": [
    "#create GS embeddings"
   ]
  },
  {
   "cell_type": "code",
   "execution_count": null,
   "id": "1dff0aac",
   "metadata": {},
   "outputs": [],
   "source": [
    "# on given embeddings compare ml classifiers"
   ]
  }
 ],
 "metadata": {
  "language_info": {
   "name": "python"
  }
 },
 "nbformat": 4,
 "nbformat_minor": 5
}
