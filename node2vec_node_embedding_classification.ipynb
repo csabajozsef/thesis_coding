{
 "cells": [
  {
   "cell_type": "code",
   "execution_count": 1,
   "id": "4ebe5d2c",
   "metadata": {},
   "outputs": [],
   "source": [
    "# Imports\n",
    "import torch\n",
    "import torch_cluster\n",
    "from torch_geometric.nn import Node2Vec\n",
    "from torch_geometric.datasets import Planetoid\n",
    "from torchsummary import summary\n",
    "from tqdm.notebook import tqdm\n",
    "\n",
    "import ogb\n",
    "# print(ogb.__version__)\n",
    "\n",
    "import matplotlib.pyplot as plt\n",
    "import plotly.express as px\n",
    "import networkx as nx\n",
    "import pandas as pd\n",
    "import numpy as np\n",
    "from sklearn.manifold import TSNE\n",
    "\n",
    "import time\n",
    "import json\n",
    "import copy\n",
    "import random\n",
    "import os.path as osp\n",
    "from pprint import pprint\n",
    "\n",
    "import importlib\n",
    "import sys\n",
    "sys.path.append('./modules')\n",
    "\n",
    "import training\n",
    "importlib.reload(training)\n",
    "import graph_vis\n",
    "importlib.reload(graph_vis)\n",
    "import graph_creation\n",
    "importlib.reload(graph_creation)\n",
    "import utils\n",
    "importlib.reload(utils)\n",
    "\n",
    "from ogb.nodeproppred import Evaluator\n",
    "from sklearn.linear_model import LogisticRegression\n",
    "from sklearn.metrics import accuracy_score"
   ]
  },
  {
   "cell_type": "code",
   "execution_count": 14,
   "metadata": {},
   "outputs": [
    {
     "name": "stdout",
     "output_type": "stream",
     "text": [
      "Using device: cpu\n",
      "Random seed set to: 42\n"
     ]
    }
   ],
   "source": [
    "device = utils.set_seeds_and_device() \n",
    "dataset_cora,data_cora = training.load_dataset('Cora', \"../training_data/datasets\")"
   ]
  },
  {
   "cell_type": "code",
   "execution_count": 15,
   "metadata": {},
   "outputs": [
    {
     "name": "stdout",
     "output_type": "stream",
     "text": [
      "p_values: [1, 2]\n",
      "q_values: [1, 2]\n"
     ]
    }
   ],
   "source": [
    "parameter_dicts = training.create_parameters_dict()"
   ]
  },
  {
   "cell_type": "code",
   "execution_count": 16,
   "id": "d6ef9390",
   "metadata": {},
   "outputs": [],
   "source": [
    "parameter_dict = {\n",
    "            \"embedding_dim\": 128,\n",
    "            \"walk_length\": 80,\n",
    "            \"context_size\": 10,\n",
    "            \"walks_per_node\": 10,\n",
    "            \"num_negative_samples\": 1,\n",
    "            \"sparse\": True,\n",
    "            \"q\":2,\n",
    "            \"p\":1\n",
    "        }\n",
    "# d = 128, r = 10, l = 80, k = 10"
   ]
  },
  {
   "cell_type": "code",
   "execution_count": 17,
   "metadata": {},
   "outputs": [
    {
     "name": "stdout",
     "output_type": "stream",
     "text": [
      "Model initialization parameters provided as dictionary.\n",
      "Model initialized\n",
      "Starting training for 40 epochs...\n"
     ]
    },
    {
     "name": "stderr",
     "output_type": "stream",
     "text": [
      "                                                                    \r"
     ]
    },
    {
     "name": "stdout",
     "output_type": "stream",
     "text": [
      "Epoch: 001, Loss: 7.6173, Acc: 0.1690, Duration: 91.05s\n",
      "Dataset name: load_dataset_Cora\n",
      "    New best model saved with accuracy: 0.1690\n"
     ]
    },
    {
     "name": "stderr",
     "output_type": "stream",
     "text": [
      "                                                                    \r"
     ]
    },
    {
     "name": "stdout",
     "output_type": "stream",
     "text": [
      "Epoch: 002, Loss: 5.3159, Acc: 0.2010, Duration: 81.63s\n",
      "Dataset name: load_dataset_Cora\n",
      "    New best model saved with accuracy: 0.2010\n"
     ]
    },
    {
     "name": "stderr",
     "output_type": "stream",
     "text": [
      "                                                                    \r"
     ]
    },
    {
     "name": "stdout",
     "output_type": "stream",
     "text": [
      "Epoch: 003, Loss: 4.0855, Acc: 0.2420, Duration: 79.38s\n",
      "Dataset name: load_dataset_Cora\n",
      "    New best model saved with accuracy: 0.2420\n"
     ]
    },
    {
     "name": "stderr",
     "output_type": "stream",
     "text": [
      "                                                                    \r"
     ]
    },
    {
     "name": "stdout",
     "output_type": "stream",
     "text": [
      "Epoch: 004, Loss: 3.1978, Acc: 0.2840, Duration: 98.29s\n",
      "Dataset name: load_dataset_Cora\n",
      "    New best model saved with accuracy: 0.2840\n"
     ]
    },
    {
     "name": "stderr",
     "output_type": "stream",
     "text": [
      "                                                                    \r"
     ]
    },
    {
     "name": "stdout",
     "output_type": "stream",
     "text": [
      "Epoch: 005, Loss: 2.5521, Acc: 0.3270, Duration: 168.62s\n",
      "Dataset name: load_dataset_Cora\n",
      "    New best model saved with accuracy: 0.3270\n"
     ]
    },
    {
     "name": "stderr",
     "output_type": "stream",
     "text": [
      "                                                                    \r"
     ]
    },
    {
     "name": "stdout",
     "output_type": "stream",
     "text": [
      "Epoch: 006, Loss: 2.0937, Acc: 0.3690, Duration: 170.20s\n",
      "Dataset name: load_dataset_Cora\n",
      "    New best model saved with accuracy: 0.3690\n"
     ]
    },
    {
     "name": "stderr",
     "output_type": "stream",
     "text": [
      "                                                                    \r"
     ]
    },
    {
     "name": "stdout",
     "output_type": "stream",
     "text": [
      "Epoch: 007, Loss: 1.7574, Acc: 0.3940, Duration: 144.79s\n",
      "Dataset name: load_dataset_Cora\n",
      "    New best model saved with accuracy: 0.3940\n"
     ]
    },
    {
     "name": "stderr",
     "output_type": "stream",
     "text": [
      "                                                                    \r"
     ]
    },
    {
     "name": "stdout",
     "output_type": "stream",
     "text": [
      "Epoch: 008, Loss: 1.5140, Acc: 0.4400, Duration: 70.37s\n",
      "Dataset name: load_dataset_Cora\n",
      "    New best model saved with accuracy: 0.4400\n"
     ]
    },
    {
     "name": "stderr",
     "output_type": "stream",
     "text": [
      "                                                                    \r"
     ]
    },
    {
     "name": "stdout",
     "output_type": "stream",
     "text": [
      "Epoch: 009, Loss: 1.3384, Acc: 0.4830, Duration: 77.32s\n",
      "Dataset name: load_dataset_Cora\n",
      "    New best model saved with accuracy: 0.4830\n"
     ]
    },
    {
     "name": "stderr",
     "output_type": "stream",
     "text": [
      "                                                                     \r"
     ]
    },
    {
     "name": "stdout",
     "output_type": "stream",
     "text": [
      "Epoch: 010, Loss: 1.2124, Acc: 0.5170, Duration: 87.77s\n",
      "Dataset name: load_dataset_Cora\n",
      "    New best model saved with accuracy: 0.5170\n"
     ]
    },
    {
     "name": "stderr",
     "output_type": "stream",
     "text": [
      "                                                                     \r"
     ]
    },
    {
     "name": "stdout",
     "output_type": "stream",
     "text": [
      "Epoch: 011, Loss: 1.1219, Acc: 0.5460, Duration: 110.57s\n",
      "Dataset name: load_dataset_Cora\n",
      "    New best model saved with accuracy: 0.5460\n"
     ]
    },
    {
     "name": "stderr",
     "output_type": "stream",
     "text": [
      "                                                                     \r"
     ]
    },
    {
     "name": "stdout",
     "output_type": "stream",
     "text": [
      "Epoch: 012, Loss: 1.0560, Acc: 0.5700, Duration: 129.64s\n",
      "Dataset name: load_dataset_Cora\n",
      "    New best model saved with accuracy: 0.5700\n"
     ]
    },
    {
     "name": "stderr",
     "output_type": "stream",
     "text": [
      "                                                                     \r"
     ]
    },
    {
     "name": "stdout",
     "output_type": "stream",
     "text": [
      "Epoch: 013, Loss: 1.0071, Acc: 0.5880, Duration: 131.42s\n",
      "Dataset name: load_dataset_Cora\n",
      "    New best model saved with accuracy: 0.5880\n"
     ]
    },
    {
     "name": "stderr",
     "output_type": "stream",
     "text": [
      "                                                                     \r"
     ]
    },
    {
     "name": "stdout",
     "output_type": "stream",
     "text": [
      "Epoch: 014, Loss: 0.9700, Acc: 0.6060, Duration: 115.23s\n",
      "Dataset name: load_dataset_Cora\n",
      "    New best model saved with accuracy: 0.6060\n"
     ]
    },
    {
     "name": "stderr",
     "output_type": "stream",
     "text": [
      "                                                                     \r"
     ]
    },
    {
     "name": "stdout",
     "output_type": "stream",
     "text": [
      "Epoch: 015, Loss: 0.9426, Acc: 0.6260, Duration: 120.49s\n",
      "Dataset name: load_dataset_Cora\n",
      "    New best model saved with accuracy: 0.6260\n"
     ]
    },
    {
     "name": "stderr",
     "output_type": "stream",
     "text": [
      "                                                                     \r"
     ]
    },
    {
     "name": "stdout",
     "output_type": "stream",
     "text": [
      "Epoch: 016, Loss: 0.9212, Acc: 0.6410, Duration: 130.51s\n",
      "Dataset name: load_dataset_Cora\n",
      "    New best model saved with accuracy: 0.6410\n"
     ]
    },
    {
     "name": "stderr",
     "output_type": "stream",
     "text": [
      "                                                                     \r"
     ]
    },
    {
     "name": "stdout",
     "output_type": "stream",
     "text": [
      "Epoch: 017, Loss: 0.9033, Acc: 0.6440, Duration: 134.13s\n",
      "Dataset name: load_dataset_Cora\n",
      "    New best model saved with accuracy: 0.6440\n"
     ]
    },
    {
     "name": "stderr",
     "output_type": "stream",
     "text": [
      "                                                                     \r"
     ]
    },
    {
     "name": "stdout",
     "output_type": "stream",
     "text": [
      "Epoch: 018, Loss: 0.8893, Acc: 0.6520, Duration: 119.62s\n",
      "Dataset name: load_dataset_Cora\n",
      "    New best model saved with accuracy: 0.6520\n"
     ]
    },
    {
     "name": "stderr",
     "output_type": "stream",
     "text": [
      "                                                                     \r"
     ]
    },
    {
     "name": "stdout",
     "output_type": "stream",
     "text": [
      "Epoch: 019, Loss: 0.8782, Acc: 0.6560, Duration: 110.09s\n",
      "Dataset name: load_dataset_Cora\n",
      "    New best model saved with accuracy: 0.6560\n"
     ]
    },
    {
     "name": "stderr",
     "output_type": "stream",
     "text": [
      "                                                                     \r"
     ]
    },
    {
     "name": "stdout",
     "output_type": "stream",
     "text": [
      "Epoch: 020, Loss: 0.8686, Acc: 0.6730, Duration: 118.37s\n",
      "Dataset name: load_dataset_Cora\n",
      "    New best model saved with accuracy: 0.6730\n"
     ]
    },
    {
     "name": "stderr",
     "output_type": "stream",
     "text": [
      "                                                                     \r"
     ]
    },
    {
     "name": "stdout",
     "output_type": "stream",
     "text": [
      "Epoch: 021, Loss: 0.8608, Acc: 0.6760, Duration: 112.31s\n",
      "Dataset name: load_dataset_Cora\n",
      "    New best model saved with accuracy: 0.6760\n"
     ]
    },
    {
     "name": "stderr",
     "output_type": "stream",
     "text": [
      "                                                                     \r"
     ]
    },
    {
     "name": "stdout",
     "output_type": "stream",
     "text": [
      "Epoch: 022, Loss: 0.8547, Acc: 0.6780, Duration: 116.10s\n",
      "Dataset name: load_dataset_Cora\n",
      "    New best model saved with accuracy: 0.6780\n"
     ]
    },
    {
     "name": "stderr",
     "output_type": "stream",
     "text": [
      "                                                                     \r"
     ]
    },
    {
     "name": "stdout",
     "output_type": "stream",
     "text": [
      "Epoch: 023, Loss: 0.8482, Acc: 0.6750, Duration: 97.02s\n"
     ]
    },
    {
     "name": "stderr",
     "output_type": "stream",
     "text": [
      "                                                                     \r"
     ]
    },
    {
     "name": "stdout",
     "output_type": "stream",
     "text": [
      "Epoch: 024, Loss: 0.8438, Acc: 0.6760, Duration: 89.57s\n"
     ]
    },
    {
     "name": "stderr",
     "output_type": "stream",
     "text": [
      "                                                                     \r"
     ]
    },
    {
     "name": "stdout",
     "output_type": "stream",
     "text": [
      "Epoch: 025, Loss: 0.8390, Acc: 0.6810, Duration: 90.02s\n",
      "Dataset name: load_dataset_Cora\n",
      "    New best model saved with accuracy: 0.6810\n"
     ]
    },
    {
     "name": "stderr",
     "output_type": "stream",
     "text": [
      "                                                                     \r"
     ]
    },
    {
     "name": "stdout",
     "output_type": "stream",
     "text": [
      "Epoch: 026, Loss: 0.8354, Acc: 0.6790, Duration: 81.73s\n"
     ]
    },
    {
     "name": "stderr",
     "output_type": "stream",
     "text": [
      "                                                                     \r"
     ]
    },
    {
     "name": "stdout",
     "output_type": "stream",
     "text": [
      "Epoch: 027, Loss: 0.8319, Acc: 0.6830, Duration: 106.52s\n",
      "Dataset name: load_dataset_Cora\n",
      "    New best model saved with accuracy: 0.6830\n"
     ]
    },
    {
     "name": "stderr",
     "output_type": "stream",
     "text": [
      "                                                                     \r"
     ]
    },
    {
     "name": "stdout",
     "output_type": "stream",
     "text": [
      "Epoch: 028, Loss: 0.8291, Acc: 0.6820, Duration: 104.87s\n"
     ]
    },
    {
     "name": "stderr",
     "output_type": "stream",
     "text": [
      "                                                                     \r"
     ]
    },
    {
     "name": "stdout",
     "output_type": "stream",
     "text": [
      "Epoch: 029, Loss: 0.8263, Acc: 0.6860, Duration: 78.51s\n",
      "Dataset name: load_dataset_Cora\n",
      "    New best model saved with accuracy: 0.6860\n"
     ]
    },
    {
     "name": "stderr",
     "output_type": "stream",
     "text": [
      "                                                                     \r"
     ]
    },
    {
     "name": "stdout",
     "output_type": "stream",
     "text": [
      "Epoch: 030, Loss: 0.8241, Acc: 0.6880, Duration: 83.24s\n",
      "Dataset name: load_dataset_Cora\n",
      "    New best model saved with accuracy: 0.6880\n"
     ]
    },
    {
     "name": "stderr",
     "output_type": "stream",
     "text": [
      "                                                                     \r"
     ]
    },
    {
     "name": "stdout",
     "output_type": "stream",
     "text": [
      "Epoch: 031, Loss: 0.8214, Acc: 0.6990, Duration: 86.59s\n",
      "Dataset name: load_dataset_Cora\n",
      "    New best model saved with accuracy: 0.6990\n"
     ]
    },
    {
     "name": "stderr",
     "output_type": "stream",
     "text": [
      "                                                                     \r"
     ]
    },
    {
     "name": "stdout",
     "output_type": "stream",
     "text": [
      "Epoch: 032, Loss: 0.8202, Acc: 0.6960, Duration: 80.83s\n"
     ]
    },
    {
     "name": "stderr",
     "output_type": "stream",
     "text": [
      "                                                                     \r"
     ]
    },
    {
     "name": "stdout",
     "output_type": "stream",
     "text": [
      "Epoch: 033, Loss: 0.8183, Acc: 0.7000, Duration: 94.34s\n",
      "Dataset name: load_dataset_Cora\n",
      "    New best model saved with accuracy: 0.7000\n"
     ]
    },
    {
     "name": "stderr",
     "output_type": "stream",
     "text": [
      "                                                                     \r"
     ]
    },
    {
     "name": "stdout",
     "output_type": "stream",
     "text": [
      "Epoch: 034, Loss: 0.8168, Acc: 0.7090, Duration: 128.29s\n",
      "Dataset name: load_dataset_Cora\n",
      "    New best model saved with accuracy: 0.7090\n"
     ]
    },
    {
     "name": "stderr",
     "output_type": "stream",
     "text": [
      "                                                                     \r"
     ]
    },
    {
     "name": "stdout",
     "output_type": "stream",
     "text": [
      "Epoch: 035, Loss: 0.8151, Acc: 0.7060, Duration: 80.07s\n"
     ]
    },
    {
     "name": "stderr",
     "output_type": "stream",
     "text": [
      "                                                                     \r"
     ]
    },
    {
     "name": "stdout",
     "output_type": "stream",
     "text": [
      "Epoch: 036, Loss: 0.8141, Acc: 0.7060, Duration: 74.66s\n"
     ]
    },
    {
     "name": "stderr",
     "output_type": "stream",
     "text": [
      "                                                                     \r"
     ]
    },
    {
     "name": "stdout",
     "output_type": "stream",
     "text": [
      "Epoch: 037, Loss: 0.8125, Acc: 0.7050, Duration: 108.08s\n"
     ]
    },
    {
     "name": "stderr",
     "output_type": "stream",
     "text": [
      "                                                                     \r"
     ]
    },
    {
     "name": "stdout",
     "output_type": "stream",
     "text": [
      "Epoch: 038, Loss: 0.8117, Acc: 0.7060, Duration: 174.92s\n"
     ]
    },
    {
     "name": "stderr",
     "output_type": "stream",
     "text": [
      "                                                                     \r"
     ]
    },
    {
     "name": "stdout",
     "output_type": "stream",
     "text": [
      "Epoch: 039, Loss: 0.8110, Acc: 0.7120, Duration: 183.49s\n",
      "Dataset name: load_dataset_Cora\n",
      "    New best model saved with accuracy: 0.7120\n"
     ]
    },
    {
     "name": "stderr",
     "output_type": "stream",
     "text": [
      "                                                                     \r"
     ]
    },
    {
     "name": "stdout",
     "output_type": "stream",
     "text": [
      "Epoch: 040, Loss: 0.8099, Acc: 0.7160, Duration: 181.80s\n",
      "Dataset name: load_dataset_Cora\n",
      "    New best model saved with accuracy: 0.7160\n",
      "\n",
      "Training finished.\n",
      "Total elapsed time: 4442.83 seconds\n",
      "Best test accuracy: 0.7160\n",
      "Best model state saved to '../training_data/models/node2vec_'\n"
     ]
    },
    {
     "data": {
      "image/png": "[encoded data removed]",
      "text/plain": [
       "<Figure size 800x500 with 1 Axes>"
      ]
     },
     "metadata": {},
     "output_type": "display_data"
    }
   ],
   "source": [
    "model = training.model_init(parameter_dict,data_cora)\n",
    "\n",
    "loader, optimizer = training.set_loader_and_optimizer(model)\n",
    "num_training_epochs = 40 # Or 201, etc.\n",
    "\n",
    "best_state, training_history = training.model_training_n2v(\n",
    "    model,\n",
    "    parameter_dict,\n",
    "    data_cora,\n",
    "    loader,\n",
    "    optimizer,\n",
    "    num_training_epochs,\n",
    "    device,\n",
    "    model_save_path='../training_data/models/node2vec_' # Example save path\n",
    ")\n"
   ]
  },
  {
   "cell_type": "code",
   "execution_count": 18,
   "id": "a7dee4f4",
   "metadata": {},
   "outputs": [
    {
     "data": {
      "text/plain": [
       "array([[ 0.09186299, -0.05668784,  0.12476937, ..., -0.02945427,\n",
       "        -0.11075887,  0.05544662],\n",
       "       [ 0.14085962, -0.06119557,  0.29751813, ..., -0.3571702 ,\n",
       "         0.32280535, -0.03163625],\n",
       "       [ 0.20880184, -0.08795394,  0.04427352, ..., -0.43054834,\n",
       "         0.22250132,  0.04050569],\n",
       "       ...,\n",
       "       [-0.1939645 , -0.11990315,  0.22887021, ...,  0.05690839,\n",
       "        -0.09410919, -0.25866625],\n",
       "       [ 0.12041108,  0.20969765, -0.22255325, ..., -0.04653875,\n",
       "        -0.28917044,  0.1641828 ],\n",
       "       [ 0.14230902,  0.19494015, -0.27692184, ..., -0.00600604,\n",
       "        -0.35445604,  0.15571712]], shape=(2708, 128), dtype=float32)"
      ]
     },
     "execution_count": 18,
     "metadata": {},
     "output_type": "execute_result"
    }
   ],
   "source": [
    "model.eval()\n",
    "with torch.no_grad():\n",
    "    embeddings = model.embedding.weight.cpu().numpy()\n",
    "\n",
    "embeddings"
   ]
  },
  {
   "cell_type": "code",
   "execution_count": null,
   "id": "a3b365b4",
   "metadata": {},
   "outputs": [
    {
     "name": "stdout",
     "output_type": "stream",
     "text": [
      "\n",
      "Training Logistic Regression...\n",
      "Logistic Regression Test accuracy: 0.7952\n",
      "              precision    recall  f1-score   support\n",
      "\n",
      "           0       0.67      0.71      0.69        70\n",
      "           1       0.80      0.86      0.83        43\n",
      "           2       0.94      0.90      0.92        84\n",
      "           3       0.78      0.77      0.77       164\n",
      "           4       0.82      0.80      0.81        85\n",
      "           5       0.77      0.77      0.77        60\n",
      "           6       0.80      0.78      0.79        36\n",
      "\n",
      "    accuracy                           0.80       542\n",
      "   macro avg       0.80      0.80      0.80       542\n",
      "weighted avg       0.80      0.80      0.80       542\n",
      "\n",
      "\n",
      "Training SVM...\n",
      "SVM Test accuracy: 0.8339\n",
      "              precision    recall  f1-score   support\n",
      "\n",
      "           0       0.75      0.73      0.74        70\n",
      "           1       0.95      0.81      0.88        43\n",
      "           2       0.95      0.93      0.94        84\n",
      "           3       0.76      0.90      0.83       164\n",
      "           4       0.92      0.80      0.86        85\n",
      "           5       0.78      0.77      0.77        60\n",
      "           6       0.93      0.72      0.81        36\n",
      "\n",
      "    accuracy                           0.83       542\n",
      "   macro avg       0.86      0.81      0.83       542\n",
      "weighted avg       0.84      0.83      0.83       542\n",
      "\n",
      "\n",
      "Training KNN...\n",
      "KNN Test accuracy: 0.8118\n",
      "              precision    recall  f1-score   support\n",
      "\n",
      "           0       0.72      0.83      0.77        70\n",
      "           1       0.84      0.84      0.84        43\n",
      "           2       0.82      0.92      0.87        84\n",
      "           3       0.85      0.79      0.82       164\n",
      "           4       0.88      0.82      0.85        85\n",
      "           5       0.76      0.73      0.75        60\n",
      "           6       0.76      0.72      0.74        36\n",
      "\n",
      "    accuracy                           0.81       542\n",
      "   macro avg       0.80      0.81      0.80       542\n",
      "weighted avg       0.81      0.81      0.81       542\n",
      "\n",
      "\n",
      "Training Decision Tree...\n",
      "Decision Tree Test accuracy: 0.5923\n",
      "              precision    recall  f1-score   support\n",
      "\n",
      "           0       0.39      0.41      0.40        70\n",
      "           1       0.66      0.67      0.67        43\n",
      "           2       0.69      0.70      0.69        84\n",
      "           3       0.62      0.66      0.64       164\n",
      "           4       0.62      0.56      0.59        85\n",
      "           5       0.55      0.45      0.50        60\n",
      "           6       0.57      0.58      0.58        36\n",
      "\n",
      "    accuracy                           0.59       542\n",
      "   macro avg       0.59      0.58      0.58       542\n",
      "weighted avg       0.59      0.59      0.59       542\n",
      "\n",
      "\n",
      "Training Random Forest...\n",
      "Random Forest Test accuracy: 0.8376\n",
      "              precision    recall  f1-score   support\n",
      "\n",
      "           0       0.76      0.77      0.77        70\n",
      "           1       0.92      0.81      0.86        43\n",
      "           2       0.93      0.89      0.91        84\n",
      "           3       0.77      0.91      0.84       164\n",
      "           4       0.87      0.78      0.82        85\n",
      "           5       0.89      0.78      0.83        60\n",
      "           6       0.93      0.75      0.83        36\n",
      "\n",
      "    accuracy                           0.84       542\n",
      "   macro avg       0.87      0.81      0.84       542\n",
      "weighted avg       0.84      0.84      0.84       542\n",
      "\n",
      "\n",
      "Training Gradient Boosting...\n",
      "Gradient Boosting Test accuracy: 0.8229\n",
      "              precision    recall  f1-score   support\n",
      "\n",
      "           0       0.75      0.79      0.77        70\n",
      "           1       0.88      0.81      0.84        43\n",
      "           2       0.94      0.88      0.91        84\n",
      "           3       0.76      0.87      0.81       164\n",
      "           4       0.91      0.84      0.87        85\n",
      "           5       0.80      0.78      0.79        60\n",
      "           6       0.81      0.61      0.70        36\n",
      "\n",
      "    accuracy                           0.82       542\n",
      "   macro avg       0.84      0.80      0.81       542\n",
      "weighted avg       0.83      0.82      0.82       542\n",
      "\n",
      "\n",
      "Training MLP...\n",
      "MLP Test accuracy: 0.8137\n",
      "              precision    recall  f1-score   support\n",
      "\n",
      "           0       0.67      0.76      0.71        70\n",
      "           1       0.84      0.84      0.84        43\n",
      "           2       0.91      0.89      0.90        84\n",
      "           3       0.83      0.80      0.82       164\n",
      "           4       0.82      0.81      0.82        85\n",
      "           5       0.82      0.82      0.82        60\n",
      "           6       0.76      0.78      0.77        36\n",
      "\n",
      "    accuracy                           0.81       542\n",
      "   macro avg       0.81      0.81      0.81       542\n",
      "weighted avg       0.82      0.81      0.81       542\n",
      "\n",
      "\n",
      "Model Comparison Summary:\n",
      "              Model  Test Accuracy\n",
      "      Random Forest       0.837638\n",
      "                SVM       0.833948\n",
      "  Gradient Boosting       0.822878\n",
      "                MLP       0.813653\n",
      "                KNN       0.811808\n",
      "Logistic Regression       0.795203\n",
      "      Decision Tree       0.592251\n"
     ]
    }
   ],
   "source": [
    "from sklearn.linear_model import LogisticRegression\n",
    "from sklearn.svm import SVC\n",
    "from sklearn.neighbors import KNeighborsClassifier\n",
    "from sklearn.tree import DecisionTreeClassifier\n",
    "from sklearn.ensemble import RandomForestClassifier, GradientBoostingClassifier\n",
    "from sklearn.neural_network import MLPClassifier\n",
    "from sklearn.model_selection import train_test_split\n",
    "from sklearn.metrics import accuracy_score, classification_report\n",
    "import pandas as pd\n",
    "\n",
    "# X = embeddings from Node2Vec\n",
    "X = embeddings\n",
    "y = data_cora.y.cpu().numpy()\n",
    "\n",
    "# Train/test split\n",
    "X_train, X_test, y_train, y_test = train_test_split(\n",
    "    X, y, test_size=0.2, random_state=42, stratify=y\n",
    ")\n",
    "\n",
    "models = {\n",
    "    \"Logistic Regression\": LogisticRegression(max_iter=1000),\n",
    "    \"SVM\": SVC(),\n",
    "    \"KNN\": KNeighborsClassifier(),\n",
    "    \"Decision Tree\": DecisionTreeClassifier(),\n",
    "    \"Random Forest\": RandomForestClassifier(random_state=42),\n",
    "    \"Gradient Boosting\": GradientBoostingClassifier(),\n",
    "    \"MLP\": MLPClassifier(max_iter=500)\n",
    "}\n",
    "\n",
    "results = {}\n",
    "\n",
    "for name, model in models.items():\n",
    "    try:\n",
    "        print(f\"\\nTraining {name}...\")\n",
    "        model.fit(X_train, y_train)\n",
    "        y_pred = model.predict(X_test)\n",
    "        acc = accuracy_score(y_test, y_pred)\n",
    "        print(f\"{name} Test accuracy: {acc:.4f}\")\n",
    "        print(classification_report(y_test, y_pred))\n",
    "        results[name] = acc\n",
    "    except Exception as e:\n",
    "        print(f\"{name} failed: {e}\")\n",
    "\n",
    "# Summary table\n",
    "results_df = pd.DataFrame(list(results.items()), columns=[\"Model\", \"Test Accuracy\"])\n",
    "print(\"\\nModel Comparison Summary:\")\n",
    "print(results_df.sort_values(by=\"Test Accuracy\", ascending=False).to_string(index=False))"
   ]
  },
  {
   "cell_type": "code",
   "execution_count": null,
   "metadata": {},
   "outputs": [],
   "source": []
  }
 ],
 "metadata": {
  "kernelspec": {
   "display_name": ".venv-thesis_coding-py3.10",
   "language": "python",
   "name": "python3"
  },
  "language_info": {
   "codemirror_mode": {
    "name": "ipython",
    "version": 3
   },
   "file_extension": ".py",
   "mimetype": "text/x-python",
   "name": "python",
   "nbconvert_exporter": "python",
   "pygments_lexer": "ipython3",
   "version": "3.10.4"
  }
 },
 "nbformat": 4,
 "nbformat_minor": 5
}
