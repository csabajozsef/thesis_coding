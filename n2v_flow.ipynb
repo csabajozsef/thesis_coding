{
 "cells": [
  {
   "cell_type": "code",
   "execution_count": null,
   "id": "ed1f9b34",
   "metadata": {},
   "outputs": [
    {
     "ename": "ImportError",
     "evalue": "cannot import name 'params_to_string' from 'utils' (c:\\Users\\csaba\\Documents\\Coding\\git_own\\thesis_coding\\utils.py)",
     "output_type": "error",
     "traceback": [
      "\u001b[1;31m---------------------------------------------------------------------------\u001b[0m",
      "\u001b[1;31mImportError\u001b[0m                               Traceback (most recent call last)",
      "Cell \u001b[1;32mIn[5], line 1\u001b[0m\n\u001b[1;32m----> 1\u001b[0m \u001b[38;5;28;01mfrom\u001b[39;00m \u001b[38;5;21;01mutils\u001b[39;00m \u001b[38;5;28;01mimport\u001b[39;00m params_to_string\n",
      "\u001b[1;31mImportError\u001b[0m: cannot import name 'params_to_string' from 'utils' (c:\\Users\\csaba\\Documents\\Coding\\git_own\\thesis_coding\\utils.py)"
     ]
    }
   ],
   "source": [
    "from utils import params_to_string"
   ]
  },
  {
   "cell_type": "code",
   "execution_count": 4,
   "id": "f7dff5e8",
   "metadata": {},
   "outputs": [
    {
     "ename": "ImportError",
     "evalue": "cannot import name 'params_to_string' from 'utils' (c:\\Users\\csaba\\Documents\\Coding\\git_own\\thesis_coding\\utils.py)",
     "output_type": "error",
     "traceback": [
      "\u001b[1;31m---------------------------------------------------------------------------\u001b[0m",
      "\u001b[1;31mImportError\u001b[0m                               Traceback (most recent call last)",
      "Cell \u001b[1;32mIn[4], line 28\u001b[0m\n\u001b[0;32m     24\u001b[0m \u001b[38;5;28;01mfrom\u001b[39;00m \u001b[38;5;21;01mpprint\u001b[39;00m \u001b[38;5;28;01mimport\u001b[39;00m pprint\n\u001b[0;32m     26\u001b[0m \u001b[38;5;28;01mimport\u001b[39;00m \u001b[38;5;21;01mimportlib\u001b[39;00m\n\u001b[1;32m---> 28\u001b[0m \u001b[38;5;28;01mimport\u001b[39;00m \u001b[38;5;21;01mtraining\u001b[39;00m\n\u001b[0;32m     29\u001b[0m importlib\u001b[38;5;241m.\u001b[39mreload(training)\n\u001b[0;32m     30\u001b[0m \u001b[38;5;28;01mimport\u001b[39;00m \u001b[38;5;21;01mgraph_vis\u001b[39;00m\n",
      "File \u001b[1;32mc:\\Users\\csaba\\Documents\\Coding\\git_own\\thesis_coding\\training.py:20\u001b[0m\n\u001b[0;32m     17\u001b[0m \u001b[38;5;28;01mimport\u001b[39;00m \u001b[38;5;21;01mnumpy\u001b[39;00m \u001b[38;5;28;01mas\u001b[39;00m \u001b[38;5;21;01mnp\u001b[39;00m\n\u001b[0;32m     18\u001b[0m \u001b[38;5;28;01mfrom\u001b[39;00m \u001b[38;5;21;01mdatetime\u001b[39;00m \u001b[38;5;28;01mimport\u001b[39;00m datetime\n\u001b[1;32m---> 20\u001b[0m \u001b[38;5;28;01mfrom\u001b[39;00m \u001b[38;5;21;01mutils\u001b[39;00m \u001b[38;5;28;01mimport\u001b[39;00m params_to_string\n\u001b[0;32m     22\u001b[0m \u001b[38;5;28;01mimport\u001b[39;00m \u001b[38;5;21;01mos\u001b[39;00m\n\u001b[0;32m     23\u001b[0m \u001b[38;5;28;01mimport\u001b[39;00m \u001b[38;5;21;01mtime\u001b[39;00m\n",
      "\u001b[1;31mImportError\u001b[0m: cannot import name 'params_to_string' from 'utils' (c:\\Users\\csaba\\Documents\\Coding\\git_own\\thesis_coding\\utils.py)"
     ]
    }
   ],
   "source": [
    "# Imports\n",
    "import torch\n",
    "import torch_cluster\n",
    "from torch_geometric.nn import Node2Vec\n",
    "from torch_geometric.datasets import Planetoid\n",
    "from torchsummary import summary\n",
    "from tqdm.notebook import tqdm\n",
    "\n",
    "import ogb\n",
    "# print(ogb.__version__)\n",
    "\n",
    "import matplotlib.pyplot as plt\n",
    "import plotly.express as px\n",
    "import pandas as pd\n",
    "import numpy as np\n",
    "import optuna\n",
    "from sklearn.manifold import TSNE\n",
    "\n",
    "import time\n",
    "import json\n",
    "import copy\n",
    "import random\n",
    "import os.path as osp\n",
    "from pprint import pprint\n",
    "\n",
    "import importlib\n",
    "\n",
    "import training\n",
    "importlib.reload(training)\n",
    "import graph_vis\n",
    "importlib.reload(graph_vis)\n",
    "import graph_creation\n",
    "importlib.reload(graph_creation)\n",
    "import utils\n",
    "importlib.reload(utils)\n",
    "\n",
    "from ogb.nodeproppred import Evaluator\n",
    "from sklearn.linear_model import LogisticRegression\n",
    "from sklearn.metrics import accuracy_score"
   ]
  },
  {
   "cell_type": "code",
   "execution_count": null,
   "id": "477d5ea0",
   "metadata": {},
   "outputs": [
    {
     "name": "stdout",
     "output_type": "stream",
     "text": [
      "Using device: cpu\n",
      "Random seed set to: 42\n"
     ]
    }
   ],
   "source": [
    "device = utils.set_seeds_and_device() # maybe return seed?"
   ]
  },
  {
   "cell_type": "code",
   "execution_count": null,
   "id": "f2dd31a7",
   "metadata": {},
   "outputs": [
    {
     "name": "stdout",
     "output_type": "stream",
     "text": [
      " => Using default probabilities\n",
      " => Graph saved to graphs/comminty_graph_15_80.gpickle\n",
      "2047\n",
      "Warning: 'y' attribute not found or is None after from_networkx. Attempting manual extraction.\n",
      "Warning: 'y' attribute not found or is None after from_networkx. Attempting manual extraction.\n"
     ]
    }
   ],
   "source": [
    "# data = graph_lib.load_dataset_cora()\n",
    "# TODO: make the floe one function - into files like utils etc\n",
    "# TODO: create grpahs from distr and clustercoeffs and test on those too \n",
    "# make the four test autmatickly run one after the other  \n",
    "graph_community = graph_creation.graph_with_communities_generator(15,80)# 15,80\n",
    "graph_hierarchy = graph_creation.graph_with_hierarchy_generator(2, 10, False) # 2, 10\n",
    "\n",
    "# garph_vis.graph_visualizer(graph_community, layout='spring')\n",
    "# graph_vis.graph_visualizer(graph_hierarchy, layout='bfs')  \n",
    "\n",
    "data_community = utils.nx_to_pytorch_data_converter(graph_community)\n",
    "data_hierarchy = utils.nx_to_pytorch_data_converter(graph_hierarchy)\n",
    "\n",
    "# data = graph_lib.create_masks(data_community)\n",
    "data_h = utils.create_masks(data_hierarchy)\n",
    "data_c = utils.create_masks(data_community)\n",
    "\n",
    "\n",
    "data_list=[data_c, data_h]"
   ]
  },
  {
   "cell_type": "code",
   "execution_count": null,
   "id": "9fb853ff",
   "metadata": {},
   "outputs": [],
   "source": [
    "parameter_dicts = training.create_parameters_dict()\n",
    "parameter_dicts"
   ]
  },
  {
   "cell_type": "code",
   "execution_count": null,
   "id": "f3f59a48",
   "metadata": {},
   "outputs": [
    {
     "name": "stdout",
     "output_type": "stream",
     "text": [
      "Model initialization parameters provided as dictionary.\n",
      "Model initialized\n"
     ]
    }
   ],
   "source": [
    "model = training.model_init(\n",
    "    model_init_params_p,\n",
    "    data\n",
    ")"
   ]
  },
  {
   "cell_type": "code",
   "execution_count": 117,
   "id": "30e7fce6",
   "metadata": {},
   "outputs": [],
   "source": [
    "# TODO: save previous best result with model? check out a library for this?\n",
    "# model,model_init_params = graph_lib.model_init_from_file('./training_data/models/node2vec_embedding_dim_128_walk_length_20_context_size_10_walks_per_node_20_num_negative_samples_1_p_200_q_1_sparse_True.json', data)"
   ]
  },
  {
   "cell_type": "code",
   "execution_count": null,
   "id": "33725dd7",
   "metadata": {},
   "outputs": [],
   "source": [
    "loader, optimizer = training.set_loader_and_optimizer(model)"
   ]
  },
  {
   "cell_type": "code",
   "execution_count": null,
   "id": "3def755e",
   "metadata": {},
   "outputs": [
    {
     "name": "stdout",
     "output_type": "stream",
     "text": [
      "Starting training for 6 epochs...\n"
     ]
    },
    {
     "name": "stderr",
     "output_type": "stream",
     "text": [
      "                                                                   \r"
     ]
    },
    {
     "name": "stdout",
     "output_type": "stream",
     "text": [
      "Epoch: 001, Loss: 7.5788, Acc: 0.4049, Duration: 13.21s\n",
      "    New best model saved with accuracy: 0.4049\n"
     ]
    },
    {
     "name": "stderr",
     "output_type": "stream",
     "text": [
      "                                                                   \r"
     ]
    },
    {
     "name": "stdout",
     "output_type": "stream",
     "text": [
      "Epoch: 002, Loss: 5.6322, Acc: 0.4130, Duration: 13.21s\n",
      "    New best model saved with accuracy: 0.4130\n"
     ]
    },
    {
     "name": "stderr",
     "output_type": "stream",
     "text": [
      "                                                                   \r"
     ]
    },
    {
     "name": "stdout",
     "output_type": "stream",
     "text": [
      "Epoch: 003, Loss: 4.8283, Acc: 0.4098, Duration: 15.97s\n"
     ]
    },
    {
     "name": "stderr",
     "output_type": "stream",
     "text": [
      "                                                                   \r"
     ]
    },
    {
     "name": "stdout",
     "output_type": "stream",
     "text": [
      "Epoch: 004, Loss: 4.2908, Acc: 0.4163, Duration: 16.26s\n",
      "    New best model saved with accuracy: 0.4163\n"
     ]
    },
    {
     "name": "stderr",
     "output_type": "stream",
     "text": [
      "                                                                  \r"
     ]
    },
    {
     "ename": "KeyboardInterrupt",
     "evalue": "",
     "output_type": "error",
     "traceback": [
      "\u001b[1;31m---------------------------------------------------------------------------\u001b[0m",
      "\u001b[1;31mKeyboardInterrupt\u001b[0m                         Traceback (most recent call last)",
      "Cell \u001b[1;32mIn[119], line 3\u001b[0m\n\u001b[0;32m      1\u001b[0m num_training_epochs \u001b[38;5;241m=\u001b[39m \u001b[38;5;241m6\u001b[39m \u001b[38;5;66;03m# Or 201, etc.\u001b[39;00m\n\u001b[1;32m----> 3\u001b[0m best_state, training_history \u001b[38;5;241m=\u001b[39m \u001b[43mgraph_lib\u001b[49m\u001b[38;5;241;43m.\u001b[39;49m\u001b[43mmodel_training_n2v\u001b[49m\u001b[43m(\u001b[49m\n\u001b[0;32m      4\u001b[0m \u001b[43m    \u001b[49m\u001b[43mmodel\u001b[49m\u001b[43m,\u001b[49m\n\u001b[0;32m      5\u001b[0m \u001b[43m    \u001b[49m\u001b[43mmodel_init_params_q\u001b[49m\u001b[43m,\u001b[49m\n\u001b[0;32m      6\u001b[0m \u001b[43m    \u001b[49m\u001b[43mdata\u001b[49m\u001b[43m,\u001b[49m\n\u001b[0;32m      7\u001b[0m \u001b[43m    \u001b[49m\u001b[43mloader\u001b[49m\u001b[43m,\u001b[49m\n\u001b[0;32m      8\u001b[0m \u001b[43m    \u001b[49m\u001b[43moptimizer\u001b[49m\u001b[43m,\u001b[49m\n\u001b[0;32m      9\u001b[0m \u001b[43m    \u001b[49m\u001b[43mnum_training_epochs\u001b[49m\u001b[43m,\u001b[49m\n\u001b[0;32m     10\u001b[0m \u001b[43m    \u001b[49m\u001b[43mdevice\u001b[49m\u001b[43m,\u001b[49m\n\u001b[0;32m     11\u001b[0m \u001b[43m    \u001b[49m\u001b[43mmodel_save_path\u001b[49m\u001b[38;5;241;43m=\u001b[39;49m\u001b[38;5;124;43m'\u001b[39;49m\u001b[38;5;124;43m./training_data/models/node2vec_\u001b[39;49m\u001b[38;5;124;43m'\u001b[39;49m\u001b[43m \u001b[49m\u001b[38;5;66;43;03m# Example save path\u001b[39;49;00m\n\u001b[0;32m     12\u001b[0m \u001b[43m)\u001b[49m\n",
      "File \u001b[1;32mc:\\Users\\csaba\\Documents\\Coding\\git_own\\thesis_coding\\graph_lib.py:550\u001b[0m, in \u001b[0;36mmodel_training_n2v\u001b[1;34m(model, model_init_params, data, loader, optimizer, num_epochs, device, model_save_path)\u001b[0m\n\u001b[0;32m    548\u001b[0m     loss \u001b[38;5;241m=\u001b[39m model\u001b[38;5;241m.\u001b[39mloss(pos_rw\u001b[38;5;241m.\u001b[39mto(device), neg_rw\u001b[38;5;241m.\u001b[39mto(device))\n\u001b[0;32m    549\u001b[0m     loss\u001b[38;5;241m.\u001b[39mbackward()\n\u001b[1;32m--> 550\u001b[0m     \u001b[43moptimizer\u001b[49m\u001b[38;5;241;43m.\u001b[39;49m\u001b[43mstep\u001b[49m\u001b[43m(\u001b[49m\u001b[43m)\u001b[49m\n\u001b[0;32m    551\u001b[0m     total_loss \u001b[38;5;241m+\u001b[39m\u001b[38;5;241m=\u001b[39m loss\u001b[38;5;241m.\u001b[39mitem()\n\u001b[0;32m    552\u001b[0m avg_loss \u001b[38;5;241m=\u001b[39m total_loss \u001b[38;5;241m/\u001b[39m \u001b[38;5;28mlen\u001b[39m(loader)\n",
      "File \u001b[1;32mc:\\Users\\csaba\\Documents\\Coding\\git_own\\thesis_coding\\.venv-thesis_coding-py3.10\\lib\\site-packages\\torch\\optim\\optimizer.py:487\u001b[0m, in \u001b[0;36mOptimizer.profile_hook_step.<locals>.wrapper\u001b[1;34m(*args, **kwargs)\u001b[0m\n\u001b[0;32m    482\u001b[0m         \u001b[38;5;28;01melse\u001b[39;00m:\n\u001b[0;32m    483\u001b[0m             \u001b[38;5;28;01mraise\u001b[39;00m \u001b[38;5;167;01mRuntimeError\u001b[39;00m(\n\u001b[0;32m    484\u001b[0m                 \u001b[38;5;124mf\u001b[39m\u001b[38;5;124m\"\u001b[39m\u001b[38;5;132;01m{\u001b[39;00mfunc\u001b[38;5;132;01m}\u001b[39;00m\u001b[38;5;124m must return None or a tuple of (new_args, new_kwargs), but got \u001b[39m\u001b[38;5;132;01m{\u001b[39;00mresult\u001b[38;5;132;01m}\u001b[39;00m\u001b[38;5;124m.\u001b[39m\u001b[38;5;124m\"\u001b[39m\n\u001b[0;32m    485\u001b[0m             )\n\u001b[1;32m--> 487\u001b[0m out \u001b[38;5;241m=\u001b[39m func(\u001b[38;5;241m*\u001b[39margs, \u001b[38;5;241m*\u001b[39m\u001b[38;5;241m*\u001b[39mkwargs)\n\u001b[0;32m    488\u001b[0m \u001b[38;5;28mself\u001b[39m\u001b[38;5;241m.\u001b[39m_optimizer_step_code()\n\u001b[0;32m    490\u001b[0m \u001b[38;5;66;03m# call optimizer step post hooks\u001b[39;00m\n",
      "File \u001b[1;32mc:\\Users\\csaba\\Documents\\Coding\\git_own\\thesis_coding\\.venv-thesis_coding-py3.10\\lib\\site-packages\\torch\\utils\\_contextlib.py:116\u001b[0m, in \u001b[0;36mcontext_decorator.<locals>.decorate_context\u001b[1;34m(*args, **kwargs)\u001b[0m\n\u001b[0;32m    113\u001b[0m \u001b[38;5;129m@functools\u001b[39m\u001b[38;5;241m.\u001b[39mwraps(func)\n\u001b[0;32m    114\u001b[0m \u001b[38;5;28;01mdef\u001b[39;00m \u001b[38;5;21mdecorate_context\u001b[39m(\u001b[38;5;241m*\u001b[39margs, \u001b[38;5;241m*\u001b[39m\u001b[38;5;241m*\u001b[39mkwargs):\n\u001b[0;32m    115\u001b[0m     \u001b[38;5;28;01mwith\u001b[39;00m ctx_factory():\n\u001b[1;32m--> 116\u001b[0m         \u001b[38;5;28;01mreturn\u001b[39;00m func(\u001b[38;5;241m*\u001b[39margs, \u001b[38;5;241m*\u001b[39m\u001b[38;5;241m*\u001b[39mkwargs)\n",
      "File \u001b[1;32mc:\\Users\\csaba\\Documents\\Coding\\git_own\\thesis_coding\\.venv-thesis_coding-py3.10\\lib\\site-packages\\torch\\optim\\sparse_adam.py:111\u001b[0m, in \u001b[0;36mSparseAdam.step\u001b[1;34m(self, closure)\u001b[0m\n\u001b[0;32m    108\u001b[0m             \u001b[38;5;66;03m# record the step after step update\u001b[39;00m\n\u001b[0;32m    109\u001b[0m             state_steps\u001b[38;5;241m.\u001b[39mappend(state[\u001b[38;5;124m\"\u001b[39m\u001b[38;5;124mstep\u001b[39m\u001b[38;5;124m\"\u001b[39m])\n\u001b[1;32m--> 111\u001b[0m     \u001b[43mF\u001b[49m\u001b[38;5;241;43m.\u001b[39;49m\u001b[43msparse_adam\u001b[49m\u001b[43m(\u001b[49m\n\u001b[0;32m    112\u001b[0m \u001b[43m        \u001b[49m\u001b[43mparams_with_grad\u001b[49m\u001b[43m,\u001b[49m\n\u001b[0;32m    113\u001b[0m \u001b[43m        \u001b[49m\u001b[43mgrads\u001b[49m\u001b[43m,\u001b[49m\n\u001b[0;32m    114\u001b[0m \u001b[43m        \u001b[49m\u001b[43mexp_avgs\u001b[49m\u001b[43m,\u001b[49m\n\u001b[0;32m    115\u001b[0m \u001b[43m        \u001b[49m\u001b[43mexp_avg_sqs\u001b[49m\u001b[43m,\u001b[49m\n\u001b[0;32m    116\u001b[0m \u001b[43m        \u001b[49m\u001b[43mstate_steps\u001b[49m\u001b[43m,\u001b[49m\n\u001b[0;32m    117\u001b[0m \u001b[43m        \u001b[49m\u001b[43meps\u001b[49m\u001b[38;5;241;43m=\u001b[39;49m\u001b[43mgroup\u001b[49m\u001b[43m[\u001b[49m\u001b[38;5;124;43m\"\u001b[39;49m\u001b[38;5;124;43meps\u001b[39;49m\u001b[38;5;124;43m\"\u001b[39;49m\u001b[43m]\u001b[49m\u001b[43m,\u001b[49m\n\u001b[0;32m    118\u001b[0m \u001b[43m        \u001b[49m\u001b[43mbeta1\u001b[49m\u001b[38;5;241;43m=\u001b[39;49m\u001b[43mbeta1\u001b[49m\u001b[43m,\u001b[49m\n\u001b[0;32m    119\u001b[0m \u001b[43m        \u001b[49m\u001b[43mbeta2\u001b[49m\u001b[38;5;241;43m=\u001b[39;49m\u001b[43mbeta2\u001b[49m\u001b[43m,\u001b[49m\n\u001b[0;32m    120\u001b[0m \u001b[43m        \u001b[49m\u001b[43mlr\u001b[49m\u001b[38;5;241;43m=\u001b[39;49m\u001b[43mgroup\u001b[49m\u001b[43m[\u001b[49m\u001b[38;5;124;43m\"\u001b[39;49m\u001b[38;5;124;43mlr\u001b[39;49m\u001b[38;5;124;43m\"\u001b[39;49m\u001b[43m]\u001b[49m\u001b[43m,\u001b[49m\n\u001b[0;32m    121\u001b[0m \u001b[43m        \u001b[49m\u001b[43mmaximize\u001b[49m\u001b[38;5;241;43m=\u001b[39;49m\u001b[43mmaximize\u001b[49m\u001b[43m,\u001b[49m\n\u001b[0;32m    122\u001b[0m \u001b[43m    \u001b[49m\u001b[43m)\u001b[49m\n\u001b[0;32m    124\u001b[0m \u001b[38;5;28;01mreturn\u001b[39;00m loss\n",
      "File \u001b[1;32mc:\\Users\\csaba\\Documents\\Coding\\git_own\\thesis_coding\\.venv-thesis_coding-py3.10\\lib\\site-packages\\torch\\optim\\_functional.py:44\u001b[0m, in \u001b[0;36msparse_adam\u001b[1;34m(params, grads, exp_avgs, exp_avg_sqs, state_steps, eps, beta1, beta2, lr, maximize)\u001b[0m\n\u001b[0;32m     42\u001b[0m grad \u001b[38;5;241m=\u001b[39m grads[i]\n\u001b[0;32m     43\u001b[0m grad \u001b[38;5;241m=\u001b[39m grad \u001b[38;5;28;01mif\u001b[39;00m \u001b[38;5;129;01mnot\u001b[39;00m maximize \u001b[38;5;28;01melse\u001b[39;00m \u001b[38;5;241m-\u001b[39mgrad\n\u001b[1;32m---> 44\u001b[0m grad \u001b[38;5;241m=\u001b[39m \u001b[43mgrad\u001b[49m\u001b[38;5;241;43m.\u001b[39;49m\u001b[43mcoalesce\u001b[49m\u001b[43m(\u001b[49m\u001b[43m)\u001b[49m  \u001b[38;5;66;03m# the update is non-linear so indices must be unique\u001b[39;00m\n\u001b[0;32m     45\u001b[0m grad_indices \u001b[38;5;241m=\u001b[39m grad\u001b[38;5;241m.\u001b[39m_indices()\n\u001b[0;32m     46\u001b[0m grad_values \u001b[38;5;241m=\u001b[39m grad\u001b[38;5;241m.\u001b[39m_values()\n",
      "\u001b[1;31mKeyboardInterrupt\u001b[0m: "
     ]
    }
   ],
   "source": [
    "num_training_epochs = 6 # Or 201, etc.\n",
    "\n",
    "best_state, training_history = training.model_training_n2v(\n",
    "    model,\n",
    "    model_init_params_q,\n",
    "    data,\n",
    "    loader,\n",
    "    optimizer,\n",
    "    num_training_epochs,\n",
    "    device,\n",
    "    model_save_path='./training_data/models/node2vec_' # Example save path\n",
    ")"
   ]
  },
  {
   "cell_type": "code",
   "execution_count": null,
   "id": "f508dc5a",
   "metadata": {},
   "outputs": [],
   "source": []
  },
  {
   "cell_type": "code",
   "execution_count": null,
   "id": "3535ee2c",
   "metadata": {},
   "outputs": [],
   "source": []
  },
  {
   "cell_type": "code",
   "execution_count": null,
   "id": "a010b9a5",
   "metadata": {},
   "outputs": [],
   "source": []
  }
 ],
 "metadata": {
  "kernelspec": {
   "display_name": ".venv-thesis_coding-py3.10",
   "language": "python",
   "name": "python3"
  },
  "language_info": {
   "codemirror_mode": {
    "name": "ipython",
    "version": 3
   },
   "file_extension": ".py",
   "mimetype": "text/x-python",
   "name": "python",
   "nbconvert_exporter": "python",
   "pygments_lexer": "ipython3",
   "version": "3.10.4"
  }
 },
 "nbformat": 4,
 "nbformat_minor": 5
}
