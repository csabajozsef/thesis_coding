{
 "cells": [
  {
   "cell_type": "code",
   "execution_count": 18,
   "id": "fbe09a09",
   "metadata": {},
   "outputs": [
    {
     "name": "stdout",
     "output_type": "stream",
     "text": [
      "Using device: cpu\n",
      "Random seed set to: 42\n",
      "p_values: [1, 2]\n",
      "q_values: [1, 2]\n"
     ]
    }
   ],
   "source": [
    "import importlib\n",
    "import sys\n",
    "\n",
    "sys.path.append('../')\n",
    "\n",
    "import training\n",
    "importlib.reload(training)\n",
    "import graph_vis\n",
    "importlib.reload(graph_vis)\n",
    "import graph_creation\n",
    "importlib.reload(graph_creation)\n",
    "import utils\n",
    "importlib.reload(utils)\n",
    "import train_n2v\n",
    "importlib.reload(train_n2v)\n",
    "\n",
    "import networkx as nx\n"
   ]
  },
  {
   "cell_type": "code",
   "execution_count": null,
   "id": "5a697c63",
   "metadata": {},
   "outputs": [
    {
     "name": "stdout",
     "output_type": "stream",
     "text": [
      "Using device: cpu\n",
      "Random seed set to: 42\n"
     ]
    }
   ],
   "source": [
    "device = utils.set_seeds_and_device() \n",
    "dataset,data = training.load_dataset('Cora', \"../training_data/datasets\")"
   ]
  },
  {
   "cell_type": "code",
   "execution_count": 20,
   "id": "093dcd6b",
   "metadata": {},
   "outputs": [],
   "source": [
    "data_list=[data]"
   ]
  },
  {
   "cell_type": "markdown",
   "id": "fdcf6ae0",
   "metadata": {},
   "source": [
    "#TODO\n",
    "[] make it optional to print all figures, default is only acc\n",
    "[] on figure: name of dataset and q and p params\n",
    "[] graph string modify to store creation function info for printing\n",
    "\n",
    "how do i make p and q changable?\n",
    "\n",
    "[x] grap info printout: redundant text off, make it more readable\n"
   ]
  },
  {
   "cell_type": "code",
   "execution_count": 21,
   "id": "dcd876ef",
   "metadata": {},
   "outputs": [
    {
     "name": "stdout",
     "output_type": "stream",
     "text": [
      "Running with p=1_q=2 = {'embedding_dim': 128, 'walk_length': 80, 'context_size': 10, 'walks_per_node': 10, 'num_negative_samples': 1, 'sparse': True, 'p': 1, 'q': 2}\n",
      "Model initialization parameters provided as dictionary.\n",
      "Model initialized\n",
      "Starting training for 12 epochs...\n"
     ]
    },
    {
     "name": "stderr",
     "output_type": "stream",
     "text": [
      "                                                                    \r"
     ]
    },
    {
     "name": "stdout",
     "output_type": "stream",
     "text": [
      "Epoch: 001, Loss: 7.5864, Acc: 0.1740, Duration: 166.53s\n",
      "Dataset name: load_dataset_Cora\n",
      "    New best model saved with accuracy: 0.1740\n"
     ]
    },
    {
     "name": "stderr",
     "output_type": "stream",
     "text": [
      "                                                                    \r"
     ]
    },
    {
     "name": "stdout",
     "output_type": "stream",
     "text": [
      "Epoch: 002, Loss: 5.2644, Acc: 0.2030, Duration: 173.81s\n",
      "Dataset name: load_dataset_Cora\n",
      "    New best model saved with accuracy: 0.2030\n"
     ]
    },
    {
     "name": "stderr",
     "output_type": "stream",
     "text": [
      "                                                                    \r"
     ]
    },
    {
     "name": "stdout",
     "output_type": "stream",
     "text": [
      "Epoch: 003, Loss: 4.0289, Acc: 0.2420, Duration: 155.93s\n",
      "Dataset name: load_dataset_Cora\n",
      "    New best model saved with accuracy: 0.2420\n"
     ]
    },
    {
     "name": "stderr",
     "output_type": "stream",
     "text": [
      "                                                                    \r"
     ]
    },
    {
     "name": "stdout",
     "output_type": "stream",
     "text": [
      "Epoch: 004, Loss: 3.1451, Acc: 0.2910, Duration: 157.44s\n",
      "Dataset name: load_dataset_Cora\n",
      "    New best model saved with accuracy: 0.2910\n"
     ]
    },
    {
     "name": "stderr",
     "output_type": "stream",
     "text": [
      "                                                                    \r"
     ]
    },
    {
     "name": "stdout",
     "output_type": "stream",
     "text": [
      "Epoch: 005, Loss: 2.5085, Acc: 0.3290, Duration: 120.59s\n",
      "Dataset name: load_dataset_Cora\n",
      "    New best model saved with accuracy: 0.3290\n"
     ]
    },
    {
     "name": "stderr",
     "output_type": "stream",
     "text": [
      "                                                                    \r"
     ]
    },
    {
     "name": "stdout",
     "output_type": "stream",
     "text": [
      "Epoch: 006, Loss: 2.0552, Acc: 0.3700, Duration: 104.97s\n",
      "Dataset name: load_dataset_Cora\n",
      "    New best model saved with accuracy: 0.3700\n"
     ]
    },
    {
     "name": "stderr",
     "output_type": "stream",
     "text": [
      "                                                                    \r"
     ]
    },
    {
     "name": "stdout",
     "output_type": "stream",
     "text": [
      "Epoch: 007, Loss: 1.7263, Acc: 0.3950, Duration: 102.59s\n",
      "Dataset name: load_dataset_Cora\n",
      "    New best model saved with accuracy: 0.3950\n"
     ]
    },
    {
     "name": "stderr",
     "output_type": "stream",
     "text": [
      "                                                                    \r"
     ]
    },
    {
     "name": "stdout",
     "output_type": "stream",
     "text": [
      "Epoch: 008, Loss: 1.4889, Acc: 0.4400, Duration: 93.67s\n",
      "Dataset name: load_dataset_Cora\n",
      "    New best model saved with accuracy: 0.4400\n"
     ]
    },
    {
     "name": "stderr",
     "output_type": "stream",
     "text": [
      "                                                                    \r"
     ]
    },
    {
     "name": "stdout",
     "output_type": "stream",
     "text": [
      "Epoch: 009, Loss: 1.3187, Acc: 0.4760, Duration: 91.69s\n",
      "Dataset name: load_dataset_Cora\n",
      "    New best model saved with accuracy: 0.4760\n"
     ]
    },
    {
     "name": "stderr",
     "output_type": "stream",
     "text": [
      "                                                                     \r"
     ]
    },
    {
     "name": "stdout",
     "output_type": "stream",
     "text": [
      "Epoch: 010, Loss: 1.1964, Acc: 0.5170, Duration: 109.31s\n",
      "Dataset name: load_dataset_Cora\n",
      "    New best model saved with accuracy: 0.5170\n"
     ]
    },
    {
     "name": "stderr",
     "output_type": "stream",
     "text": [
      "                                                                     \r"
     ]
    },
    {
     "name": "stdout",
     "output_type": "stream",
     "text": [
      "Epoch: 011, Loss: 1.1096, Acc: 0.5460, Duration: 114.28s\n",
      "Dataset name: load_dataset_Cora\n",
      "    New best model saved with accuracy: 0.5460\n"
     ]
    },
    {
     "name": "stderr",
     "output_type": "stream",
     "text": [
      "                                                                     \r"
     ]
    },
    {
     "name": "stdout",
     "output_type": "stream",
     "text": [
      "Epoch: 012, Loss: 1.0461, Acc: 0.5650, Duration: 117.03s\n",
      "Dataset name: load_dataset_Cora\n",
      "    New best model saved with accuracy: 0.5650\n",
      "\n",
      "Training finished.\n",
      "Total elapsed time: 1507.96 seconds\n",
      "Best test accuracy: 0.5650\n",
      "Best model state saved to '../training_data/models/'\n"
     ]
    },
    {
     "data": {
      "image/png": "[encoded data removed]",
      "text/plain": [
       "<Figure size 800x500 with 1 Axes>"
      ]
     },
     "metadata": {},
     "output_type": "display_data"
    },
    {
     "name": "stdout",
     "output_type": "stream",
     "text": [
      "Running with p=2_q=1 = {'embedding_dim': 128, 'walk_length': 80, 'context_size': 10, 'walks_per_node': 10, 'num_negative_samples': 1, 'sparse': True, 'p': 2, 'q': 1}\n",
      "Model initialization parameters provided as dictionary.\n",
      "Model initialized\n",
      "Starting training for 12 epochs...\n"
     ]
    },
    {
     "name": "stderr",
     "output_type": "stream",
     "text": [
      "                                                                    \r"
     ]
    },
    {
     "name": "stdout",
     "output_type": "stream",
     "text": [
      "Epoch: 001, Loss: 7.6813, Acc: 0.1670, Duration: 129.73s\n",
      "Dataset name: load_dataset_Cora\n",
      "    New best model saved with accuracy: 0.1670\n"
     ]
    },
    {
     "name": "stderr",
     "output_type": "stream",
     "text": [
      "                                                                    \r"
     ]
    },
    {
     "name": "stdout",
     "output_type": "stream",
     "text": [
      "Epoch: 002, Loss: 5.3149, Acc: 0.2190, Duration: 99.61s\n",
      "Dataset name: load_dataset_Cora\n",
      "    New best model saved with accuracy: 0.2190\n"
     ]
    },
    {
     "name": "stderr",
     "output_type": "stream",
     "text": [
      "                                                                    \r"
     ]
    },
    {
     "name": "stdout",
     "output_type": "stream",
     "text": [
      "Epoch: 003, Loss: 3.9999, Acc: 0.2630, Duration: 111.34s\n",
      "Dataset name: load_dataset_Cora\n",
      "    New best model saved with accuracy: 0.2630\n"
     ]
    },
    {
     "name": "stderr",
     "output_type": "stream",
     "text": [
      "                                                                    \r"
     ]
    },
    {
     "name": "stdout",
     "output_type": "stream",
     "text": [
      "Epoch: 004, Loss: 3.0870, Acc: 0.3180, Duration: 116.86s\n",
      "Dataset name: load_dataset_Cora\n",
      "    New best model saved with accuracy: 0.3180\n"
     ]
    },
    {
     "name": "stderr",
     "output_type": "stream",
     "text": [
      "                                                                    \r"
     ]
    },
    {
     "name": "stdout",
     "output_type": "stream",
     "text": [
      "Epoch: 005, Loss: 2.4444, Acc: 0.3560, Duration: 110.90s\n",
      "Dataset name: load_dataset_Cora\n",
      "    New best model saved with accuracy: 0.3560\n"
     ]
    },
    {
     "name": "stderr",
     "output_type": "stream",
     "text": [
      "                                                                    \r"
     ]
    },
    {
     "name": "stdout",
     "output_type": "stream",
     "text": [
      "Epoch: 006, Loss: 1.9885, Acc: 0.3960, Duration: 119.01s\n",
      "Dataset name: load_dataset_Cora\n",
      "    New best model saved with accuracy: 0.3960\n"
     ]
    },
    {
     "name": "stderr",
     "output_type": "stream",
     "text": [
      "                                                                    \r"
     ]
    },
    {
     "name": "stdout",
     "output_type": "stream",
     "text": [
      "Epoch: 007, Loss: 1.6722, Acc: 0.4330, Duration: 113.23s\n",
      "Dataset name: load_dataset_Cora\n",
      "    New best model saved with accuracy: 0.4330\n"
     ]
    },
    {
     "name": "stderr",
     "output_type": "stream",
     "text": [
      "                                                                    \r"
     ]
    },
    {
     "name": "stdout",
     "output_type": "stream",
     "text": [
      "Epoch: 008, Loss: 1.4445, Acc: 0.4760, Duration: 101.96s\n",
      "Dataset name: load_dataset_Cora\n",
      "    New best model saved with accuracy: 0.4760\n"
     ]
    },
    {
     "name": "stderr",
     "output_type": "stream",
     "text": [
      "                                                                    \r"
     ]
    },
    {
     "name": "stdout",
     "output_type": "stream",
     "text": [
      "Epoch: 009, Loss: 1.2869, Acc: 0.5120, Duration: 111.62s\n",
      "Dataset name: load_dataset_Cora\n",
      "    New best model saved with accuracy: 0.5120\n"
     ]
    },
    {
     "name": "stderr",
     "output_type": "stream",
     "text": [
      "                                                                     \r"
     ]
    },
    {
     "name": "stdout",
     "output_type": "stream",
     "text": [
      "Epoch: 010, Loss: 1.1733, Acc: 0.5410, Duration: 109.57s\n",
      "Dataset name: load_dataset_Cora\n",
      "    New best model saved with accuracy: 0.5410\n"
     ]
    },
    {
     "name": "stderr",
     "output_type": "stream",
     "text": [
      "                                                                     \r"
     ]
    },
    {
     "name": "stdout",
     "output_type": "stream",
     "text": [
      "Epoch: 011, Loss: 1.0940, Acc: 0.5780, Duration: 96.71s\n",
      "Dataset name: load_dataset_Cora\n",
      "    New best model saved with accuracy: 0.5780\n"
     ]
    },
    {
     "name": "stderr",
     "output_type": "stream",
     "text": [
      "                                                                     \r"
     ]
    },
    {
     "name": "stdout",
     "output_type": "stream",
     "text": [
      "Epoch: 012, Loss: 1.0373, Acc: 0.6140, Duration: 88.34s\n",
      "Dataset name: load_dataset_Cora\n",
      "    New best model saved with accuracy: 0.6140\n",
      "\n",
      "Training finished.\n",
      "Total elapsed time: 1308.98 seconds\n",
      "Best test accuracy: 0.6140\n",
      "Best model state saved to '../training_data/models/'\n"
     ]
    },
    {
     "data": {
      "image/png": "[encoded data removed]",
      "text/plain": [
       "<Figure size 800x500 with 1 Axes>"
      ]
     },
     "metadata": {},
     "output_type": "display_data"
    }
   ],
   "source": [
    "train_n2v.train_node2vecs(data_list, 12)"
   ]
  }
 ],
 "metadata": {
  "kernelspec": {
   "display_name": ".venv-thesis_coding-py3.10",
   "language": "python",
   "name": "python3"
  },
  "language_info": {
   "codemirror_mode": {
    "name": "ipython",
    "version": 3
   },
   "file_extension": ".py",
   "mimetype": "text/x-python",
   "name": "python",
   "nbconvert_exporter": "python",
   "pygments_lexer": "ipython3",
   "version": "3.10.4"
  }
 },
 "nbformat": 4,
 "nbformat_minor": 5
}
