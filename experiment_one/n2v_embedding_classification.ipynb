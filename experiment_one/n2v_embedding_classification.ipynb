{
 "cells": [
  {
   "cell_type": "code",
   "execution_count": 44,
   "id": "4ebe5d2c",
   "metadata": {},
   "outputs": [],
   "source": [
    "# Imports\n",
    "import torch\n",
    "import torch_cluster\n",
    "from torch_geometric.nn import Node2Vec\n",
    "from torch_geometric.datasets import Planetoid\n",
    "from torchsummary import summary\n",
    "from tqdm.notebook import tqdm\n",
    "\n",
    "import ogb\n",
    "# print(ogb.__version__)\n",
    "\n",
    "import matplotlib.pyplot as plt\n",
    "import plotly.express as px\n",
    "import networkx as nx\n",
    "import pandas as pd\n",
    "import numpy as np\n",
    "from sklearn.manifold import TSNE\n",
    "\n",
    "import time\n",
    "import json\n",
    "import copy\n",
    "import random\n",
    "import os.path as osp\n",
    "from pprint import pprint\n",
    "\n",
    "import importlib\n",
    "import sys\n",
    "\n",
    "sys.path.append('../')\n",
    "\n",
    "import training\n",
    "importlib.reload(training)\n",
    "import graph_vis\n",
    "importlib.reload(graph_vis)\n",
    "import graph_creation\n",
    "importlib.reload(graph_creation)\n",
    "import utils\n",
    "importlib.reload(utils)\n",
    "\n",
    "from ogb.nodeproppred import Evaluator\n",
    "from sklearn.linear_model import LogisticRegression\n",
    "from sklearn.metrics import accuracy_score"
   ]
  },
  {
   "cell_type": "code",
   "execution_count": 45,
   "metadata": {},
   "outputs": [
    {
     "name": "stdout",
     "output_type": "stream",
     "text": [
      "Using device: cpu\n",
      "Random seed set to: 42\n"
     ]
    }
   ],
   "source": [
    "device = utils.set_seeds_and_device() \n",
    "dataset_cora,data_cora = training.load_dataset('Cora', \"../training_data/datasets\")"
   ]
  },
  {
   "cell_type": "code",
   "execution_count": 38,
   "metadata": {},
   "outputs": [
    {
     "name": "stdout",
     "output_type": "stream",
     "text": [
      "p_values: [1, 2]\n",
      "q_values: [1, 2]\n"
     ]
    }
   ],
   "source": [
    "parameter_dicts = training.create_parameters_dict()"
   ]
  },
  {
   "cell_type": "code",
   "execution_count": 39,
   "id": "d6ef9390",
   "metadata": {},
   "outputs": [],
   "source": [
    "parameter_dict = {\n",
    "            \"embedding_dim\": 128,\n",
    "            \"walk_length\": 80,\n",
    "            \"context_size\": 10,\n",
    "            \"walks_per_node\": 10,\n",
    "            \"num_negative_samples\": 1,\n",
    "            \"sparse\": True,\n",
    "            \"q\":1,\n",
    "            \"p\":1\n",
    "        }\n",
    "# d = 128, r = 10, l = 80, k = 10"
   ]
  },
  {
   "cell_type": "code",
   "execution_count": 40,
   "metadata": {},
   "outputs": [
    {
     "name": "stdout",
     "output_type": "stream",
     "text": [
      "Model initialization parameters provided as dictionary.\n",
      "Model initialized\n",
      "Starting training for 12 epochs...\n"
     ]
    },
    {
     "name": "stderr",
     "output_type": "stream",
     "text": [
      "Epoch 1/12 Training:   0%|          | 0/22 [00:00<?, ?it/s]"
     ]
    },
    {
     "name": "stderr",
     "output_type": "stream",
     "text": [
      "                                                                    \r"
     ]
    },
    {
     "name": "stdout",
     "output_type": "stream",
     "text": [
      "Epoch: 001, Loss: 7.7227, Acc: 0.1790, Duration: 98.66s\n",
      "Dataset name: load_dataset_Cora\n",
      "    New best model saved with accuracy: 0.1790\n"
     ]
    },
    {
     "name": "stderr",
     "output_type": "stream",
     "text": [
      "                                                                    \r"
     ]
    },
    {
     "name": "stdout",
     "output_type": "stream",
     "text": [
      "Epoch: 002, Loss: 5.2896, Acc: 0.2220, Duration: 93.58s\n",
      "Dataset name: load_dataset_Cora\n",
      "    New best model saved with accuracy: 0.2220\n"
     ]
    },
    {
     "name": "stderr",
     "output_type": "stream",
     "text": [
      "                                                                    \r"
     ]
    },
    {
     "name": "stdout",
     "output_type": "stream",
     "text": [
      "Epoch: 003, Loss: 3.9534, Acc: 0.2750, Duration: 87.01s\n",
      "Dataset name: load_dataset_Cora\n",
      "    New best model saved with accuracy: 0.2750\n"
     ]
    },
    {
     "name": "stderr",
     "output_type": "stream",
     "text": [
      "                                                                    \r"
     ]
    },
    {
     "name": "stdout",
     "output_type": "stream",
     "text": [
      "Epoch: 004, Loss: 3.0288, Acc: 0.3300, Duration: 85.61s\n",
      "Dataset name: load_dataset_Cora\n",
      "    New best model saved with accuracy: 0.3300\n"
     ]
    },
    {
     "name": "stderr",
     "output_type": "stream",
     "text": [
      "                                                                    \r"
     ]
    },
    {
     "name": "stdout",
     "output_type": "stream",
     "text": [
      "Epoch: 005, Loss: 2.3910, Acc: 0.3760, Duration: 88.46s\n",
      "Dataset name: load_dataset_Cora\n",
      "    New best model saved with accuracy: 0.3760\n"
     ]
    },
    {
     "name": "stderr",
     "output_type": "stream",
     "text": [
      "                                                                    \r"
     ]
    },
    {
     "name": "stdout",
     "output_type": "stream",
     "text": [
      "Epoch: 006, Loss: 1.9512, Acc: 0.4200, Duration: 86.39s\n",
      "Dataset name: load_dataset_Cora\n",
      "    New best model saved with accuracy: 0.4200\n"
     ]
    },
    {
     "name": "stderr",
     "output_type": "stream",
     "text": [
      "                                                                    \r"
     ]
    },
    {
     "name": "stdout",
     "output_type": "stream",
     "text": [
      "Epoch: 007, Loss: 1.6414, Acc: 0.4520, Duration: 113.79s\n",
      "Dataset name: load_dataset_Cora\n",
      "    New best model saved with accuracy: 0.4520\n"
     ]
    },
    {
     "name": "stderr",
     "output_type": "stream",
     "text": [
      "                                                                    \r"
     ]
    },
    {
     "name": "stdout",
     "output_type": "stream",
     "text": [
      "Epoch: 008, Loss: 1.4234, Acc: 0.4940, Duration: 140.16s\n",
      "Dataset name: load_dataset_Cora\n",
      "    New best model saved with accuracy: 0.4940\n"
     ]
    },
    {
     "name": "stderr",
     "output_type": "stream",
     "text": [
      "                                                                    \r"
     ]
    },
    {
     "name": "stdout",
     "output_type": "stream",
     "text": [
      "Epoch: 009, Loss: 1.2692, Acc: 0.5350, Duration: 135.41s\n",
      "Dataset name: load_dataset_Cora\n",
      "    New best model saved with accuracy: 0.5350\n"
     ]
    },
    {
     "name": "stderr",
     "output_type": "stream",
     "text": [
      "                                                                     \r"
     ]
    },
    {
     "name": "stdout",
     "output_type": "stream",
     "text": [
      "Epoch: 010, Loss: 1.1619, Acc: 0.5590, Duration: 150.04s\n",
      "Dataset name: load_dataset_Cora\n",
      "    New best model saved with accuracy: 0.5590\n"
     ]
    },
    {
     "name": "stderr",
     "output_type": "stream",
     "text": [
      "                                                                     \r"
     ]
    },
    {
     "name": "stdout",
     "output_type": "stream",
     "text": [
      "Epoch: 011, Loss: 1.0859, Acc: 0.5850, Duration: 155.26s\n",
      "Dataset name: load_dataset_Cora\n",
      "    New best model saved with accuracy: 0.5850\n"
     ]
    },
    {
     "name": "stderr",
     "output_type": "stream",
     "text": [
      "                                                                     \r"
     ]
    },
    {
     "name": "stdout",
     "output_type": "stream",
     "text": [
      "Epoch: 012, Loss: 1.0315, Acc: 0.6130, Duration: 87.56s\n",
      "Dataset name: load_dataset_Cora\n",
      "    New best model saved with accuracy: 0.6130\n",
      "\n",
      "Training finished.\n",
      "Total elapsed time: 1322.06 seconds\n",
      "Best test accuracy: 0.6130\n",
      "Best model state saved to '../training_data/models/node2vec_'\n"
     ]
    },
    {
     "data": {
      "image/png": "[encoded data removed]",
      "text/plain": [
       "<Figure size 800x500 with 1 Axes>"
      ]
     },
     "metadata": {},
     "output_type": "display_data"
    }
   ],
   "source": [
    "model = training.model_init(parameter_dict,data_cora)\n",
    "\n",
    "loader, optimizer = training.set_loader_and_optimizer(model)\n",
    "num_training_epochs = 12 # Or 201, etc.\n",
    "\n",
    "best_state, training_history = training.model_training_n2v(\n",
    "    model,\n",
    "    value,\n",
    "    data_cora,\n",
    "    loader,\n",
    "    optimizer,\n",
    "    num_training_epochs,\n",
    "    device,\n",
    "    model_save_path='../training_data/models/node2vec_' # Example save path\n",
    ")\n"
   ]
  },
  {
   "cell_type": "code",
   "execution_count": 41,
   "id": "a7dee4f4",
   "metadata": {},
   "outputs": [
    {
     "data": {
      "text/plain": [
       "array([[-0.0896158 , -0.02676183,  0.06665601, ..., -0.38822493,\n",
       "        -0.1638581 ,  0.20148337],\n",
       "       [ 0.17415878,  0.07677878,  0.02922594, ...,  0.02761813,\n",
       "        -0.00942727,  0.2128463 ],\n",
       "       [-0.00661261, -0.08968952, -0.14136557, ..., -0.4079645 ,\n",
       "         0.16520293, -0.24594106],\n",
       "       ...,\n",
       "       [-0.24104118,  0.01914842,  0.18580168, ...,  0.16415647,\n",
       "        -0.12393414, -0.2506943 ],\n",
       "       [ 0.0269185 ,  0.18349303, -0.28364033, ..., -0.00320607,\n",
       "        -0.29969165,  0.77112216],\n",
       "       [-0.0437653 ,  0.07954367, -0.17781338, ...,  0.20148318,\n",
       "        -0.25368056,  0.35772333]], shape=(2708, 128), dtype=float32)"
      ]
     },
     "execution_count": 41,
     "metadata": {},
     "output_type": "execute_result"
    }
   ],
   "source": [
    "model.eval()\n",
    "with torch.no_grad():\n",
    "    embeddings = model.embedding.weight.cpu().numpy()\n",
    "\n",
    "embeddings"
   ]
  },
  {
   "cell_type": "code",
   "execution_count": 42,
   "id": "a3b365b4",
   "metadata": {},
   "outputs": [
    {
     "name": "stdout",
     "output_type": "stream",
     "text": [
      "\n",
      "Training Logistic Regression...\n",
      "Logistic Regression Test accuracy: 0.7362\n",
      "              precision    recall  f1-score   support\n",
      "\n",
      "           0       0.67      0.69      0.68        70\n",
      "           1       0.72      0.77      0.74        43\n",
      "           2       0.91      0.89      0.90        84\n",
      "           3       0.72      0.70      0.71       164\n",
      "           4       0.70      0.68      0.69        85\n",
      "           5       0.74      0.75      0.74        60\n",
      "           6       0.66      0.69      0.68        36\n",
      "\n",
      "    accuracy                           0.74       542\n",
      "   macro avg       0.73      0.74      0.73       542\n",
      "weighted avg       0.74      0.74      0.74       542\n",
      "\n",
      "\n",
      "Training SVM...\n",
      "SVM Test accuracy: 0.7620\n",
      "              precision    recall  f1-score   support\n",
      "\n",
      "           0       0.70      0.70      0.70        70\n",
      "           1       0.84      0.74      0.79        43\n",
      "           2       0.92      0.92      0.92        84\n",
      "           3       0.67      0.87      0.76       164\n",
      "           4       0.87      0.62      0.73        85\n",
      "           5       0.79      0.68      0.73        60\n",
      "           6       0.78      0.50      0.61        36\n",
      "\n",
      "    accuracy                           0.76       542\n",
      "   macro avg       0.80      0.72      0.75       542\n",
      "weighted avg       0.78      0.76      0.76       542\n",
      "\n",
      "\n",
      "Training KNN...\n",
      "KNN Test accuracy: 0.6771\n",
      "              precision    recall  f1-score   support\n",
      "\n",
      "           0       0.49      0.77      0.60        70\n",
      "           1       0.73      0.74      0.74        43\n",
      "           2       0.77      0.92      0.84        84\n",
      "           3       0.70      0.72      0.71       164\n",
      "           4       0.79      0.48      0.60        85\n",
      "           5       0.67      0.55      0.61        60\n",
      "           6       0.67      0.33      0.44        36\n",
      "\n",
      "    accuracy                           0.68       542\n",
      "   macro avg       0.69      0.65      0.65       542\n",
      "weighted avg       0.69      0.68      0.67       542\n",
      "\n",
      "\n",
      "Training Decision Tree...\n",
      "Decision Tree Test accuracy: 0.4096\n",
      "              precision    recall  f1-score   support\n",
      "\n",
      "           0       0.34      0.31      0.33        70\n",
      "           1       0.31      0.37      0.34        43\n",
      "           2       0.67      0.67      0.67        84\n",
      "           3       0.48      0.43      0.46       164\n",
      "           4       0.29      0.36      0.32        85\n",
      "           5       0.33      0.32      0.32        60\n",
      "           6       0.25      0.19      0.22        36\n",
      "\n",
      "    accuracy                           0.41       542\n",
      "   macro avg       0.38      0.38      0.38       542\n",
      "weighted avg       0.41      0.41      0.41       542\n",
      "\n",
      "\n",
      "Training Random Forest...\n",
      "Random Forest Test accuracy: 0.6974\n",
      "              precision    recall  f1-score   support\n",
      "\n",
      "           0       0.70      0.60      0.65        70\n",
      "           1       0.79      0.70      0.74        43\n",
      "           2       0.88      0.86      0.87        84\n",
      "           3       0.59      0.92      0.72       164\n",
      "           4       0.80      0.53      0.64        85\n",
      "           5       0.68      0.47      0.55        60\n",
      "           6       0.91      0.28      0.43        36\n",
      "\n",
      "    accuracy                           0.70       542\n",
      "   macro avg       0.77      0.62      0.66       542\n",
      "weighted avg       0.73      0.70      0.69       542\n",
      "\n",
      "\n",
      "Training Gradient Boosting...\n",
      "Gradient Boosting Test accuracy: 0.7269\n",
      "              precision    recall  f1-score   support\n",
      "\n",
      "           0       0.61      0.67      0.64        70\n",
      "           1       0.82      0.77      0.80        43\n",
      "           2       0.88      0.85      0.86        84\n",
      "           3       0.67      0.81      0.73       164\n",
      "           4       0.76      0.61      0.68        85\n",
      "           5       0.77      0.67      0.71        60\n",
      "           6       0.69      0.50      0.58        36\n",
      "\n",
      "    accuracy                           0.73       542\n",
      "   macro avg       0.74      0.70      0.71       542\n",
      "weighted avg       0.73      0.73      0.73       542\n",
      "\n",
      "\n",
      "Training MLP...\n",
      "MLP Test accuracy: 0.7435\n",
      "              precision    recall  f1-score   support\n",
      "\n",
      "           0       0.60      0.67      0.64        70\n",
      "           1       0.76      0.79      0.77        43\n",
      "           2       0.88      0.88      0.88        84\n",
      "           3       0.75      0.71      0.73       164\n",
      "           4       0.77      0.74      0.75        85\n",
      "           5       0.73      0.72      0.72        60\n",
      "           6       0.68      0.69      0.68        36\n",
      "\n",
      "    accuracy                           0.74       542\n",
      "   macro avg       0.74      0.74      0.74       542\n",
      "weighted avg       0.75      0.74      0.74       542\n",
      "\n",
      "\n",
      "Model Comparison Summary:\n",
      "              Model  Test Accuracy\n",
      "                SVM       0.761993\n",
      "                MLP       0.743542\n",
      "Logistic Regression       0.736162\n",
      "  Gradient Boosting       0.726937\n",
      "      Random Forest       0.697417\n",
      "                KNN       0.677122\n",
      "      Decision Tree       0.409594\n"
     ]
    }
   ],
   "source": [
    "from sklearn.linear_model import LogisticRegression\n",
    "from sklearn.svm import SVC\n",
    "from sklearn.neighbors import KNeighborsClassifier\n",
    "from sklearn.tree import DecisionTreeClassifier\n",
    "from sklearn.ensemble import RandomForestClassifier, GradientBoostingClassifier\n",
    "from sklearn.neural_network import MLPClassifier\n",
    "from sklearn.model_selection import train_test_split\n",
    "from sklearn.metrics import accuracy_score, classification_report\n",
    "import pandas as pd\n",
    "\n",
    "# X = embeddings from Node2Vec\n",
    "X = embeddings\n",
    "y = data_cora.y.cpu().numpy()\n",
    "\n",
    "# Train/test split\n",
    "X_train, X_test, y_train, y_test = train_test_split(\n",
    "    X, y, test_size=0.2, random_state=42, stratify=y\n",
    ")\n",
    "\n",
    "models = {\n",
    "    \"Logistic Regression\": LogisticRegression(max_iter=1000),\n",
    "    \"SVM\": SVC(),\n",
    "    \"KNN\": KNeighborsClassifier(),\n",
    "    \"Decision Tree\": DecisionTreeClassifier(),\n",
    "    \"Random Forest\": RandomForestClassifier(random_state=42),\n",
    "    \"Gradient Boosting\": GradientBoostingClassifier(),\n",
    "    \"MLP\": MLPClassifier(max_iter=500)\n",
    "}\n",
    "\n",
    "results = {}\n",
    "\n",
    "for name, model in models.items():\n",
    "    try:\n",
    "        print(f\"\\nTraining {name}...\")\n",
    "        model.fit(X_train, y_train)\n",
    "        y_pred = model.predict(X_test)\n",
    "        acc = accuracy_score(y_test, y_pred)\n",
    "        print(f\"{name} Test accuracy: {acc:.4f}\")\n",
    "        print(classification_report(y_test, y_pred))\n",
    "        results[name] = acc\n",
    "    except Exception as e:\n",
    "        print(f\"{name} failed: {e}\")\n",
    "\n",
    "# Summary table\n",
    "results_df = pd.DataFrame(list(results.items()), columns=[\"Model\", \"Test Accuracy\"])\n",
    "print(\"\\nModel Comparison Summary:\")\n",
    "print(results_df.sort_values(by=\"Test Accuracy\", ascending=False).to_string(index=False))"
   ]
  },
  {
   "cell_type": "code",
   "execution_count": null,
   "metadata": {},
   "outputs": [],
   "source": []
  }
 ],
 "metadata": {
  "kernelspec": {
   "display_name": ".venv-thesis_coding-py3.10",
   "language": "python",
   "name": "python3"
  },
  "language_info": {
   "codemirror_mode": {
    "name": "ipython",
    "version": 3
   },
   "file_extension": ".py",
   "mimetype": "text/x-python",
   "name": "python",
   "nbconvert_exporter": "python",
   "pygments_lexer": "ipython3",
   "version": "3.10.4"
  }
 },
 "nbformat": 4,
 "nbformat_minor": 5
}
